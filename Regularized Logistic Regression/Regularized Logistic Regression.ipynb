{
 "cells": [
  {
   "cell_type": "code",
   "execution_count": 1,
   "id": "ceacab1c",
   "metadata": {},
   "outputs": [],
   "source": [
    "import numpy as np\n",
    "import matplotlib.pyplot as plt\n",
    "import pandas as pd"
   ]
  },
  {
   "cell_type": "code",
   "execution_count": 2,
   "id": "e42aab7a",
   "metadata": {},
   "outputs": [],
   "source": [
    "reglog_regdata = pd.read_csv(r\"./RegularizedLogisticRegression.txt\")"
   ]
  },
  {
   "cell_type": "code",
   "execution_count": 3,
   "id": "84cdb924",
   "metadata": {},
   "outputs": [
    {
     "data": {
      "text/html": [
       "<div>\n",
       "<style scoped>\n",
       "    .dataframe tbody tr th:only-of-type {\n",
       "        vertical-align: middle;\n",
       "    }\n",
       "\n",
       "    .dataframe tbody tr th {\n",
       "        vertical-align: top;\n",
       "    }\n",
       "\n",
       "    .dataframe thead th {\n",
       "        text-align: right;\n",
       "    }\n",
       "</style>\n",
       "<table border=\"1\" class=\"dataframe\">\n",
       "  <thead>\n",
       "    <tr style=\"text-align: right;\">\n",
       "      <th></th>\n",
       "      <th>Test-1 Score</th>\n",
       "      <th>test-2 Score</th>\n",
       "      <th>Output</th>\n",
       "    </tr>\n",
       "  </thead>\n",
       "  <tbody>\n",
       "    <tr>\n",
       "      <th>0</th>\n",
       "      <td>0.051267</td>\n",
       "      <td>0.699560</td>\n",
       "      <td>1</td>\n",
       "    </tr>\n",
       "    <tr>\n",
       "      <th>1</th>\n",
       "      <td>-0.092742</td>\n",
       "      <td>0.684940</td>\n",
       "      <td>1</td>\n",
       "    </tr>\n",
       "    <tr>\n",
       "      <th>2</th>\n",
       "      <td>-0.213710</td>\n",
       "      <td>0.692250</td>\n",
       "      <td>1</td>\n",
       "    </tr>\n",
       "    <tr>\n",
       "      <th>3</th>\n",
       "      <td>-0.375000</td>\n",
       "      <td>0.502190</td>\n",
       "      <td>1</td>\n",
       "    </tr>\n",
       "    <tr>\n",
       "      <th>4</th>\n",
       "      <td>-0.513250</td>\n",
       "      <td>0.465640</td>\n",
       "      <td>1</td>\n",
       "    </tr>\n",
       "    <tr>\n",
       "      <th>...</th>\n",
       "      <td>...</td>\n",
       "      <td>...</td>\n",
       "      <td>...</td>\n",
       "    </tr>\n",
       "    <tr>\n",
       "      <th>113</th>\n",
       "      <td>-0.720620</td>\n",
       "      <td>0.538740</td>\n",
       "      <td>0</td>\n",
       "    </tr>\n",
       "    <tr>\n",
       "      <th>114</th>\n",
       "      <td>-0.593890</td>\n",
       "      <td>0.494880</td>\n",
       "      <td>0</td>\n",
       "    </tr>\n",
       "    <tr>\n",
       "      <th>115</th>\n",
       "      <td>-0.484450</td>\n",
       "      <td>0.999270</td>\n",
       "      <td>0</td>\n",
       "    </tr>\n",
       "    <tr>\n",
       "      <th>116</th>\n",
       "      <td>-0.006336</td>\n",
       "      <td>0.999270</td>\n",
       "      <td>0</td>\n",
       "    </tr>\n",
       "    <tr>\n",
       "      <th>117</th>\n",
       "      <td>0.632650</td>\n",
       "      <td>-0.030612</td>\n",
       "      <td>0</td>\n",
       "    </tr>\n",
       "  </tbody>\n",
       "</table>\n",
       "<p>118 rows × 3 columns</p>\n",
       "</div>"
      ],
      "text/plain": [
       "     Test-1 Score  test-2 Score   Output\n",
       "0        0.051267      0.699560        1\n",
       "1       -0.092742      0.684940        1\n",
       "2       -0.213710      0.692250        1\n",
       "3       -0.375000      0.502190        1\n",
       "4       -0.513250      0.465640        1\n",
       "..            ...           ...      ...\n",
       "113     -0.720620      0.538740        0\n",
       "114     -0.593890      0.494880        0\n",
       "115     -0.484450      0.999270        0\n",
       "116     -0.006336      0.999270        0\n",
       "117      0.632650     -0.030612        0\n",
       "\n",
       "[118 rows x 3 columns]"
      ]
     },
     "execution_count": 3,
     "metadata": {},
     "output_type": "execute_result"
    }
   ],
   "source": [
    "reglog_regdata"
   ]
  },
  {
   "cell_type": "code",
   "execution_count": 4,
   "id": "92f0cc37",
   "metadata": {},
   "outputs": [
    {
     "data": {
      "text/html": [
       "<div>\n",
       "<style scoped>\n",
       "    .dataframe tbody tr th:only-of-type {\n",
       "        vertical-align: middle;\n",
       "    }\n",
       "\n",
       "    .dataframe tbody tr th {\n",
       "        vertical-align: top;\n",
       "    }\n",
       "\n",
       "    .dataframe thead th {\n",
       "        text-align: right;\n",
       "    }\n",
       "</style>\n",
       "<table border=\"1\" class=\"dataframe\">\n",
       "  <thead>\n",
       "    <tr style=\"text-align: right;\">\n",
       "      <th></th>\n",
       "      <th>Test-1 Score</th>\n",
       "      <th>test-2 Score</th>\n",
       "      <th>Output</th>\n",
       "    </tr>\n",
       "  </thead>\n",
       "  <tbody>\n",
       "    <tr>\n",
       "      <th>count</th>\n",
       "      <td>118.000000</td>\n",
       "      <td>118.000000</td>\n",
       "      <td>118.000000</td>\n",
       "    </tr>\n",
       "    <tr>\n",
       "      <th>mean</th>\n",
       "      <td>0.054779</td>\n",
       "      <td>0.183102</td>\n",
       "      <td>0.491525</td>\n",
       "    </tr>\n",
       "    <tr>\n",
       "      <th>std</th>\n",
       "      <td>0.496654</td>\n",
       "      <td>0.519743</td>\n",
       "      <td>0.502060</td>\n",
       "    </tr>\n",
       "    <tr>\n",
       "      <th>min</th>\n",
       "      <td>-0.830070</td>\n",
       "      <td>-0.769740</td>\n",
       "      <td>0.000000</td>\n",
       "    </tr>\n",
       "    <tr>\n",
       "      <th>25%</th>\n",
       "      <td>-0.372120</td>\n",
       "      <td>-0.254385</td>\n",
       "      <td>0.000000</td>\n",
       "    </tr>\n",
       "    <tr>\n",
       "      <th>50%</th>\n",
       "      <td>-0.006336</td>\n",
       "      <td>0.213455</td>\n",
       "      <td>0.000000</td>\n",
       "    </tr>\n",
       "    <tr>\n",
       "      <th>75%</th>\n",
       "      <td>0.478970</td>\n",
       "      <td>0.646563</td>\n",
       "      <td>1.000000</td>\n",
       "    </tr>\n",
       "    <tr>\n",
       "      <th>max</th>\n",
       "      <td>1.070900</td>\n",
       "      <td>1.108900</td>\n",
       "      <td>1.000000</td>\n",
       "    </tr>\n",
       "  </tbody>\n",
       "</table>\n",
       "</div>"
      ],
      "text/plain": [
       "       Test-1 Score  test-2 Score      Output\n",
       "count    118.000000    118.000000  118.000000\n",
       "mean       0.054779      0.183102    0.491525\n",
       "std        0.496654      0.519743    0.502060\n",
       "min       -0.830070     -0.769740    0.000000\n",
       "25%       -0.372120     -0.254385    0.000000\n",
       "50%       -0.006336      0.213455    0.000000\n",
       "75%        0.478970      0.646563    1.000000\n",
       "max        1.070900      1.108900    1.000000"
      ]
     },
     "execution_count": 4,
     "metadata": {},
     "output_type": "execute_result"
    }
   ],
   "source": [
    "reglog_regdata.describe()"
   ]
  },
  {
   "cell_type": "code",
   "execution_count": 5,
   "id": "148b5601",
   "metadata": {},
   "outputs": [],
   "source": [
    "def plot_fn(X,Y,length):\n",
    "    positive = (Y==1).reshape(length,1)\n",
    "    negative = (Y==0).reshape(length,1)\n",
    "    plt.scatter(X[positive[:,0],0],X[positive[:,0],1],c=\"r\",marker='x')\n",
    "    plt.scatter(X[negative[:,0],0],X[negative[:,0],1],c=\"b\",marker='o')\n",
    "    plt.xlabel(\"Test-1 Score\")\n",
    "    plt.ylabel(\"Test-2 Score\")\n",
    "    plt.title(\"Visualization Plot between Test 1 and Test 2\")\n",
    "    #plt.legend([\"Admitted\",\"Not Admitted\"])\n",
    "    plt.show()"
   ]
  },
  {
   "cell_type": "code",
   "execution_count": 6,
   "id": "5c91c7dd",
   "metadata": {},
   "outputs": [
    {
     "data": {
      "image/png": "[encoded data removed]",
      "text/plain": [
       "<Figure size 432x288 with 1 Axes>"
      ]
     },
     "metadata": {
      "needs_background": "light"
     },
     "output_type": "display_data"
    }
   ],
   "source": [
    "log_reg_data = reglog_regdata.values\n",
    "X = log_reg_data[:,0:log_reg_data.shape[1]-1]\n",
    "y = log_reg_data[:,-1]\n",
    "X1 = log_reg_data[:,0:log_reg_data.shape[1]-1]\n",
    "length = len(y)\n",
    "plot_fn(X,y,length)"
   ]
  },
  {
   "cell_type": "code",
   "execution_count": 7,
   "id": "275b4872",
   "metadata": {},
   "outputs": [],
   "source": [
    "def Sigmoid_fn(Z):\n",
    "    return(1/(1 + np.exp(-Z)))"
   ]
  },
  {
   "cell_type": "code",
   "execution_count": 8,
   "id": "c1108e77",
   "metadata": {},
   "outputs": [],
   "source": [
    "def Prediction(X,weights):\n",
    "    Z = np.dot(X,weights)\n",
    "    y_hat = Sigmoid_fn(Z)\n",
    "    return y_hat"
   ]
  },
  {
   "cell_type": "code",
   "execution_count": 9,
   "id": "204fab95",
   "metadata": {},
   "outputs": [],
   "source": [
    "def Compute_cost(y,y_hat,weights,regfactor,m):\n",
    "    J = (-1/m) * (y.T @ np.log(y_hat) + (1 - y.T) @ np.log(1 - y_hat))\n",
    "    reg = (regfactor/(2*m)) * (weights[1:].T @ weights[1:])\n",
    "    J = J + reg\n",
    "    return float(J)"
   ]
  },
  {
   "cell_type": "code",
   "execution_count": 10,
   "id": "ecad3d83",
   "metadata": {},
   "outputs": [],
   "source": [
    "def Gradient_descent(num_iterations,X,y,weights,cost,alpha,m,regfactor):\n",
    "    for i in range(1,num_iterations+1):\n",
    "        y_hat = Prediction(X,weights)\n",
    "        grad = (1/m) * (X.T @ (y_hat - y))\n",
    "        grad[1:] = grad[1:] + ((regfactor/m) * grad[1:])\n",
    "        descent_step = alpha * grad\n",
    "        weights -= descent_step\n",
    "        cost.append(Compute_cost(y,y_hat,weights,regfactor,m))\n",
    "    return weights,cost"
   ]
  },
  {
   "cell_type": "code",
   "execution_count": 11,
   "id": "90a5cfe0",
   "metadata": {},
   "outputs": [],
   "source": [
    "def Initialize_Parameters(X,y,length):\n",
    "    X = X.reshape(length,X.shape[1])\n",
    "    y = y.reshape(length,1)\n",
    "    weights = np.zeros((X.shape[1],1))\n",
    "    return X,y,weights"
   ]
  },
  {
   "cell_type": "code",
   "execution_count": 14,
   "id": "abc386c7",
   "metadata": {},
   "outputs": [],
   "source": [
    "def feature_scaling(X):\n",
    "    mean = np.mean(X)\n",
    "    std = np.std(X)\n",
    "    \n",
    "    X_norm = (X - mean)/std\n",
    "    \n",
    "    return X_norm"
   ]
  },
  {
   "cell_type": "code",
   "execution_count": 15,
   "id": "1a30683d",
   "metadata": {},
   "outputs": [],
   "source": [
    "def mapFeature(x1,x2,degree):\n",
    "    \"\"\"\n",
    "    take in numpy array of x1 and x2, return all polynomial terms up to the given degree\n",
    "    \"\"\"\n",
    "    out = np.ones(len(x1)).reshape(len(x1),1)\n",
    "    for i in range(1,degree+1):\n",
    "        for j in range(i+1):\n",
    "            terms= (x1**(i-j) * x2**j).reshape(len(x1),1)\n",
    "            out= np.hstack((out,terms))\n",
    "    return out\n",
    "\n"
   ]
  },
  {
   "cell_type": "code",
   "execution_count": 16,
   "id": "6bc5fc60",
   "metadata": {},
   "outputs": [],
   "source": [
    "X = mapFeature(feature_scaling(X[:,0]), feature_scaling(X[:,1]),6)"
   ]
  },
  {
   "cell_type": "code",
   "execution_count": 17,
   "id": "2415cb31",
   "metadata": {},
   "outputs": [],
   "source": [
    "X,y,weights = Initialize_Parameters(X,y,length)"
   ]
  },
  {
   "cell_type": "code",
   "execution_count": 18,
   "id": "915c1e06",
   "metadata": {},
   "outputs": [],
   "source": [
    "alpha = 0.08\n",
    "regfactor=1\n",
    "num_iterations = 1200\n",
    "\n",
    "cost = []\n",
    "final_weights,cost = Gradient_descent(num_iterations,X,y,weights,cost,alpha,length,regfactor)"
   ]
  },
  {
   "cell_type": "code",
   "execution_count": 19,
   "id": "538de967",
   "metadata": {},
   "outputs": [],
   "source": [
    "def plot_cost(cost,num_iterations):\n",
    "    iterations = [i for i in range(1,num_iterations+1)]\n",
    "    plt.plot(iterations,cost,color=\"g\")\n",
    "    plt.title(\"cost v/s Num of Iterations\")\n",
    "    plt.show()"
   ]
  },
  {
   "cell_type": "code",
   "execution_count": 20,
   "id": "cff07b80",
   "metadata": {},
   "outputs": [
    {
     "data": {
      "image/png": "[encoded data removed]",
      "text/plain": [
       "<Figure size 432x288 with 1 Axes>"
      ]
     },
     "metadata": {
      "needs_background": "light"
     },
     "output_type": "display_data"
    }
   ],
   "source": [
    "plot_cost(cost,num_iterations)"
   ]
  },
  {
   "cell_type": "code",
   "execution_count": 21,
   "id": "829da6d5",
   "metadata": {},
   "outputs": [
    {
     "data": {
      "text/plain": [
       "1132"
      ]
     },
     "execution_count": 21,
     "metadata": {},
     "output_type": "execute_result"
    }
   ],
   "source": [
    "cost.index(min(cost))"
   ]
  },
  {
   "cell_type": "code",
   "execution_count": 22,
   "id": "d34bd11b",
   "metadata": {},
   "outputs": [
    {
     "data": {
      "text/plain": [
       "49.94254524561907"
      ]
     },
     "execution_count": 22,
     "metadata": {},
     "output_type": "execute_result"
    }
   ],
   "source": [
    "pred = [Sigmoid_fn(np.dot(X, final_weights)) >= 0.5]\n",
    "np.mean(pred == y.flatten()) * 100"
   ]
  },
  {
   "cell_type": "markdown",
   "id": "8c0f79ad",
   "metadata": {},
   "source": [
    "## Using fminc Optimization"
   ]
  },
  {
   "cell_type": "code",
   "execution_count": 24,
   "id": "8f651e50",
   "metadata": {},
   "outputs": [
    {
     "data": {
      "image/png": "[encoded data removed]",
      "text/plain": [
       "<Figure size 432x288 with 1 Axes>"
      ]
     },
     "metadata": {
      "needs_background": "light"
     },
     "output_type": "display_data"
    }
   ],
   "source": [
    "log_reg_data = reglog_regdata.values\n",
    "X = log_reg_data[:,0:log_reg_data.shape[1]-1]\n",
    "y = log_reg_data[:,-1]\n",
    "X1 = log_reg_data[:,0:log_reg_data.shape[1]-1]\n",
    "length = len(y)\n",
    "plot_fn(X,y,length)"
   ]
  },
  {
   "cell_type": "code",
   "execution_count": 25,
   "id": "ac455f0b",
   "metadata": {},
   "outputs": [],
   "source": [
    "def Compute_cost_opt(weights, X, y, lmbda):\n",
    "    m=len(y)\n",
    "    J = (-1/m) * (y.T @ np.log(Sigmoid_fn(X @ weights)) + (1 - y.T) @ np.log(1 - Sigmoid_fn(X @ weights)))\n",
    "    reg = (lmbda/(2*m)) * (weights[1:].T @ weights[1:])\n",
    "    J = J + reg\n",
    "    return J"
   ]
  },
  {
   "cell_type": "code",
   "execution_count": 26,
   "id": "dba67cdd",
   "metadata": {},
   "outputs": [],
   "source": [
    "def Gradient_descent_opt(weights,X,y,regfactor):\n",
    "    m = len(y)\n",
    "    #grad = np.zeros([m,1])\n",
    "    #print(grad.shape)\n",
    "    y_hat = Prediction(X,weights)\n",
    "    grad = (1/m) * (X.T @ (y_hat - y))\n",
    "    grad[1:] = grad[1:] + ((regfactor/m) * grad[1:])\n",
    "    return grad"
   ]
  },
  {
   "cell_type": "code",
   "execution_count": 27,
   "id": "fd86f39d",
   "metadata": {},
   "outputs": [],
   "source": [
    "X = mapFeature(feature_scaling(X[:,0]), feature_scaling(X[:,1]),6)\n",
    "#X,y,weights = Initialize_Parameters(X,y,length)\n",
    "(m, n) = X.shape\n",
    "y = y[:, np.newaxis]\n",
    "weights = np.zeros((n,1))\n",
    "lmbda = 1"
   ]
  },
  {
   "cell_type": "code",
   "execution_count": 28,
   "id": "055dd76c",
   "metadata": {},
   "outputs": [
    {
     "data": {
      "text/plain": [
       "0.6931471805599453"
      ]
     },
     "execution_count": 28,
     "metadata": {},
     "output_type": "execute_result"
    }
   ],
   "source": [
    "lmbda=1\n",
    "J = Compute_cost_opt(weights, X, y, lmbda)\n",
    "float(J)"
   ]
  },
  {
   "cell_type": "code",
   "execution_count": 29,
   "id": "83edf5fd",
   "metadata": {},
   "outputs": [
    {
     "name": "stdout",
     "output_type": "stream",
     "text": [
      "[ 2.3945511  -0.32007316  0.40890887  0.49591913 -0.51590033  0.07063798\n",
      "  0.23842245  0.43538968  0.08464502 -0.4573852   0.20878833 -0.01313719\n",
      " -0.8758841  -0.6897215  -0.43925709 -0.1178795  -0.10576853  1.47215493\n",
      " -0.39146551 -0.73254676 -0.02193466 -0.44400514 -0.22040193 -0.59569661\n",
      " -0.01943913 -1.19015135 -0.7965442  -0.25062279]\n"
     ]
    }
   ],
   "source": [
    "import scipy.optimize as opt\n",
    "output = opt.fmin_tnc(func = Compute_cost_opt, x0 = weights.flatten(), fprime = Gradient_descent_opt, \\\n",
    "                         args = (X, y.flatten(), lmbda))\n",
    "theta = output[0]\n",
    "print(theta) # theta contains the optimized values"
   ]
  },
  {
   "cell_type": "code",
   "execution_count": 30,
   "id": "f5f7418b",
   "metadata": {},
   "outputs": [
    {
     "data": {
      "text/plain": [
       "86.4406779661017"
      ]
     },
     "execution_count": 30,
     "metadata": {},
     "output_type": "execute_result"
    }
   ],
   "source": [
    "pred = [Sigmoid_fn(np.dot(X, theta)) >= 0.5]\n",
    "np.mean(pred == y.flatten()) * 100"
   ]
  }
 ],
 "metadata": {
  "kernelspec": {
   "display_name": "Python 3",
   "language": "python",
   "name": "python3"
  },
  "language_info": {
   "codemirror_mode": {
    "name": "ipython",
    "version": 3
   },
   "file_extension": ".py",
   "mimetype": "text/x-python",
   "name": "python",
   "nbconvert_exporter": "python",
   "pygments_lexer": "ipython3",
   "version": "3.8.8"
  }
 },
 "nbformat": 4,
 "nbformat_minor": 5
}
