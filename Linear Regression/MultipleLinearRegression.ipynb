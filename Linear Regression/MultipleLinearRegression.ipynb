{
 "cells": [
  {
   "cell_type": "markdown",
   "id": "765c3c67",
   "metadata": {},
   "source": [
    "# Multiple Linear Regression "
   ]
  },
  {
   "cell_type": "code",
   "execution_count": 1,
   "id": "f9b9bd36",
   "metadata": {},
   "outputs": [],
   "source": [
    "import numpy as np\n",
    "import matplotlib.pyplot as plt\n",
    "import pandas as pd"
   ]
  },
  {
   "cell_type": "markdown",
   "id": "f1713dcc",
   "metadata": {},
   "source": [
    "Read the dataset. The dataset used is from ML course of Andrew Ng"
   ]
  },
  {
   "cell_type": "code",
   "execution_count": 2,
   "id": "b7382657",
   "metadata": {},
   "outputs": [],
   "source": [
    "Dataframe = pd.read_csv(r\"./MultipleLinearRegression.txt\")"
   ]
  },
  {
   "cell_type": "code",
   "execution_count": 5,
   "id": "58883387",
   "metadata": {},
   "outputs": [
    {
     "data": {
      "text/html": [
       "<div>\n",
       "<style scoped>\n",
       "    .dataframe tbody tr th:only-of-type {\n",
       "        vertical-align: middle;\n",
       "    }\n",
       "\n",
       "    .dataframe tbody tr th {\n",
       "        vertical-align: top;\n",
       "    }\n",
       "\n",
       "    .dataframe thead th {\n",
       "        text-align: right;\n",
       "    }\n",
       "</style>\n",
       "<table border=\"1\" class=\"dataframe\">\n",
       "  <thead>\n",
       "    <tr style=\"text-align: right;\">\n",
       "      <th></th>\n",
       "      <th>size of House(in sq.feet)</th>\n",
       "      <th>Number of Bedrooms</th>\n",
       "      <th>Price</th>\n",
       "    </tr>\n",
       "  </thead>\n",
       "  <tbody>\n",
       "    <tr>\n",
       "      <th>count</th>\n",
       "      <td>47.000000</td>\n",
       "      <td>47.000000</td>\n",
       "      <td>47.000000</td>\n",
       "    </tr>\n",
       "    <tr>\n",
       "      <th>mean</th>\n",
       "      <td>2000.680851</td>\n",
       "      <td>3.170213</td>\n",
       "      <td>340412.659574</td>\n",
       "    </tr>\n",
       "    <tr>\n",
       "      <th>std</th>\n",
       "      <td>794.702354</td>\n",
       "      <td>0.760982</td>\n",
       "      <td>125039.899586</td>\n",
       "    </tr>\n",
       "    <tr>\n",
       "      <th>min</th>\n",
       "      <td>852.000000</td>\n",
       "      <td>1.000000</td>\n",
       "      <td>169900.000000</td>\n",
       "    </tr>\n",
       "    <tr>\n",
       "      <th>25%</th>\n",
       "      <td>1432.000000</td>\n",
       "      <td>3.000000</td>\n",
       "      <td>249900.000000</td>\n",
       "    </tr>\n",
       "    <tr>\n",
       "      <th>50%</th>\n",
       "      <td>1888.000000</td>\n",
       "      <td>3.000000</td>\n",
       "      <td>299900.000000</td>\n",
       "    </tr>\n",
       "    <tr>\n",
       "      <th>75%</th>\n",
       "      <td>2269.000000</td>\n",
       "      <td>4.000000</td>\n",
       "      <td>384450.000000</td>\n",
       "    </tr>\n",
       "    <tr>\n",
       "      <th>max</th>\n",
       "      <td>4478.000000</td>\n",
       "      <td>5.000000</td>\n",
       "      <td>699900.000000</td>\n",
       "    </tr>\n",
       "  </tbody>\n",
       "</table>\n",
       "</div>"
      ],
      "text/plain": [
       "       size of House(in sq.feet)  Number of Bedrooms          Price\n",
       "count                  47.000000           47.000000      47.000000\n",
       "mean                 2000.680851            3.170213  340412.659574\n",
       "std                   794.702354            0.760982  125039.899586\n",
       "min                   852.000000            1.000000  169900.000000\n",
       "25%                  1432.000000            3.000000  249900.000000\n",
       "50%                  1888.000000            3.000000  299900.000000\n",
       "75%                  2269.000000            4.000000  384450.000000\n",
       "max                  4478.000000            5.000000  699900.000000"
      ]
     },
     "execution_count": 5,
     "metadata": {},
     "output_type": "execute_result"
    }
   ],
   "source": [
    "Dataframe.describe()"
   ]
  },
  {
   "cell_type": "markdown",
   "id": "7d0ee8a5",
   "metadata": {},
   "source": [
    "Plot the realation between all the variables(input & output). This helps in determining the features which are most discriminant feature relation with output or variables"
   ]
  },
  {
   "cell_type": "code",
   "execution_count": 6,
   "id": "01616939",
   "metadata": {},
   "outputs": [],
   "source": [
    "def plot_fn(x1,x2,x1start,x1stop,x1step,x2start,x2stop,x2step,xlabel,ylabel,title):\n",
    "    plt.scatter(x1,x2,c='r',marker='x')\n",
    "    plt.xticks(np.arange(x1start,x1stop,x1step))\n",
    "    plt.yticks(np.arange(x2start,x2stop,x2step))\n",
    "    plt.title(title)\n",
    "    plt.xlabel(xlabel)\n",
    "    plt.ylabel(ylabel)\n",
    "    \n",
    "    plt.show()"
   ]
  },
  {
   "cell_type": "code",
   "execution_count": 7,
   "id": "91875070",
   "metadata": {},
   "outputs": [
    {
     "data": {
      "image/png": "[encoded data removed]",
      "text/plain": [
       "<Figure size 432x288 with 1 Axes>"
      ]
     },
     "metadata": {
      "needs_background": "light"
     },
     "output_type": "display_data"
    },
    {
     "data": {
      "image/png": "[encoded data removed]",
      "text/plain": [
       "<Figure size 432x288 with 1 Axes>"
      ]
     },
     "metadata": {
      "needs_background": "light"
     },
     "output_type": "display_data"
    },
    {
     "data": {
      "image/png": "[encoded data removed]",
      "text/plain": [
       "<Figure size 432x288 with 1 Axes>"
      ]
     },
     "metadata": {
      "needs_background": "light"
     },
     "output_type": "display_data"
    }
   ],
   "source": [
    "dataset = Dataframe.values\n",
    "y = dataset[:,-1]\n",
    "m = len(y)\n",
    "no_of_independent_var = (dataset.shape[1]-1)\n",
    "X = dataset[:,:no_of_independent_var]\n",
    "X = X.reshape(m,no_of_independent_var)\n",
    "y = y.reshape(m,1)\n",
    "plot_fn(X[:,0],X[:,1],500,5000,500,1,6,1,xlabel=\"size of the house\",ylabel=\"number of bedrooms\",\\\n",
    "        title=\"size of house v/s no of bedrooms\")\n",
    "plot_fn(X[:,0],y,500,5000,500,150000,700000,50000,xlabel=\"size of the house\",ylabel=\"Price of House\",\\\n",
    "        title=\"size of house v/s Price of House\")\n",
    "plot_fn(X[:,1],y,1,6,1,150000,700000,50000,xlabel=\"no of Bedrooms\",ylabel=\"Price of House\",\\\n",
    "        title=\"no of Bedrooms v/s Price of House\")"
   ]
  },
  {
   "cell_type": "markdown",
   "id": "b46cfb18",
   "metadata": {},
   "source": [
    "Plot how the data varies to see how output varies with output."
   ]
  },
  {
   "cell_type": "code",
   "execution_count": 8,
   "id": "80f201f3",
   "metadata": {},
   "outputs": [
    {
     "data": {
      "image/png": "[encoded data removed]",
      "text/plain": [
       "<Figure size 432x288 with 1 Axes>"
      ]
     },
     "metadata": {
      "needs_background": "light"
     },
     "output_type": "display_data"
    }
   ],
   "source": [
    "fig = plt.figure()\n",
    "ax = fig.gca(projection ='3d')\n",
    "\n",
    "ax.scatter(Dataframe[\"size of House(in sq.feet)\"], Dataframe[\"Number of Bedrooms\"], Dataframe[\"Price\"], label ='y')\n",
    "#plt.plot()\n",
    "plt.show()"
   ]
  },
  {
   "cell_type": "markdown",
   "id": "d66fb2e0",
   "metadata": {},
   "source": [
    "Standardize the data by subtracting mean and dividing by standard deviation of data"
   ]
  },
  {
   "cell_type": "code",
   "execution_count": 9,
   "id": "7c4375ee",
   "metadata": {},
   "outputs": [],
   "source": [
    "def Standardize_Data(X):\n",
    "    X_mean = np.mean(X,axis=0)\n",
    "    X_std = np.std(X,axis=0)\n",
    "    X = (X-X_mean)/X_std\n",
    "    return X"
   ]
  },
  {
   "cell_type": "code",
   "execution_count": 10,
   "id": "6743afbe",
   "metadata": {},
   "outputs": [],
   "source": [
    "X = Standardize_Data(X)"
   ]
  },
  {
   "cell_type": "markdown",
   "id": "1bf6b788",
   "metadata": {},
   "source": [
    "Initialize the paramteres like weights and Inputs(appending bias field of all one's)"
   ]
  },
  {
   "cell_type": "code",
   "execution_count": 11,
   "id": "eb997e84",
   "metadata": {},
   "outputs": [],
   "source": [
    "def Initialize_parameters(output_y,input_x,no_of_samples,no_of_independent_var):\n",
    "    weights = np.zeros((no_of_independent_var+1,1))\n",
    "    input_x = np.append(np.ones((no_of_samples,1)),input_x,axis=1)\n",
    "    return weights,input_x"
   ]
  },
  {
   "cell_type": "code",
   "execution_count": 12,
   "id": "1caa20f0",
   "metadata": {},
   "outputs": [
    {
     "data": {
      "text/plain": [
       "((3, 1), (47, 3))"
      ]
     },
     "execution_count": 12,
     "metadata": {},
     "output_type": "execute_result"
    }
   ],
   "source": [
    "weights,X = Initialize_parameters(y,X,m,no_of_independent_var)\n",
    "weights.shape,X.shape"
   ]
  },
  {
   "cell_type": "markdown",
   "id": "0fcf3abc",
   "metadata": {},
   "source": [
    "## Compute Hypothesis"
   ]
  },
  {
   "cell_type": "code",
   "execution_count": 13,
   "id": "f2996236",
   "metadata": {},
   "outputs": [],
   "source": [
    "def Compute_hypothesis(weights,input_x):\n",
    "    y_hat = np.dot(input_x,weights)\n",
    "    return y_hat"
   ]
  },
  {
   "cell_type": "markdown",
   "id": "e4685b82",
   "metadata": {},
   "source": [
    "## Compute Cost function"
   ]
  },
  {
   "cell_type": "code",
   "execution_count": 14,
   "id": "56e9387e",
   "metadata": {},
   "outputs": [],
   "source": [
    "def Compute_Cost(weights,input_x,output_y,length):\n",
    "    y_hat = Compute_hypothesis(weights,input_x)\n",
    "    mse = (1/(2*length))*np.sum((y_hat - output_y)**2)\n",
    "    return mse"
   ]
  },
  {
   "cell_type": "markdown",
   "id": "547bd57e",
   "metadata": {},
   "source": [
    "## Compute Gradient Descent"
   ]
  },
  {
   "cell_type": "code",
   "execution_count": 15,
   "id": "f3f478f7",
   "metadata": {},
   "outputs": [],
   "source": [
    "def Gradient_Descent(num_iterations,J,weights,input_x,alpha,length,output_y):\n",
    "    for i in range(1,num_iterations+1):\n",
    "        y_hat = Compute_hypothesis(weights,input_x)\n",
    "        descent_direction = np.dot(input_x.transpose(),(y_hat - output_y))\n",
    "        step_length = (alpha/length)*descent_direction\n",
    "        weights -= step_length\n",
    "        J.append(Compute_Cost(weights,input_x,output_y,length))\n",
    "    return weights,J"
   ]
  },
  {
   "cell_type": "markdown",
   "id": "0861a066",
   "metadata": {},
   "source": [
    "## Linear Regression with Multiple Variables"
   ]
  },
  {
   "cell_type": "code",
   "execution_count": 16,
   "id": "6811fd2d",
   "metadata": {},
   "outputs": [],
   "source": [
    "def LinearRegressionWithMultipleVariable(num_iterations,J):\n",
    "    alpha = 0.03\n",
    "    length = m\n",
    "    theta, J = Gradient_Descent(num_iterations,J,weights,X,alpha,length,y)\n",
    "    return theta,J"
   ]
  },
  {
   "cell_type": "code",
   "execution_count": 17,
   "id": "f00d83fd",
   "metadata": {},
   "outputs": [],
   "source": [
    "num_iterations = 5000\n",
    "J = []\n",
    "final_weights,cost_array = LinearRegressionWithMultipleVariable(num_iterations,J)"
   ]
  },
  {
   "cell_type": "code",
   "execution_count": 18,
   "id": "6c6d527e",
   "metadata": {},
   "outputs": [
    {
     "data": {
      "text/plain": [
       "array([[340412.65957447],\n",
       "       [109447.79646964],\n",
       "       [ -6578.35485416]])"
      ]
     },
     "execution_count": 18,
     "metadata": {},
     "output_type": "execute_result"
    }
   ],
   "source": [
    "final_weights"
   ]
  },
  {
   "cell_type": "markdown",
   "id": "737a81d3",
   "metadata": {},
   "source": [
    "Check if cost reduces with iterations"
   ]
  },
  {
   "cell_type": "code",
   "execution_count": 19,
   "id": "212d9a2d",
   "metadata": {},
   "outputs": [
    {
     "data": {
      "image/png": "[encoded data removed]",
      "text/plain": [
       "<Figure size 432x288 with 1 Axes>"
      ]
     },
     "metadata": {
      "needs_background": "light"
     },
     "output_type": "display_data"
    }
   ],
   "source": [
    "iterations = [i for i in range(1,num_iterations +1)]\n",
    "plt.plot(iterations,cost_array,c=\"blue\")\n",
    "plt.title(\"Iterations v/s cost\")\n",
    "plt.xlabel(\"Iterations\")\n",
    "plt.ylabel(\"Cost\")\n",
    "plt.show()"
   ]
  },
  {
   "cell_type": "markdown",
   "id": "ea0a5b81",
   "metadata": {},
   "source": [
    "# Normal Equation"
   ]
  },
  {
   "cell_type": "code",
   "execution_count": 20,
   "id": "53d23b11",
   "metadata": {},
   "outputs": [],
   "source": [
    "input_xnrml,output_ynrml = dataset[:,:no_of_independent_var],dataset[:,-1]\n",
    "input_xnrml = input_xnrml.reshape(m,no_of_independent_var)\n",
    "output_ynrml = output_ynrml.reshape(m,1)\n",
    "input_xnrml = np.append(np.ones((len(output_ynrml),1)),input_xnrml, axis=1)\n",
    "weight_nrml = np.dot(np.dot(np.linalg.inv(np.dot(input_xnrml.T,input_xnrml)),input_xnrml.T),output_ynrml)"
   ]
  },
  {
   "cell_type": "code",
   "execution_count": 21,
   "id": "0a0c5b93",
   "metadata": {},
   "outputs": [
    {
     "name": "stdout",
     "output_type": "stream",
     "text": [
      "Weights from Normal Equation: \n",
      " [[89597.9095428 ]\n",
      " [  139.21067402]\n",
      " [-8738.01911233]]\n",
      "Weights from Gradient Descent: \n",
      " [[340412.65957447]\n",
      " [109447.79646964]\n",
      " [ -6578.35485416]]\n"
     ]
    }
   ],
   "source": [
    "print(\"Weights from Normal Equation:\",\"\\n\",weight_nrml)\n",
    "print(\"Weights from Gradient Descent:\",\"\\n\",final_weights)"
   ]
  },
  {
   "cell_type": "markdown",
   "id": "71cce583",
   "metadata": {},
   "source": [
    "# Multiple Linear Regression using Sklearn Library"
   ]
  },
  {
   "cell_type": "code",
   "execution_count": 22,
   "id": "b38d64f9",
   "metadata": {},
   "outputs": [],
   "source": [
    "from sklearn.model_selection import train_test_split\n",
    "from sklearn.linear_model import LinearRegression"
   ]
  },
  {
   "cell_type": "code",
   "execution_count": 23,
   "id": "367d8c57",
   "metadata": {},
   "outputs": [],
   "source": [
    "Input = Dataframe[[\"size of House(in sq.feet)\",\"Number of Bedrooms\"]]\n",
    "Output = Dataframe[\"Price\"]"
   ]
  },
  {
   "cell_type": "code",
   "execution_count": 24,
   "id": "4f443df0",
   "metadata": {},
   "outputs": [],
   "source": [
    "reg_model = LinearRegression().fit(Input,Output)"
   ]
  },
  {
   "cell_type": "code",
   "execution_count": 25,
   "id": "a319954e",
   "metadata": {},
   "outputs": [
    {
     "data": {
      "text/plain": [
       "(array([  139.21067402, -8738.01911233]), 89597.90954279748)"
      ]
     },
     "execution_count": 25,
     "metadata": {},
     "output_type": "execute_result"
    }
   ],
   "source": [
    "reg_model.coef_,reg_model.intercept_"
   ]
  },
  {
   "cell_type": "code",
   "execution_count": 26,
   "id": "cc55fee3",
   "metadata": {},
   "outputs": [],
   "source": [
    "weights = np.zeros((no_of_independent_var+1,1))\n",
    "weights[0] = reg_model.intercept_\n",
    "weights[1] = reg_model.coef_[0]\n",
    "weights[2] = reg_model.coef_[1]"
   ]
  },
  {
   "cell_type": "code",
   "execution_count": 27,
   "id": "02e7e2f5",
   "metadata": {},
   "outputs": [
    {
     "data": {
      "text/plain": [
       "array([[89597.9095428 ],\n",
       "       [  139.21067402],\n",
       "       [-8738.01911233]])"
      ]
     },
     "execution_count": 27,
     "metadata": {},
     "output_type": "execute_result"
    }
   ],
   "source": [
    "weights"
   ]
  },
  {
   "cell_type": "code",
   "execution_count": 28,
   "id": "99dec4d9",
   "metadata": {},
   "outputs": [
    {
     "name": "stdout",
     "output_type": "stream",
     "text": [
      "The weights from using inbuilt Linear Regression Model: \n",
      " [[89597.9095428 ]\n",
      " [  139.21067402]\n",
      " [-8738.01911233]]\n",
      "Weights from Normal Equation: \n",
      " [[89597.9095428 ]\n",
      " [  139.21067402]\n",
      " [-8738.01911233]]\n",
      "Weights from Gradient Descent: \n",
      " [[340412.65957447]\n",
      " [109447.79646964]\n",
      " [ -6578.35485416]]\n"
     ]
    }
   ],
   "source": [
    "print(\"The weights from using inbuilt Linear Regression Model:\",\"\\n\",weights)\n",
    "print(\"Weights from Normal Equation:\",\"\\n\",weight_nrml)\n",
    "print(\"Weights from Gradient Descent:\",\"\\n\",final_weights)"
   ]
  }
 ],
 "metadata": {
  "kernelspec": {
   "display_name": "Python 3",
   "language": "python",
   "name": "python3"
  },
  "language_info": {
   "codemirror_mode": {
    "name": "ipython",
    "version": 3
   },
   "file_extension": ".py",
   "mimetype": "text/x-python",
   "name": "python",
   "nbconvert_exporter": "python",
   "pygments_lexer": "ipython3",
   "version": "3.8.8"
  }
 },
 "nbformat": 4,
 "nbformat_minor": 5
}
