{
 "cells": [
  {
   "cell_type": "code",
   "execution_count": 44,
   "id": "98af709a",
   "metadata": {},
   "outputs": [],
   "source": [
    "import matplotlib.pyplot as plt\n",
    "import numpy as np\n",
    "import random\n",
    "from scipy.io import loadmat\n",
    "from numpy import linalg as la"
   ]
  },
  {
   "cell_type": "code",
   "execution_count": 45,
   "id": "285a9560",
   "metadata": {},
   "outputs": [],
   "source": [
    "#load the dataset\n",
    "data = loadmat(r\"./PCA_data.mat\")\n",
    "\n",
    "#convert the data to numpy array\n",
    "X = np.array(data['X'])"
   ]
  },
  {
   "cell_type": "code",
   "execution_count": 46,
   "id": "c1b84782",
   "metadata": {},
   "outputs": [
    {
     "data": {
      "image/png": "[encoded data removed]",
      "text/plain": [
       "<Figure size 432x288 with 1 Axes>"
      ]
     },
     "metadata": {
      "needs_background": "light"
     },
     "output_type": "display_data"
    }
   ],
   "source": [
    "#plot the 2D data\n",
    "plt.scatter(X[:,0],X[:,1],color=\"blue\",marker=\"o\")\n",
    "plt.show()"
   ]
  },
  {
   "cell_type": "markdown",
   "id": "3ac33f9f",
   "metadata": {},
   "source": [
    "### Feature Normalization"
   ]
  },
  {
   "cell_type": "code",
   "execution_count": 47,
   "id": "ae35230a",
   "metadata": {},
   "outputs": [],
   "source": [
    "#Normalize the data. After normalization each features will have zero mean and all the features will be in the similar range\n",
    "def Normalize(datamatrix):\n",
    "    mu = np.mean(datamatrix,axis=0)\n",
    "    sig = np.std(datamatrix,axis=0)\n",
    "    X_norm = (datamatrix - mu)/sig\n",
    "    \n",
    "    return X_norm,mu,sig"
   ]
  },
  {
   "cell_type": "code",
   "execution_count": 48,
   "id": "3adc32c0",
   "metadata": {},
   "outputs": [],
   "source": [
    "X_norm,mu,sig = Normalize(X)"
   ]
  },
  {
   "cell_type": "markdown",
   "id": "76495c3c",
   "metadata": {},
   "source": [
    "### Variance"
   ]
  },
  {
   "cell_type": "code",
   "execution_count": 49,
   "id": "63d37c0f",
   "metadata": {},
   "outputs": [
    {
     "name": "stdout",
     "output_type": "stream",
     "text": [
      "The variance of X: 1.0000000000000002\n",
      "The variance of y: 0.9999999999999996\n"
     ]
    }
   ],
   "source": [
    "print(\"The variance of X:\",np.var(X_norm[:,0]))\n",
    "print(\"The variance of y:\",np.var(X_norm[:,1]))"
   ]
  },
  {
   "cell_type": "markdown",
   "id": "e6dad136",
   "metadata": {},
   "source": [
    "### Covariance"
   ]
  },
  {
   "cell_type": "markdown",
   "id": "2c220038",
   "metadata": {},
   "source": [
    "Since on changing X, the value of y also varies. So, x and y are covariant"
   ]
  },
  {
   "cell_type": "code",
   "execution_count": 50,
   "id": "26659c3a",
   "metadata": {},
   "outputs": [],
   "source": [
    "def Covariance(x1,x2):\n",
    "    N = len(x1)\n",
    "    mu_x1 = np.mean(x1)\n",
    "    mu_x2 = np.mean(x2)\n",
    "    covariance = (1/(N-1))* np.sum((x1 - mu_x1)*(x2 - mu_x2))\n",
    "    \n",
    "    return covariance"
   ]
  },
  {
   "cell_type": "code",
   "execution_count": 51,
   "id": "4faccbf9",
   "metadata": {},
   "outputs": [
    {
     "name": "stdout",
     "output_type": "stream",
     "text": [
      "Covariance of x & y = 0.7505412003462545\n",
      "Covariance of y & x = 0.7505412003462545\n",
      "Covariance of x with itself = 1.0204081632653061 , variance of x = 1.0000000000000002\n",
      "Covariance of y with itself = 1.0204081632653057 , variance of x = 0.9999999999999996\n"
     ]
    }
   ],
   "source": [
    "X,y = X_norm[:,0],X_norm[:,1]\n",
    "print(\"Covariance of x & y =\",Covariance(X,y))\n",
    "print(\"Covariance of y & x =\",Covariance(X,y))\n",
    "print(\"Covariance of x with itself =\",Covariance(X,X),\", variance of x =\",np.var(X))\n",
    "print(\"Covariance of y with itself =\",Covariance(y,y),\", variance of x =\",np.var(y))"
   ]
  },
  {
   "cell_type": "markdown",
   "id": "17acb131",
   "metadata": {},
   "source": [
    "### Covariance Matrix"
   ]
  },
  {
   "cell_type": "code",
   "execution_count": 52,
   "id": "3d0ecd13",
   "metadata": {},
   "outputs": [],
   "source": [
    "covariance_matrix = np.cov(X_norm.T)"
   ]
  },
  {
   "cell_type": "code",
   "execution_count": 53,
   "id": "e6ee6592",
   "metadata": {},
   "outputs": [
    {
     "name": "stdout",
     "output_type": "stream",
     "text": [
      "The covariance matrix:\n",
      " [[1.02040816 0.7505412 ]\n",
      " [0.7505412  1.02040816]]\n"
     ]
    }
   ],
   "source": [
    "print(\"The covariance matrix:\\n\",covariance_matrix)"
   ]
  },
  {
   "cell_type": "code",
   "execution_count": 54,
   "id": "7a28df6c",
   "metadata": {},
   "outputs": [
    {
     "name": "stdout",
     "output_type": "stream",
     "text": [
      "The eigen values are:\n",
      " [1.77094936 0.26986696]\n",
      "The normalized eigen vectors are:\n",
      " [[ 0.70710678 -0.70710678]\n",
      " [ 0.70710678  0.70710678]]\n"
     ]
    }
   ],
   "source": [
    "#The eigen vectors for the above is given by:\n",
    "lambdas,vectors = la.eig(covariance_matrix)\n",
    "\n",
    "print(\"The eigen values are:\\n\",lambdas)\n",
    "print(\"The normalized eigen vectors are:\\n\",vectors)"
   ]
  },
  {
   "cell_type": "code",
   "execution_count": 55,
   "id": "60f2c5c7",
   "metadata": {},
   "outputs": [
    {
     "name": "stdout",
     "output_type": "stream",
     "text": [
      "The sorted eigen values are:\n",
      " (1.7709493636115607, 0.269866962919051)\n"
     ]
    }
   ],
   "source": [
    "#sort the eigen values in descending order of the eigen values\n",
    "def sort_eigen_values(covariance_matrix):\n",
    "    lambdas,vectors = la.eig(covariance_matrix)\n",
    "    lambdas,vecs = zip(*sorted(zip(list(lambdas),list(vectors.T)),key=lambda x:x[0],reverse=True))\n",
    "    return lambdas,np.array(vecs).T\n",
    "\n",
    "lambdas,vecs = sort_eigen_values(covariance_matrix)\n",
    "print(\"The sorted eigen values are:\\n\",lambdas)"
   ]
  },
  {
   "cell_type": "markdown",
   "id": "1f80af68",
   "metadata": {},
   "source": [
    "Combining the above 3 methods constitutes a PCA"
   ]
  },
  {
   "cell_type": "code",
   "execution_count": 56,
   "id": "41337f9c",
   "metadata": {},
   "outputs": [],
   "source": [
    "def PCA(X):\n",
    "    covariance_matrix = np.cov(X.T)\n",
    "    lambdas,vectors = la.eig(covariance_matrix)\n",
    "    lambdas,vecs = sort_eigen_values(covariance_matrix)\n",
    "    return lambdas,vecs\n",
    "\n",
    "lambdas,vecs = PCA(X_norm)"
   ]
  },
  {
   "cell_type": "code",
   "execution_count": 57,
   "id": "ffff6151",
   "metadata": {},
   "outputs": [],
   "source": [
    "data = data['X']"
   ]
  },
  {
   "cell_type": "code",
   "execution_count": 58,
   "id": "f2be6723",
   "metadata": {},
   "outputs": [
    {
     "data": {
      "image/png": "[encoded data removed]",
      "text/plain": [
       "<Figure size 432x288 with 1 Axes>"
      ]
     },
     "metadata": {
      "needs_background": "light"
     },
     "output_type": "display_data"
    }
   ],
   "source": [
    "fig, ax = plt.subplots()\n",
    "ax.plot(data[:,0], data[:,1], 'bo')\n",
    "\n",
    "for i in range(2):\n",
    "    ax.arrow(mu[0], mu[1], 1.5 * lambdas[i]*vecs[0][i], 1.5 * lambdas[i]*vecs[1][i],\n",
    "             head_width=0.25, head_length=0.2, fc='k', ec='k', lw=2, zorder=1000)\n",
    "\n",
    "ax.set_aspect('equal')\n",
    "ax.grid(False)"
   ]
  },
  {
   "cell_type": "markdown",
   "id": "beeb6240",
   "metadata": {},
   "source": [
    "The above plot shows the eigen vectors plotted(after scaling) with mean being the centre."
   ]
  },
  {
   "cell_type": "code",
   "execution_count": 87,
   "id": "cccfeb5f",
   "metadata": {},
   "outputs": [],
   "source": [
    "#Now project the data \n",
    "\n",
    "def Project_data(eig_vec,k,X):\n",
    "    reduced_vec = eig_vec[:,:k]\n",
    "\n",
    "    projected_data = X.dot(reduced_vec)\n",
    "    \n",
    "    return projected_data.reshape(projected_data.shape[0],k)"
   ]
  },
  {
   "cell_type": "code",
   "execution_count": 60,
   "id": "08b173b7",
   "metadata": {},
   "outputs": [],
   "source": [
    "k = 1\n",
    "projected_data = Project_data(vecs,k,data)"
   ]
  },
  {
   "cell_type": "code",
   "execution_count": 96,
   "id": "46e69547",
   "metadata": {},
   "outputs": [],
   "source": [
    "#Recover the data from Projected data\n",
    "def Recover_data(eig_vec,k,projected_data):\n",
    "    reduced_vec = eig_vec[:,:k].reshape(eig_vec.shape[0],k)\n",
    "    Xapprox = projected_data.dot(reduced_vec.T)\n",
    "    \n",
    "    return Xapprox"
   ]
  },
  {
   "cell_type": "code",
   "execution_count": 62,
   "id": "c7357a6d",
   "metadata": {},
   "outputs": [],
   "source": [
    "Xapprox = Recover_data(vecs,k,projected_data)"
   ]
  },
  {
   "cell_type": "code",
   "execution_count": 63,
   "id": "bc7413f7",
   "metadata": {},
   "outputs": [],
   "source": [
    "#check the percentage of variance retained\n",
    "\n",
    "def Perc_Variance_retained(data,Xapprox):\n",
    "    numerator = np.sum(np.square(np.abs(data - Xapprox)),axis=0)\n",
    "    deno = np.sum(np.square(data),axis=0)\n",
    "    \n",
    "    result = np.sum(numerator/deno)\n",
    "    \n",
    "    return (100 - (result/len(data)))"
   ]
  },
  {
   "cell_type": "code",
   "execution_count": 64,
   "id": "da66a119",
   "metadata": {},
   "outputs": [
    {
     "name": "stdout",
     "output_type": "stream",
     "text": [
      "The percentage of variance retained: 99.95908638597824\n"
     ]
    }
   ],
   "source": [
    "variance = Perc_Variance_retained(data,Xapprox)\n",
    "\n",
    "print(\"The percentage of variance retained:\",variance)"
   ]
  },
  {
   "cell_type": "markdown",
   "id": "0359ac9f",
   "metadata": {},
   "source": [
    "So, when we project this data, there is not much loss in the information of the data"
   ]
  },
  {
   "cell_type": "markdown",
   "id": "c5244d92",
   "metadata": {},
   "source": [
    "## Face Image Dataset"
   ]
  },
  {
   "cell_type": "code",
   "execution_count": 88,
   "id": "18d177db",
   "metadata": {},
   "outputs": [],
   "source": [
    "facesdata = loadmat(r\"./faces_data.mat\")\n",
    "\n",
    "facesdata = facesdata['X']"
   ]
  },
  {
   "cell_type": "code",
   "execution_count": 89,
   "id": "dc65932a",
   "metadata": {},
   "outputs": [],
   "source": [
    "#Lets visualize some 5 faces\n",
    "def Visualize(facesdata):\n",
    "    for i in range(5):\n",
    "        plt.imshow(facesdata[i].reshape(32, 32, order='F'), cmap='gray')\n",
    "        plt.show()"
   ]
  },
  {
   "cell_type": "code",
   "execution_count": 90,
   "id": "04ca56dc",
   "metadata": {},
   "outputs": [
    {
     "data": {
      "image/png": "[encoded data removed]",
      "text/plain": [
       "<Figure size 432x288 with 1 Axes>"
      ]
     },
     "metadata": {
      "needs_background": "light"
     },
     "output_type": "display_data"
    },
    {
     "data": {
      "image/png": "[encoded data removed]",
      "text/plain": [
       "<Figure size 432x288 with 1 Axes>"
      ]
     },
     "metadata": {
      "needs_background": "light"
     },
     "output_type": "display_data"
    },
    {
     "data": {
      "image/png": "[encoded data removed]",
      "text/plain": [
       "<Figure size 432x288 with 1 Axes>"
      ]
     },
     "metadata": {
      "needs_background": "light"
     },
     "output_type": "display_data"
    },
    {
     "data": {
      "image/png": "[encoded data removed]",
      "text/plain": [
       "<Figure size 432x288 with 1 Axes>"
      ]
     },
     "metadata": {
      "needs_background": "light"
     },
     "output_type": "display_data"
    },
    {
     "data": {
      "image/png": "[encoded data removed]",
      "text/plain": [
       "<Figure size 432x288 with 1 Axes>"
      ]
     },
     "metadata": {
      "needs_background": "light"
     },
     "output_type": "display_data"
    }
   ],
   "source": [
    "Visualize(facesdata)"
   ]
  },
  {
   "cell_type": "markdown",
   "id": "5188b63e",
   "metadata": {},
   "source": [
    "Apply PCA"
   ]
  },
  {
   "cell_type": "code",
   "execution_count": 91,
   "id": "237ecc3a",
   "metadata": {},
   "outputs": [],
   "source": [
    "#Normalize the features\n",
    "norm_facesdata,mean,sigma = Normalize(facesdata)"
   ]
  },
  {
   "cell_type": "code",
   "execution_count": 92,
   "id": "da13cc4a",
   "metadata": {},
   "outputs": [],
   "source": [
    "#Apply te PCA\n",
    "eig_value,eig_vecs = PCA(norm_facesdata)"
   ]
  },
  {
   "cell_type": "code",
   "execution_count": 93,
   "id": "9a3086bf",
   "metadata": {},
   "outputs": [],
   "source": [
    "k = 100\n",
    "projected_data = Project_data(eig_vecs,k,facesdata)"
   ]
  },
  {
   "cell_type": "code",
   "execution_count": 97,
   "id": "8625d0f9",
   "metadata": {},
   "outputs": [],
   "source": [
    "facesdataapprox = Recover_data(eig_vecs,k,projected_data)"
   ]
  },
  {
   "cell_type": "code",
   "execution_count": 100,
   "id": "5dfcb8b4",
   "metadata": {},
   "outputs": [
    {
     "data": {
      "image/png": "[encoded data removed]",
      "text/plain": [
       "<Figure size 432x288 with 1 Axes>"
      ]
     },
     "metadata": {
      "needs_background": "light"
     },
     "output_type": "display_data"
    },
    {
     "data": {
      "image/png": "[encoded data removed]",
      "text/plain": [
       "<Figure size 432x288 with 1 Axes>"
      ]
     },
     "metadata": {
      "needs_background": "light"
     },
     "output_type": "display_data"
    },
    {
     "data": {
      "image/png": "[encoded data removed]",
      "text/plain": [
       "<Figure size 432x288 with 1 Axes>"
      ]
     },
     "metadata": {
      "needs_background": "light"
     },
     "output_type": "display_data"
    },
    {
     "data": {
      "image/png": "[encoded data removed]",
      "text/plain": [
       "<Figure size 432x288 with 1 Axes>"
      ]
     },
     "metadata": {
      "needs_background": "light"
     },
     "output_type": "display_data"
    },
    {
     "data": {
      "image/png": "[encoded data removed]",
      "text/plain": [
       "<Figure size 432x288 with 1 Axes>"
      ]
     },
     "metadata": {
      "needs_background": "light"
     },
     "output_type": "display_data"
    }
   ],
   "source": [
    "Visualize(facesdataapprox)"
   ]
  },
  {
   "cell_type": "code",
   "execution_count": 98,
   "id": "af456d40",
   "metadata": {},
   "outputs": [
    {
     "name": "stdout",
     "output_type": "stream",
     "text": [
      "The percentage of variance retained: 99.98773657720402\n"
     ]
    }
   ],
   "source": [
    "variance = Perc_Variance_retained(facesdata,facesdataapprox)\n",
    "\n",
    "print(\"The percentage of variance retained:\",variance)"
   ]
  }
 ],
 "metadata": {
  "kernelspec": {
   "display_name": "Python 3",
   "language": "python",
   "name": "python3"
  },
  "language_info": {
   "codemirror_mode": {
    "name": "ipython",
    "version": 3
   },
   "file_extension": ".py",
   "mimetype": "text/x-python",
   "name": "python",
   "nbconvert_exporter": "python",
   "pygments_lexer": "ipython3",
   "version": "3.8.8"
  }
 },
 "nbformat": 4,
 "nbformat_minor": 5
}
