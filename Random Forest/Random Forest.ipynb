{
 "cells": [
  {
   "cell_type": "code",
   "execution_count": 1,
   "id": "54311c47",
   "metadata": {},
   "outputs": [],
   "source": [
    "import pandas as pd\n",
    "import numpy as np\n",
    "import matplotlib.pyplot as plt\n",
    "import random\n",
    "from scipy.stats import mode\n",
    "from sklearn.model_selection import train_test_split"
   ]
  },
  {
   "cell_type": "markdown",
   "id": "682d328d",
   "metadata": {},
   "source": [
    "The dataset can be downloaded from here:\n",
    "\n",
    "https://archive.ics.uci.edu/ml/datasets/Blood+Transfusion+Service+Center"
   ]
  },
  {
   "cell_type": "code",
   "execution_count": 2,
   "id": "87e7d0de",
   "metadata": {},
   "outputs": [
    {
     "data": {
      "text/html": [
       "<div>\n",
       "<style scoped>\n",
       "    .dataframe tbody tr th:only-of-type {\n",
       "        vertical-align: middle;\n",
       "    }\n",
       "\n",
       "    .dataframe tbody tr th {\n",
       "        vertical-align: top;\n",
       "    }\n",
       "\n",
       "    .dataframe thead th {\n",
       "        text-align: right;\n",
       "    }\n",
       "</style>\n",
       "<table border=\"1\" class=\"dataframe\">\n",
       "  <thead>\n",
       "    <tr style=\"text-align: right;\">\n",
       "      <th></th>\n",
       "      <th>Recency (months)</th>\n",
       "      <th>Frequency (times)</th>\n",
       "      <th>Monetary (c.c. blood)</th>\n",
       "      <th>Time (months)</th>\n",
       "      <th>whether he/she donated blood in March 2007</th>\n",
       "    </tr>\n",
       "  </thead>\n",
       "  <tbody>\n",
       "    <tr>\n",
       "      <th>0</th>\n",
       "      <td>2</td>\n",
       "      <td>50</td>\n",
       "      <td>12500</td>\n",
       "      <td>98</td>\n",
       "      <td>1</td>\n",
       "    </tr>\n",
       "    <tr>\n",
       "      <th>1</th>\n",
       "      <td>0</td>\n",
       "      <td>13</td>\n",
       "      <td>3250</td>\n",
       "      <td>28</td>\n",
       "      <td>1</td>\n",
       "    </tr>\n",
       "    <tr>\n",
       "      <th>2</th>\n",
       "      <td>1</td>\n",
       "      <td>16</td>\n",
       "      <td>4000</td>\n",
       "      <td>35</td>\n",
       "      <td>1</td>\n",
       "    </tr>\n",
       "    <tr>\n",
       "      <th>3</th>\n",
       "      <td>2</td>\n",
       "      <td>20</td>\n",
       "      <td>5000</td>\n",
       "      <td>45</td>\n",
       "      <td>1</td>\n",
       "    </tr>\n",
       "    <tr>\n",
       "      <th>4</th>\n",
       "      <td>1</td>\n",
       "      <td>24</td>\n",
       "      <td>6000</td>\n",
       "      <td>77</td>\n",
       "      <td>0</td>\n",
       "    </tr>\n",
       "    <tr>\n",
       "      <th>...</th>\n",
       "      <td>...</td>\n",
       "      <td>...</td>\n",
       "      <td>...</td>\n",
       "      <td>...</td>\n",
       "      <td>...</td>\n",
       "    </tr>\n",
       "    <tr>\n",
       "      <th>743</th>\n",
       "      <td>23</td>\n",
       "      <td>2</td>\n",
       "      <td>500</td>\n",
       "      <td>38</td>\n",
       "      <td>0</td>\n",
       "    </tr>\n",
       "    <tr>\n",
       "      <th>744</th>\n",
       "      <td>21</td>\n",
       "      <td>2</td>\n",
       "      <td>500</td>\n",
       "      <td>52</td>\n",
       "      <td>0</td>\n",
       "    </tr>\n",
       "    <tr>\n",
       "      <th>745</th>\n",
       "      <td>23</td>\n",
       "      <td>3</td>\n",
       "      <td>750</td>\n",
       "      <td>62</td>\n",
       "      <td>0</td>\n",
       "    </tr>\n",
       "    <tr>\n",
       "      <th>746</th>\n",
       "      <td>39</td>\n",
       "      <td>1</td>\n",
       "      <td>250</td>\n",
       "      <td>39</td>\n",
       "      <td>0</td>\n",
       "    </tr>\n",
       "    <tr>\n",
       "      <th>747</th>\n",
       "      <td>72</td>\n",
       "      <td>1</td>\n",
       "      <td>250</td>\n",
       "      <td>72</td>\n",
       "      <td>0</td>\n",
       "    </tr>\n",
       "  </tbody>\n",
       "</table>\n",
       "<p>748 rows × 5 columns</p>\n",
       "</div>"
      ],
      "text/plain": [
       "     Recency (months)  Frequency (times)  Monetary (c.c. blood)  \\\n",
       "0                   2                 50                  12500   \n",
       "1                   0                 13                   3250   \n",
       "2                   1                 16                   4000   \n",
       "3                   2                 20                   5000   \n",
       "4                   1                 24                   6000   \n",
       "..                ...                ...                    ...   \n",
       "743                23                  2                    500   \n",
       "744                21                  2                    500   \n",
       "745                23                  3                    750   \n",
       "746                39                  1                    250   \n",
       "747                72                  1                    250   \n",
       "\n",
       "     Time (months)  whether he/she donated blood in March 2007  \n",
       "0               98                                           1  \n",
       "1               28                                           1  \n",
       "2               35                                           1  \n",
       "3               45                                           1  \n",
       "4               77                                           0  \n",
       "..             ...                                         ...  \n",
       "743             38                                           0  \n",
       "744             52                                           0  \n",
       "745             62                                           0  \n",
       "746             39                                           0  \n",
       "747             72                                           0  \n",
       "\n",
       "[748 rows x 5 columns]"
      ]
     },
     "execution_count": 2,
     "metadata": {},
     "output_type": "execute_result"
    }
   ],
   "source": [
    "df = pd.read_csv(r\".\\dataset\\transfusion.data\",sep=',')\n",
    "\n",
    "data = np.array(df)\n",
    "\n",
    "df"
   ]
  },
  {
   "cell_type": "code",
   "execution_count": 3,
   "id": "2c7804cc",
   "metadata": {},
   "outputs": [],
   "source": [
    "def Calc_Indices_Samples(data):\n",
    "    sample_indices_list = [i for i in range(data.shape[0])]\n",
    "    \n",
    "    return sample_indices_list\n",
    "\n",
    "def Calc_Indices_features(data):\n",
    "    features_indices_list = [i for i in range(data.shape[1] - 1)]\n",
    "    \n",
    "    return features_indices_list"
   ]
  },
  {
   "cell_type": "code",
   "execution_count": 4,
   "id": "efa2409e",
   "metadata": {},
   "outputs": [],
   "source": [
    "features_indices_list = Calc_Indices_features(data)\n",
    "sample_indices_list = Calc_Indices_Samples(data)"
   ]
  },
  {
   "cell_type": "markdown",
   "id": "924002ef",
   "metadata": {},
   "source": [
    "### Create Sub Features and Sub Samples"
   ]
  },
  {
   "cell_type": "code",
   "execution_count": 5,
   "id": "48438b3e",
   "metadata": {},
   "outputs": [],
   "source": [
    "def Create_SubFeatures(features_indices_list,n_features):\n",
    "    features_list = np.unique(random.sample(features_indices_list,n_features))\n",
    "    \n",
    "    return features_list"
   ]
  },
  {
   "cell_type": "code",
   "execution_count": 6,
   "id": "d75744e7",
   "metadata": {},
   "outputs": [],
   "source": [
    "def Create_Subsamples(data,indices_list,ratio=1.0):\n",
    "    \n",
    "    #find the number of examples in a sample\n",
    "    n_examples_per_samples = round(len(data)*ratio)\n",
    "    \n",
    "    # Randomly select n_examples_per_samples from the data\n",
    "    sample_indices = random.sample(range(data.shape[0]),n_examples_per_samples)\n",
    "    \n",
    "    sample = data[sample_indices]\n",
    "    \n",
    "    return sample"
   ]
  },
  {
   "cell_type": "markdown",
   "id": "d327175d",
   "metadata": {},
   "source": [
    "### Build Random Forest"
   ]
  },
  {
   "cell_type": "code",
   "execution_count": 7,
   "id": "592dfdf1",
   "metadata": {},
   "outputs": [],
   "source": [
    "def split_data(value,column_index,data):\n",
    "    left = data[data[:,column_index] <= value]\n",
    "    right = data[data[:,column_index] > value]\n",
    "    \n",
    "    return left,right"
   ]
  },
  {
   "cell_type": "code",
   "execution_count": 8,
   "id": "44b4f403",
   "metadata": {},
   "outputs": [],
   "source": [
    "def Gini_Index(groups,classes):\n",
    "    total_samples = sum(len(group) for group in groups)\n",
    "    gini_index = 0\n",
    "    for group in groups:\n",
    "        size = len(group)\n",
    "        score = 0\n",
    "        if size == 0:\n",
    "            continue\n",
    "        for class_label in classes:\n",
    "            p = sum(group[:,-1]==class_label)/size\n",
    "            score += p*p\n",
    "        \n",
    "        gini_index += (1 - score)*(size/total_samples)\n",
    "    \n",
    "    return gini_index"
   ]
  },
  {
   "cell_type": "code",
   "execution_count": 9,
   "id": "7283c85a",
   "metadata": {},
   "outputs": [],
   "source": [
    "def getOptimalSplit_value(data,n_features):\n",
    "    classes = np.unique(data[:,-1])\n",
    "    best_index,best_gini,best_splitval,best_group = 9999,9999,9999,None\n",
    "    features_indices_list = Calc_Indices_features(data)\n",
    "    sub_features = Create_SubFeatures(features_indices_list,n_features)\n",
    "    for index in sub_features:\n",
    "        for row in data:\n",
    "            groups = split_data(row[index],index,data)\n",
    "            gini_index = Gini_Index(groups,classes)\n",
    "            if gini_index < best_gini:\n",
    "                best_index,best_gini,best_splitval,best_group = index,gini_index,row[index],groups\n",
    "    \n",
    "    return {\n",
    "        \"index\":best_index,\n",
    "        \"gini\":best_gini,\n",
    "        \"value\":best_splitval,\n",
    "        \"group\":best_group\n",
    "           }"
   ]
  },
  {
   "cell_type": "code",
   "execution_count": 10,
   "id": "3c6c4857",
   "metadata": {},
   "outputs": [],
   "source": [
    "# This can be used to return the most probable value that the node can return based what class type data does it have most\n",
    "def terminal_nodes(groups):\n",
    "    return int(mode(groups[:,-1])[0])"
   ]
  },
  {
   "cell_type": "code",
   "execution_count": 11,
   "id": "0ffa9b13",
   "metadata": {},
   "outputs": [],
   "source": [
    "# Build the tree recursively \n",
    "def Recursive_split(node,depth,maxdepth,min_size,n_features):\n",
    "    left,right = node['group']\n",
    "    \n",
    "    del(node['group'])\n",
    "    \n",
    "    if (left.size == 0) or (right.size == 0):\n",
    "        array = np.array(list(left)+list(right))\n",
    "        node['left'] = node['right'] = terminal_nodes(array)\n",
    "        return\n",
    "    \n",
    "    if depth>=maxdepth:\n",
    "        node['left'],node['right'] = terminal_nodes(left),terminal_nodes(right)\n",
    "        return\n",
    "    \n",
    "    if len(left)<=min_size:\n",
    "        node['left'] = terminal_nodes(left)\n",
    "        \n",
    "    else:\n",
    "        node['left'] = getOptimalSplit_value(left,n_features)\n",
    "        Recursive_split(node['left'],depth+1,maxdepth,min_size,n_features)\n",
    "    \n",
    "    if len(right)<=min_size:\n",
    "        node['right'] = terminal_nodes(right)\n",
    "        \n",
    "    else:\n",
    "        node['right'] = getOptimalSplit_value(right,n_features)\n",
    "        Recursive_split(node['right'],depth+1,maxdepth,min_size,n_features)"
   ]
  },
  {
   "cell_type": "code",
   "execution_count": 12,
   "id": "251f1aff",
   "metadata": {},
   "outputs": [],
   "source": [
    "def build_tree(data,max_depth,min_size,n_features):\n",
    "    root = getOptimalSplit_value(data,n_features)\n",
    "    Recursive_split(root,1,max_depth,min_size,n_features)\n",
    "    return root"
   ]
  },
  {
   "cell_type": "code",
   "execution_count": 13,
   "id": "c89c1fc2",
   "metadata": {},
   "outputs": [],
   "source": [
    "def Build_RF(data,indices_list,max_depth,min_size,ntrees,n_features):\n",
    "    trees = []\n",
    "    for i in range(ntrees):\n",
    "        sample_data = Create_Subsamples(data,indices_list)\n",
    "        tree = build_tree(sample_data,max_depth,min_size,n_features)\n",
    "        trees.append(tree)\n",
    "    \n",
    "    return trees"
   ]
  },
  {
   "cell_type": "code",
   "execution_count": 14,
   "id": "6a4bfb46",
   "metadata": {},
   "outputs": [],
   "source": [
    "max_depth = 3\n",
    "min_size = 5\n",
    "n_trees = 7\n",
    "n_features = int(np.sqrt(len(features_indices_list)))\n",
    "trees = Build_RF(data,sample_indices_list,max_depth,min_size,n_trees,n_features)"
   ]
  },
  {
   "cell_type": "markdown",
   "id": "9a2c4df1",
   "metadata": {},
   "source": [
    "### Predictions"
   ]
  },
  {
   "cell_type": "code",
   "execution_count": 15,
   "id": "21ab7bd1",
   "metadata": {},
   "outputs": [],
   "source": [
    "def Predict(node,test_row):\n",
    "    if test_row[node['index']] < node['value']:\n",
    "        if isinstance(node['left'],dict):\n",
    "            return Predict(node['left'],test_row)\n",
    "        else:\n",
    "            return node['left']\n",
    "    else:\n",
    "        if isinstance(node['right'],dict):\n",
    "            return Predict(node['right'],test_row)\n",
    "        else:\n",
    "            return node['right']"
   ]
  },
  {
   "cell_type": "code",
   "execution_count": 16,
   "id": "716ca88e",
   "metadata": {},
   "outputs": [],
   "source": [
    "def Get_Prediction(tree,data):\n",
    "    Predictions = []\n",
    "    for row in data:\n",
    "        Prediction = Predict(tree,row)\n",
    "        Predictions.append(Prediction)\n",
    "    return np.array(Predictions)"
   ]
  },
  {
   "cell_type": "code",
   "execution_count": 17,
   "id": "1df38b1e",
   "metadata": {},
   "outputs": [],
   "source": [
    "def RF_predict(trees,test_data):\n",
    "    Predictions_results = np.ones((len(test_data),1))\n",
    "    for tree in trees:\n",
    "        predictions = Get_Prediction(tree,test_data)\n",
    "        Predictions_results = np.append(Predictions_results,predictions.reshape(len(predictions),1),axis=1)\n",
    "    \n",
    "    final_predictions_trimmed = Predictions_results[:,1:]\n",
    "    \n",
    "    prediction = mode(final_predictions_trimmed,axis=1)[0]\n",
    "    \n",
    "    return prediction"
   ]
  },
  {
   "cell_type": "code",
   "execution_count": 18,
   "id": "d7c3ee52",
   "metadata": {},
   "outputs": [
    {
     "name": "stdout",
     "output_type": "stream",
     "text": [
      "The accuracy on the entire dataset is given by: 77.00534759358288\n"
     ]
    }
   ],
   "source": [
    "p = RF_predict(trees,data)\n",
    "\n",
    "#Calculate the accuracy on the entire dataset\n",
    "y = data[:,-1].reshape(len(data),1)\n",
    "\n",
    "print(\"The accuracy on the entire dataset is given by:\",np.mean(p == y)*100)"
   ]
  },
  {
   "cell_type": "markdown",
   "id": "a0ad9c7d",
   "metadata": {},
   "source": [
    "### Train & Test Splits"
   ]
  },
  {
   "cell_type": "code",
   "execution_count": 19,
   "id": "db701f6c",
   "metadata": {},
   "outputs": [],
   "source": [
    "X_train, X_test, y_train, y_test = train_test_split(data[:,0:-1],data[:,-1],test_size=0.3,random_state=30)"
   ]
  },
  {
   "cell_type": "code",
   "execution_count": 20,
   "id": "2699d5ad",
   "metadata": {},
   "outputs": [],
   "source": [
    "max_depth = 2\n",
    "min_size = 5\n",
    "n_trees = 7\n",
    "n_features = int(np.sqrt(len(features_indices_list)))\n",
    "\n",
    "train_data = np.append(X_train,y_train.reshape(y_train.shape[0],1),axis=1)\n",
    "test_data = np.append(X_test,y_test.reshape(y_test.shape[0],1),axis=1)"
   ]
  },
  {
   "cell_type": "code",
   "execution_count": 21,
   "id": "106b339e",
   "metadata": {},
   "outputs": [],
   "source": [
    "trees = Build_RF(data,sample_indices_list,max_depth,min_size,n_trees,n_features)"
   ]
  },
  {
   "cell_type": "code",
   "execution_count": 22,
   "id": "706ba293",
   "metadata": {},
   "outputs": [],
   "source": [
    "p = RF_predict(trees,train_data)"
   ]
  },
  {
   "cell_type": "code",
   "execution_count": 23,
   "id": "73831976",
   "metadata": {},
   "outputs": [
    {
     "name": "stdout",
     "output_type": "stream",
     "text": [
      "The Accuracy on the training set is: 75.52581261950286\n"
     ]
    }
   ],
   "source": [
    "# Accuracy on the train data:\n",
    "print(\"The Accuracy on the training set is:\",np.mean(p == y_train)*100)"
   ]
  },
  {
   "cell_type": "code",
   "execution_count": 24,
   "id": "a4231c5e",
   "metadata": {},
   "outputs": [
    {
     "name": "stdout",
     "output_type": "stream",
     "text": [
      "The Accuracy on the testing set is: 77.77777777777779\n"
     ]
    }
   ],
   "source": [
    "#Predictions on the test data\n",
    "p = RF_predict(trees,test_data)\n",
    "\n",
    "# The accuracy on the test set\n",
    "print(\"The Accuracy on the testing set is:\",np.mean(p == y_test)*100)"
   ]
  }
 ],
 "metadata": {
  "kernelspec": {
   "display_name": "Python 3",
   "language": "python",
   "name": "python3"
  },
  "language_info": {
   "codemirror_mode": {
    "name": "ipython",
    "version": 3
   },
   "file_extension": ".py",
   "mimetype": "text/x-python",
   "name": "python",
   "nbconvert_exporter": "python",
   "pygments_lexer": "ipython3",
   "version": "3.8.8"
  }
 },
 "nbformat": 4,
 "nbformat_minor": 5
}
