{
 "cells": [
  {
   "cell_type": "code",
   "execution_count": 1,
   "id": "1b9b4c96",
   "metadata": {},
   "outputs": [],
   "source": [
    "import numpy as np\n",
    "import matplotlib.pyplot as plt\n",
    "import pandas as pd\n",
    "from scipy.io import loadmat\n",
    "import regex as re\n",
    "from nltk.stem import PorterStemmer"
   ]
  },
  {
   "cell_type": "code",
   "execution_count": 2,
   "id": "781181f0",
   "metadata": {},
   "outputs": [],
   "source": [
    "def plot_data(dataset,labels):\n",
    "    X,y = dataset[:,0:-1],dataset[:,-1]\n",
    "    length = len(X)\n",
    "    pos = (y==labels[1]).reshape(length,1)\n",
    "    neg = (y==labels[0]).reshape(length,1)\n",
    "    plt.scatter(dataset[pos[:,0],0],dataset[pos[:,0],1],c='red',marker='+')\n",
    "    plt.scatter(dataset[neg[:,0],0],dataset[neg[:,0],1],c='blue',marker='x')\n",
    "    \n",
    "    plt.show()"
   ]
  },
  {
   "cell_type": "code",
   "execution_count": 3,
   "id": "2dee877f",
   "metadata": {},
   "outputs": [
    {
     "data": {
      "image/png": "[encoded data removed]",
      "text/plain": [
       "<Figure size 432x288 with 1 Axes>"
      ]
     },
     "metadata": {
      "needs_background": "light"
     },
     "output_type": "display_data"
    }
   ],
   "source": [
    "def load__plot_data():\n",
    "    data = loadmat(\"datasets/svm_sample.mat\")\n",
    "    X,y = data['X'],data['y']\n",
    "    y = y.astype(float)\n",
    "    y[y==0]=-1\n",
    "    #plot the data\n",
    "    dataset = np.append(X,y,axis=1)\n",
    "    labels = np.unique(dataset[:,-1])\n",
    "    plot_data(dataset,labels)\n",
    "    \n",
    "    return X,y,dataset,labels\n",
    "\n",
    "X,y,dataset,labels = load__plot_data()"
   ]
  },
  {
   "cell_type": "code",
   "execution_count": 6,
   "id": "bdfe824b",
   "metadata": {},
   "outputs": [],
   "source": [
    "def standardize_input(X):\n",
    "    X_mean = np.mean(X,axis=0)\n",
    "    X_std = np.std(X,axis=0)\n",
    "    \n",
    "    X_norm = (X - X_mean)/X_std\n",
    "    \n",
    "    return X_norm\n",
    "\n",
    "X_norm = standardize_input(X)"
   ]
  },
  {
   "cell_type": "code",
   "execution_count": 7,
   "id": "88c42fbd",
   "metadata": {},
   "outputs": [],
   "source": [
    "def Initialize_params(X,m):\n",
    "    X = np.append(np.ones((m,1)),X,axis=1)\n",
    "    w = np.zeros((X.shape[1],1))\n",
    "    \n",
    "    return X,w"
   ]
  },
  {
   "cell_type": "code",
   "execution_count": 8,
   "id": "9f2ae9f8",
   "metadata": {},
   "outputs": [],
   "source": [
    "X,w = Initialize_params(X_norm,len(X_norm))"
   ]
  },
  {
   "cell_type": "code",
   "execution_count": 9,
   "id": "8308c8be",
   "metadata": {},
   "outputs": [],
   "source": [
    "def Cost_fn(X,y,w,C):\n",
    "    distance = 1 - y*np.dot(X,w)\n",
    "    distance[distance < 0] = 0\n",
    "    N =len(y)\n",
    "    hinge_loss = (C * np.sum(distance))/N\n",
    "    cost = (1/2) * np.dot(w.T,w) + hinge_loss\n",
    "    return float(cost[0])"
   ]
  },
  {
   "cell_type": "code",
   "execution_count": 10,
   "id": "291da26c",
   "metadata": {},
   "outputs": [],
   "source": [
    "def gradient(X,y,w,C):\n",
    "    output = 1 - y*np.dot(X,w)\n",
    "    dw = np.zeros((len(w),1))\n",
    "    for i,out in enumerate(output):\n",
    "        if max(0,out) == 0:\n",
    "            di = w\n",
    "        else:\n",
    "            di = w - C*y[i]*X[i].reshape(X.shape[1],1)\n",
    "        dw += di\n",
    "        \n",
    "    return dw/len(y)"
   ]
  },
  {
   "cell_type": "code",
   "execution_count": 11,
   "id": "c997008d",
   "metadata": {},
   "outputs": [],
   "source": [
    "def Train_algo(X,y,w,ephocs,C,alpha):\n",
    "    J = []\n",
    "    w = np.zeros((X.shape[1],1))\n",
    "    for i in range(ephocs):\n",
    "        dw = gradient(X,y,w,C)\n",
    "        w = w - alpha*dw\n",
    "        J.append(Cost_fn(X,y,w,C))\n",
    "    \n",
    "    return J,w"
   ]
  },
  {
   "cell_type": "code",
   "execution_count": 12,
   "id": "6cf454ac",
   "metadata": {},
   "outputs": [],
   "source": [
    "C = 1\n",
    "alpha = 0.1\n",
    "iterations = 100\n",
    "J,w = Train_algo(X,y,w,iterations,C,alpha)"
   ]
  },
  {
   "cell_type": "code",
   "execution_count": 13,
   "id": "ae190cb1",
   "metadata": {},
   "outputs": [
    {
     "data": {
      "image/png": "[encoded data removed]",
      "text/plain": [
       "<Figure size 432x288 with 1 Axes>"
      ]
     },
     "metadata": {
      "needs_background": "light"
     },
     "output_type": "display_data"
    }
   ],
   "source": [
    "ephocs = [i for i in range(iterations)]\n",
    "plt.plot(ephocs,J,color='green')\n",
    "plt.show()"
   ]
  },
  {
   "cell_type": "code",
   "execution_count": 14,
   "id": "041e98aa",
   "metadata": {},
   "outputs": [
    {
     "data": {
      "image/png": "[encoded data removed]",
      "text/plain": [
       "<Figure size 432x288 with 1 Axes>"
      ]
     },
     "metadata": {
      "needs_background": "light"
     },
     "output_type": "display_data"
    }
   ],
   "source": [
    "#plot the fit along with data\n",
    "def plot_fit(X,y,labels,weights):\n",
    "    length = len(X)\n",
    "    pos = (y==labels[1]).reshape(length,1)\n",
    "    neg = (y==labels[0]).reshape(length,1)\n",
    "    plt.scatter(X[pos[:,0],1],X[pos[:,0],2],c='red',marker='+')\n",
    "    plt.scatter(X[neg[:,0],1],X[neg[:,0],2],c='blue',marker='x')\n",
    "    \n",
    "    x_value= np.array([np.min(X[:,1]),np.max(X[:,1])])\n",
    "    y_value = -(weights[0] + weights[1]*x_value)/weights[2]\n",
    "    \n",
    "    plt.plot(x_value,y_value,c='green')\n",
    "    \n",
    "    plt.show()\n",
    "\n",
    "plot_fit(X,y,labels,w)"
   ]
  },
  {
   "cell_type": "code",
   "execution_count": 15,
   "id": "7c1b6483",
   "metadata": {},
   "outputs": [
    {
     "name": "stdout",
     "output_type": "stream",
     "text": [
      "The accuracy for the training set: 98.0392156862745\n"
     ]
    }
   ],
   "source": [
    "#Calculate accuracy on the training set\n",
    "y1 = np.sign(np.dot(X,w))\n",
    "\n",
    "print(\"The accuracy for the training set:\",np.mean(y1==y)*100)"
   ]
  },
  {
   "cell_type": "markdown",
   "id": "95ea92eb",
   "metadata": {},
   "source": [
    "## Spam Classifier "
   ]
  },
  {
   "cell_type": "markdown",
   "id": "62f26a73",
   "metadata": {},
   "source": [
    "### Using Built In library"
   ]
  },
  {
   "cell_type": "code",
   "execution_count": 16,
   "id": "7338fa83",
   "metadata": {},
   "outputs": [],
   "source": [
    "d = loadmat(\"datasets/spamTrain.mat\")"
   ]
  },
  {
   "cell_type": "code",
   "execution_count": 17,
   "id": "df60499f",
   "metadata": {},
   "outputs": [],
   "source": [
    "X,y = d['X'],d['y']"
   ]
  },
  {
   "cell_type": "code",
   "execution_count": 18,
   "id": "75354ecd",
   "metadata": {},
   "outputs": [
    {
     "name": "stdout",
     "output_type": "stream",
     "text": [
      "Training Accuracy: 99.825 %\n"
     ]
    }
   ],
   "source": [
    "from sklearn.svm import SVC\n",
    "C =0.1\n",
    "spam_svc = SVC(C=0.1,kernel =\"linear\")\n",
    "spam_svc.fit(X,y.ravel())\n",
    "print(\"Training Accuracy:\",(spam_svc.score(X,y.ravel()))*100,\"%\")"
   ]
  },
  {
   "cell_type": "code",
   "execution_count": 19,
   "id": "c6ba1faf",
   "metadata": {},
   "outputs": [],
   "source": [
    "testdata = loadmat(\"datasets/spamTest.mat\")\n",
    "Xtest,ytest = testdata['Xtest'],testdata['ytest']"
   ]
  },
  {
   "cell_type": "code",
   "execution_count": 20,
   "id": "54b78322",
   "metadata": {},
   "outputs": [
    {
     "name": "stdout",
     "output_type": "stream",
     "text": [
      "Test Accuracy: 98.9 %\n"
     ]
    }
   ],
   "source": [
    "spam_svc.predict(Xtest)\n",
    "print(\"Test Accuracy:\",(spam_svc.score(Xtest,ytest.ravel()))*100,\"%\")"
   ]
  },
  {
   "cell_type": "code",
   "execution_count": 21,
   "id": "6848d8b1",
   "metadata": {},
   "outputs": [
    {
     "data": {
      "text/plain": [
       "(array([[ 0.00793208,  0.01563324,  0.05546492, ..., -0.08670606,\n",
       "         -0.00661274,  0.06506632]]),\n",
       " array([0.18632764]))"
      ]
     },
     "execution_count": 21,
     "metadata": {},
     "output_type": "execute_result"
    }
   ],
   "source": [
    "spam_svc.coef_,spam_svc.intercept_"
   ]
  },
  {
   "cell_type": "markdown",
   "id": "77621fe1",
   "metadata": {},
   "source": [
    "### My Train Logic"
   ]
  },
  {
   "cell_type": "code",
   "execution_count": 22,
   "id": "4d933f98",
   "metadata": {},
   "outputs": [],
   "source": [
    "# Read the dataset\n",
    "X,y = d['X'],d['y']\n",
    "\n",
    "# Convert the label 0 to label -1\n",
    "y = y.astype(float)\n",
    "y[y==0] = -1"
   ]
  },
  {
   "cell_type": "code",
   "execution_count": 23,
   "id": "fc4b3147",
   "metadata": {},
   "outputs": [],
   "source": [
    "X,w = Initialize_params(X,len(X))"
   ]
  },
  {
   "cell_type": "code",
   "execution_count": 24,
   "id": "97e914c4",
   "metadata": {},
   "outputs": [],
   "source": [
    "#Hyperparameters\n",
    "C = 10\n",
    "alpha = 0.003\n",
    "ephocs = 100\n"
   ]
  },
  {
   "cell_type": "code",
   "execution_count": 25,
   "id": "2d173a7f",
   "metadata": {},
   "outputs": [],
   "source": [
    "# Get trained weights\n",
    "J,w = Train_algo(X,y,w,ephocs,C,alpha)"
   ]
  },
  {
   "cell_type": "code",
   "execution_count": 26,
   "id": "d2887955",
   "metadata": {},
   "outputs": [
    {
     "data": {
      "image/png": "[encoded data removed]",
      "text/plain": [
       "<Figure size 432x288 with 1 Axes>"
      ]
     },
     "metadata": {
      "needs_background": "light"
     },
     "output_type": "display_data"
    }
   ],
   "source": [
    "# Plot the cost function\n",
    "e = [i for i in range(ephocs)]\n",
    "plt.plot(e,J,color='green')\n",
    "plt.show()"
   ]
  },
  {
   "cell_type": "code",
   "execution_count": 27,
   "id": "743666d5",
   "metadata": {},
   "outputs": [
    {
     "name": "stdout",
     "output_type": "stream",
     "text": [
      "Training Accuracy: 96.125\n"
     ]
    }
   ],
   "source": [
    "# Calculate the Training Accuracy\n",
    "ypred_train = np.sign(np.dot(X,w))\n",
    "\n",
    "print(\"Training Accuracy:\",np.mean(y == ypred_train)*100)"
   ]
  },
  {
   "cell_type": "code",
   "execution_count": 28,
   "id": "e065ec4a",
   "metadata": {},
   "outputs": [
    {
     "name": "stdout",
     "output_type": "stream",
     "text": [
      "Testing Accuracy: 96.6\n"
     ]
    }
   ],
   "source": [
    "# Test the accuracy on the test set\n",
    "\n",
    "Xtest,ytest = testdata['Xtest'],testdata['ytest']\n",
    "\n",
    "ytest = ytest.astype(float)\n",
    "ytest[ytest==0] = -1\n",
    "\n",
    "Xtest = np.append(np.ones((len(Xtest),1)),Xtest,axis=1)\n",
    "\n",
    "ypred_test = np.sign(np.dot(Xtest,w))\n",
    "\n",
    "print(\"Testing Accuracy:\",np.mean(ytest == ypred_test)*100)"
   ]
  },
  {
   "cell_type": "markdown",
   "id": "99d8cf8a",
   "metadata": {},
   "source": [
    "## Creating feature Vectors from email"
   ]
  },
  {
   "cell_type": "code",
   "execution_count": 29,
   "id": "7203c10e",
   "metadata": {},
   "outputs": [],
   "source": [
    "import os\n",
    "\n",
    "with open(\"datasets/emailSample1.txt\") as sample:\n",
    "    email_contents = sample.read()\n",
    "    "
   ]
  },
  {
   "cell_type": "code",
   "execution_count": 30,
   "id": "d4812827",
   "metadata": {},
   "outputs": [],
   "source": [
    "def getVocabList():\n",
    "    vocab = pd.read_csv(\"datasets/vocab.txt\",sep='\\t',header=None)\n",
    "    return list(vocab.iloc[:,1])"
   ]
  },
  {
   "cell_type": "code",
   "execution_count": 31,
   "id": "796aae18",
   "metadata": {},
   "outputs": [],
   "source": [
    "def processEmail(emailContents):\n",
    "    \n",
    "    word_indices = []\n",
    "    \n",
    "    #get vocab list\n",
    "    vocab = getVocabList()\n",
    "    \n",
    "    #lower all the size of each texts\n",
    "    emailContents = emailContents.lower()\n",
    "    \n",
    "    #remove any html tags\n",
    "    emailContents = re.compile('<[^<>]+>').sub(' ', emailContents)\n",
    "    \n",
    "    #normalizing the URL\n",
    "    emailContents = re.compile('(http|https)://[^\\s]*').sub(' httpaddr ',emailContents)\n",
    "    \n",
    "    #normalizing the email address\n",
    "    emailContents = re.compile('[^\\s]+@[^\\s]+').sub(' emailaddr ',emailContents)\n",
    "    \n",
    "    #normalize the numbers\n",
    "    emailContents = re.compile('[0-9]+').sub(' numbers ',emailContents)\n",
    "    \n",
    "    #normalize the dollars\n",
    "    emailContents = re.compile('[$]+').sub(' dollar ',emailContents)\n",
    "    \n",
    "    emailContents = re.split('[ @$/#.-:&*+=\\[\\]?!(){},''\">_<;%\\n\\r]', emailContents)\n",
    "    \n",
    "    # remove any empty word\n",
    "    emailContents = [word for word in emailContents if len(word) > 0]\n",
    "    \n",
    "    #stem the email content word by word\n",
    "    stemmer = PorterStemmer()\n",
    "    \n",
    "    for word in emailContents:\n",
    "        word = re.compile('[^a-zA-Z0-9]').sub('', word).strip()\n",
    "        word = stemmer.stem(word)\n",
    "        \n",
    "        if len(word) < 1:\n",
    "            continue\n",
    "        try:\n",
    "            word_indices.append(vocab.index(word))\n",
    "            \n",
    "        except ValueError:\n",
    "            pass\n",
    "        \n",
    "    return word_indices"
   ]
  },
  {
   "cell_type": "code",
   "execution_count": 32,
   "id": "54c6b626",
   "metadata": {},
   "outputs": [],
   "source": [
    "word_indices = processEmail(email_contents)"
   ]
  },
  {
   "cell_type": "code",
   "execution_count": 33,
   "id": "9ada6330",
   "metadata": {},
   "outputs": [],
   "source": [
    "def generate_featureVector(word_indices):\n",
    "    #The vocab list denotes the total number of features\n",
    "    n = 1899\n",
    "    feature_vec = np.zeros((n,1))\n",
    "    \n",
    "    for each in word_indices:\n",
    "        feature_vec[each] = 1\n",
    "        \n",
    "    return feature_vec"
   ]
  },
  {
   "cell_type": "code",
   "execution_count": 34,
   "id": "61b4a8fd",
   "metadata": {},
   "outputs": [],
   "source": [
    "#The feature vector for the above email sample is:\n",
    "feature_vector = generate_featureVector(word_indices)"
   ]
  },
  {
   "cell_type": "code",
   "execution_count": 35,
   "id": "7368d8f1",
   "metadata": {},
   "outputs": [
    {
     "data": {
      "text/plain": [
       "(1, 1900)"
      ]
     },
     "execution_count": 35,
     "metadata": {},
     "output_type": "execute_result"
    }
   ],
   "source": [
    "#Predict if the feature vector generated is spam or non spam\n",
    "feature_vector = feature_vector.reshape(1,feature_vector.shape[0])\n",
    "featureVec = np.append(np.ones((feature_vector.shape[0],1)),feature_vector,axis=1)\n",
    "\n",
    "featureVec.shape"
   ]
  },
  {
   "cell_type": "code",
   "execution_count": 36,
   "id": "27291c8d",
   "metadata": {},
   "outputs": [
    {
     "name": "stdout",
     "output_type": "stream",
     "text": [
      "The sample email predicted is non spam\n"
     ]
    }
   ],
   "source": [
    "output = np.sign(np.dot(featureVec,w))\n",
    "pred = float(output[0])\n",
    "\n",
    "#for the given email sample, from human labelling it is expected to be a non spam email\n",
    "if pred == 1:\n",
    "    print(\"The sample email predicted is spam\")\n",
    "else:\n",
    "    print(\"The sample email predicted is non spam\")"
   ]
  },
  {
   "cell_type": "markdown",
   "id": "2733b34f",
   "metadata": {},
   "source": [
    "In this way, we can generate features for all email samples and then use the model built above to predict if the email is spam or non spam"
   ]
  }
 ],
 "metadata": {
  "kernelspec": {
   "display_name": "Python 3",
   "language": "python",
   "name": "python3"
  },
  "language_info": {
   "codemirror_mode": {
    "name": "ipython",
    "version": 3
   },
   "file_extension": ".py",
   "mimetype": "text/x-python",
   "name": "python",
   "nbconvert_exporter": "python",
   "pygments_lexer": "ipython3",
   "version": "3.8.8"
  }
 },
 "nbformat": 4,
 "nbformat_minor": 5
}
