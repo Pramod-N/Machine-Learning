{
 "cells": [
  {
   "cell_type": "code",
   "execution_count": 1,
   "id": "1ad2bed5",
   "metadata": {},
   "outputs": [],
   "source": [
    "import numpy as np\n",
    "import matplotlib.pyplot as plt\n",
    "import pandas as pd\n",
    "from sklearn.datasets import load_iris\n",
    "import math\n",
    "from sklearn.model_selection import train_test_split"
   ]
  },
  {
   "cell_type": "markdown",
   "id": "9c7f9876",
   "metadata": {},
   "source": [
    "## Load the Dataset"
   ]
  },
  {
   "cell_type": "code",
   "execution_count": 17,
   "id": "a390cc01",
   "metadata": {},
   "outputs": [],
   "source": [
    "data = load_iris()\n",
    "\n",
    "X, y = data['data'],data['target']"
   ]
  },
  {
   "cell_type": "markdown",
   "id": "96fcfb96",
   "metadata": {},
   "source": [
    "## Visualize the data"
   ]
  },
  {
   "cell_type": "markdown",
   "id": "96828e38",
   "metadata": {},
   "source": [
    "Lets visualize what type of distribution does sepal length has. "
   ]
  },
  {
   "cell_type": "code",
   "execution_count": 18,
   "id": "815f7bee",
   "metadata": {},
   "outputs": [
    {
     "data": {
      "text/plain": [
       "(array([ 0.,  0.,  4., 12., 29., 20., 24., 26., 18.,  9.,  3.,  5.,  0.]),\n",
       " array([3.3, 3.7, 4.1, 4.5, 4.9, 5.3, 5.7, 6.1, 6.5, 6.9, 7.3, 7.7, 8.1,\n",
       "        8.5]),\n",
       " <BarContainer object of 13 artists>)"
      ]
     },
     "execution_count": 18,
     "metadata": {},
     "output_type": "execute_result"
    },
    {
     "data": {
      "image/png": "[encoded data removed]",
      "text/plain": [
       "<Figure size 432x288 with 1 Axes>"
      ]
     },
     "metadata": {
      "needs_background": "light"
     },
     "output_type": "display_data"
    }
   ],
   "source": [
    "bins = np.arange(min(X[:,0]) -1,max(X[:,0])+1,0.4)\n",
    "\n",
    "plt.hist(X[:,0],bins,histtype='bar',ec='black')"
   ]
  },
  {
   "cell_type": "markdown",
   "id": "f3c2d311",
   "metadata": {},
   "source": [
    "The distribution is kind of like Normal/ Gaussian Distribution"
   ]
  },
  {
   "cell_type": "markdown",
   "id": "108eee64",
   "metadata": {},
   "source": [
    "## Convert to Dataframe with column names"
   ]
  },
  {
   "cell_type": "code",
   "execution_count": 19,
   "id": "7c6acb3f",
   "metadata": {},
   "outputs": [],
   "source": [
    "dataset = np.append(X,y.reshape(y.shape[0],1),axis=1)\n",
    "\n",
    "dataset = pd.DataFrame(dataset)\n",
    "\n",
    "dataset = dataset.rename(columns={0:'sepal length',1:'sepal width',2:'petal length',3:'petal width',4:'class'})"
   ]
  },
  {
   "cell_type": "markdown",
   "id": "5a390a5d",
   "metadata": {},
   "source": [
    "## Shuffle"
   ]
  },
  {
   "cell_type": "code",
   "execution_count": 20,
   "id": "df51f461",
   "metadata": {},
   "outputs": [],
   "source": [
    "def Random_shuffle(dataset):\n",
    "    for i in range(100):\n",
    "        dataset = dataset.sample(frac=1).reset_index(drop=True)\n",
    "    return dataset\n",
    "\n",
    "dataset = Random_shuffle(dataset)"
   ]
  },
  {
   "cell_type": "markdown",
   "id": "51a3939a",
   "metadata": {},
   "source": [
    "## Preprocessing"
   ]
  },
  {
   "cell_type": "code",
   "execution_count": 21,
   "id": "4abb74a2",
   "metadata": {},
   "outputs": [],
   "source": [
    "def PreProcessing(dataset):\n",
    "    X = dataset.drop([dataset.columns[-1]],axis=1)\n",
    "    y = dataset[dataset.columns[-1]]\n",
    "    \n",
    "    return X,y\n",
    "\n",
    "X, y = PreProcessing(dataset)"
   ]
  },
  {
   "cell_type": "code",
   "execution_count": 22,
   "id": "91769bdf",
   "metadata": {},
   "outputs": [],
   "source": [
    "X_train, X_test, y_train, y_test = train_test_split(X, y, test_size=0.10, random_state=42)"
   ]
  },
  {
   "cell_type": "markdown",
   "id": "ed976c0a",
   "metadata": {},
   "source": [
    "## Helper Methods"
   ]
  },
  {
   "cell_type": "code",
   "execution_count": 23,
   "id": "08ecba16",
   "metadata": {},
   "outputs": [],
   "source": [
    "def Convert_to_numpy_array(array):\n",
    "    arr = np.fromiter(array.values(),dtype=float)\n",
    "    return arr"
   ]
  },
  {
   "cell_type": "markdown",
   "id": "b64a8016",
   "metadata": {},
   "source": [
    "# Naive Bayes Implementation"
   ]
  },
  {
   "cell_type": "markdown",
   "id": "d4fbda48",
   "metadata": {},
   "source": [
    "### Prior Probability"
   ]
  },
  {
   "cell_type": "code",
   "execution_count": 24,
   "id": "ec09ee65",
   "metadata": {},
   "outputs": [
    {
     "name": "stdout",
     "output_type": "stream",
     "text": [
      "Prior Probability for setosa: 0.333\n",
      "Prior Probability for versicolor: 0.333\n",
      "Prior Probability for virginica: 0.333\n"
     ]
    }
   ],
   "source": [
    "##Calculate the Prior Probabilites\n",
    "def Prior_Probability(y):\n",
    "    \n",
    "    total_samples = y.shape[0]\n",
    "    setosa = len(y[y==0])/total_samples\n",
    "    versicolor = len(y[y==1])/total_samples\n",
    "    virginica = len(y[y==2])/total_samples\n",
    "    \n",
    "    Prior_Prob = {\n",
    "        0 : format(setosa,\".3f\"),\n",
    "        1: format(versicolor,\".3f\"),\n",
    "        2: format(virginica,\".3f\")\n",
    "    }\n",
    "    map_class_to_label = {\n",
    "        0: \"setosa\",\n",
    "        1: \"versicolor\",\n",
    "        2: \"virginica\"\n",
    "    }\n",
    "    return Prior_Prob,map_class_to_label\n",
    "\n",
    "\n",
    "Prior_Prob,class_to_label_map = Prior_Probability(y)\n",
    "\n",
    "print(\"Prior Probability for setosa:\",Prior_Prob[0])\n",
    "print(\"Prior Probability for versicolor:\",Prior_Prob[1])\n",
    "print(\"Prior Probability for virginica:\",Prior_Prob[2])"
   ]
  },
  {
   "cell_type": "markdown",
   "id": "5ef2c878",
   "metadata": {},
   "source": [
    "### Mean & Variance for Each Features"
   ]
  },
  {
   "cell_type": "code",
   "execution_count": 25,
   "id": "666193e2",
   "metadata": {},
   "outputs": [
    {
     "name": "stdout",
     "output_type": "stream",
     "text": [
      "\t\tSepal Length\tSepal Width\tPetal Length\tPetal Width\n",
      "Mean\t\t 5.843 \t\t 3.057 \t\t 3.758 \t\t 1.199\n",
      "\n",
      "Variance\t 0.681 \t\t 0.189 \t\t 3.096 \t\t 0.577\n"
     ]
    }
   ],
   "source": [
    "def Calc_mean_variance(x):\n",
    "    features_mean = np.mean(x,axis=0)\n",
    "    \n",
    "    mean_of_features = {\n",
    "        0: format(features_mean['sepal length'],\".3f\"),\n",
    "        1: format(features_mean['sepal width'],\".3f\"),\n",
    "        2: format(features_mean['petal length'],\".3f\"),\n",
    "        3: format(features_mean['petal width'],\".3f\")\n",
    "    }\n",
    "    \n",
    "    features_variance = np.var(x,axis=0)\n",
    "    \n",
    "    var_of_features = {\n",
    "        0: format(features_variance['sepal length'],\".3f\"),\n",
    "        1: format(features_variance['sepal width'],\".3f\"),\n",
    "        2: format(features_variance['petal length'],\".3f\"),\n",
    "        3: format(features_variance['petal width'],\".3f\")\n",
    "    }\n",
    "    \n",
    "    return mean_of_features,var_of_features\n",
    "\n",
    "mean, variance  = Calc_mean_variance(X)\n",
    "\n",
    "print(\"\\t\\tSepal Length\\tSepal Width\\tPetal Length\\tPetal Width\")\n",
    "print(\"Mean\\t\\t\",mean[0],'\\t\\t',mean[1],'\\t\\t',mean[2],'\\t\\t',mean[3])\n",
    "print(\"\\nVariance\\t\",variance[0],'\\t\\t',variance[1],'\\t\\t',\\\n",
    "      variance[2],'\\t\\t',variance[3])\n",
    "\n",
    "mean = Convert_to_numpy_array(mean)\n",
    "variance = Convert_to_numpy_array(variance)"
   ]
  },
  {
   "cell_type": "markdown",
   "id": "31b8fc82",
   "metadata": {},
   "source": [
    "### Mean and Variance per Class"
   ]
  },
  {
   "cell_type": "code",
   "execution_count": 26,
   "id": "59dfba01",
   "metadata": {},
   "outputs": [],
   "source": [
    "def Calc_mean_var_per_class(dataset):\n",
    "    mean = []\n",
    "    variance = []\n",
    "    for i in np.unique(dataset['class']):\n",
    "        df = dataset[dataset['class'] == i]\n",
    "        mu,var = Calc_mean_variance(df.loc[:,df.columns!='class'])\n",
    "        mean_arr = Convert_to_numpy_array(mu)\n",
    "        variance_arr = Convert_to_numpy_array(var)\n",
    "        mean.append(mean_arr)\n",
    "        variance.append(variance_arr)\n",
    "    \n",
    "    return (np.array(mean),np.array(variance))\n",
    "\n",
    "mean_per_class,var_per_class = Calc_mean_var_per_class(dataset)"
   ]
  },
  {
   "cell_type": "markdown",
   "id": "c43d0918",
   "metadata": {},
   "source": [
    "### Gaussian Distribution"
   ]
  },
  {
   "cell_type": "code",
   "execution_count": 27,
   "id": "2497f41d",
   "metadata": {},
   "outputs": [],
   "source": [
    "def GaussianDistribution(x,mu,variance):\n",
    "    exp_numerator = (x - mu)**2\n",
    "    exp_denomerator = 2*variance\n",
    "    exp_part = np.exp(-(exp_numerator/exp_denomerator))\n",
    "    non_exp_part = 1/np.sqrt(2*math.pi*variance)\n",
    "    \n",
    "    Prob = non_exp_part * exp_part\n",
    "    \n",
    "    Gaussian_prob = Prob.prod(axis=1)\n",
    "    \n",
    "    return Gaussian_prob\n",
    "\n",
    "P_evidence = GaussianDistribution(X,mean,variance)"
   ]
  },
  {
   "cell_type": "markdown",
   "id": "5cbeacc4",
   "metadata": {},
   "source": [
    "### Liklihood Estimate Probability(P(X/c))"
   ]
  },
  {
   "cell_type": "code",
   "execution_count": 28,
   "id": "4f8ac34c",
   "metadata": {},
   "outputs": [],
   "source": [
    "# Calculate P(x/c)\n",
    "def Calc_Liklihood(X,mean_per_class,var_per_class):\n",
    "    X = np.array(X)\n",
    "    result = []\n",
    "    Prob_likilihood = []\n",
    "    for i in range(len(X)):\n",
    "        Prob_likilihood.append(GaussianDistribution(X[i],mean_per_class,var_per_class))\n",
    "        \n",
    "    return np.array(Prob_likilihood)\n",
    "\n",
    "Prob_liklihood = Calc_Liklihood(X,mean_per_class,var_per_class)"
   ]
  },
  {
   "cell_type": "markdown",
   "id": "4baba46a",
   "metadata": {},
   "source": [
    "## Prediction"
   ]
  },
  {
   "cell_type": "code",
   "execution_count": 30,
   "id": "50f502d0",
   "metadata": {},
   "outputs": [],
   "source": [
    "def Predict(model,X,P_evidence):\n",
    "    Prob_liklihood = Calc_Liklihood(X,model[\"mean_per_class\"],model[\"var_per_class\"])\n",
    "    Prior_Prob = Convert_to_numpy_array(model[\"P(C)\"])\n",
    "    P_evidence = np.array(P_evidence).reshape(P_evidence.shape[0],1)\n",
    "    Prob_outcome = (Prob_liklihood * Prior_Prob.T)/P_evidence\n",
    "    Posterier_prob = np.argmax(Prob_outcome,axis=1)\n",
    "    return Posterier_prob\n",
    "\n",
    "model = {\n",
    "        \"P(C)\": Prior_Prob,\n",
    "        \"P(X)\": P_evidence,\n",
    "        \"mean_per_class\": mean_per_class,\n",
    "        \"var_per_class\": var_per_class,\n",
    "        \"mean\": mean,\n",
    "        \"variance\": variance\n",
    "    }\n",
    "Posterier_prob = Predict(model,X,P_evidence)"
   ]
  },
  {
   "cell_type": "code",
   "execution_count": 31,
   "id": "e88a12cf",
   "metadata": {},
   "outputs": [
    {
     "name": "stdout",
     "output_type": "stream",
     "text": [
      "The accuracy on the entire data: 96.0 %\n"
     ]
    }
   ],
   "source": [
    "print(\"The accuracy on the entire data:\",np.mean(y==Posterier_prob)*100,\"%\")"
   ]
  },
  {
   "cell_type": "markdown",
   "id": "352a4c69",
   "metadata": {},
   "source": [
    "## Fitting"
   ]
  },
  {
   "cell_type": "code",
   "execution_count": 32,
   "id": "0d791916",
   "metadata": {},
   "outputs": [],
   "source": [
    "def fit(X,y):\n",
    "    \n",
    "    Prior_Prob,_ = Prior_Probability(y)\n",
    "    df = pd.concat([X,y],axis=1)\n",
    "    mean_per_class,var_per_class = Calc_mean_var_per_class(df)\n",
    "    mean, variance  = Calc_mean_variance(X)\n",
    "    mean = Convert_to_numpy_array(mean)\n",
    "    variance = Convert_to_numpy_array(variance)\n",
    "    P_evidence = GaussianDistribution(X,mean,variance)\n",
    "    \n",
    "    model = {\n",
    "        \"P(C)\": Prior_Prob,\n",
    "        \"P(X)\": P_evidence,\n",
    "        \"mean_per_class\": mean_per_class,\n",
    "        \"var_per_class\": var_per_class,\n",
    "        \"mean\": mean,\n",
    "        \"variance\": variance\n",
    "    }\n",
    "    \n",
    "    return model"
   ]
  },
  {
   "cell_type": "code",
   "execution_count": 33,
   "id": "00f8314c",
   "metadata": {},
   "outputs": [],
   "source": [
    "model = fit(X_train,y_train)"
   ]
  },
  {
   "cell_type": "markdown",
   "id": "41157bc8",
   "metadata": {},
   "source": [
    "## Accuracy on the training set"
   ]
  },
  {
   "cell_type": "code",
   "execution_count": 34,
   "id": "e213d41f",
   "metadata": {},
   "outputs": [
    {
     "name": "stdout",
     "output_type": "stream",
     "text": [
      "The accuracy on the entire data: 95.55555555555556 %\n"
     ]
    }
   ],
   "source": [
    "Posterier_prob = Predict(model,X_train,model[\"P(X)\"])\n",
    "\n",
    "print(\"The accuracy on the entire data:\",np.mean(y_train==Posterier_prob)*100,\"%\")"
   ]
  },
  {
   "cell_type": "markdown",
   "id": "f30afecb",
   "metadata": {},
   "source": [
    "## Accuracy on the test set"
   ]
  },
  {
   "cell_type": "code",
   "execution_count": 35,
   "id": "5905a2b6",
   "metadata": {},
   "outputs": [
    {
     "name": "stdout",
     "output_type": "stream",
     "text": [
      "The accuracy on the entire data: 93.33333333333333 %\n"
     ]
    }
   ],
   "source": [
    "P_evidence = GaussianDistribution(X_test,model[\"mean\"],model[\"variance\"])\n",
    "\n",
    "Posterier_prob = Predict(model,X_test,P_evidence)\n",
    "\n",
    "print(\"The accuracy on the entire data:\",np.mean(y_test==Posterier_prob)*100,\"%\")"
   ]
  }
 ],
 "metadata": {
  "kernelspec": {
   "display_name": "Python 3",
   "language": "python",
   "name": "python3"
  },
  "language_info": {
   "codemirror_mode": {
    "name": "ipython",
    "version": 3
   },
   "file_extension": ".py",
   "mimetype": "text/x-python",
   "name": "python",
   "nbconvert_exporter": "python",
   "pygments_lexer": "ipython3",
   "version": "3.8.8"
  }
 },
 "nbformat": 4,
 "nbformat_minor": 5
}
