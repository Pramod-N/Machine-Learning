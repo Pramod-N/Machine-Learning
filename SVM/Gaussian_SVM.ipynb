{
 "cells": [
  {
   "cell_type": "code",
   "execution_count": 1,
   "id": "f4cc78b3",
   "metadata": {},
   "outputs": [],
   "source": [
    "import numpy as np\n",
    "import matplotlib.pyplot as plt\n",
    "import pandas as pd\n",
    "from scipy.io import loadmat\n",
    "import regex as re\n",
    "from nltk.stem import PorterStemmer\n",
    "from matplotlib.colors import ListedColormap"
   ]
  },
  {
   "cell_type": "code",
   "execution_count": 2,
   "id": "ade43e53",
   "metadata": {},
   "outputs": [],
   "source": [
    "def plot_data(dataset,labels):\n",
    "    X,y = dataset[:,0:-1],dataset[:,-1]\n",
    "    length = len(X)\n",
    "    pos = (y==labels[1]).reshape(length,1)\n",
    "    neg = (y==labels[0]).reshape(length,1)\n",
    "    plt.scatter(dataset[pos[:,0],0],dataset[pos[:,0],1],c='red',marker='+')\n",
    "    plt.scatter(dataset[neg[:,0],0],dataset[neg[:,0],1],c='blue',marker='x')\n",
    "    \n",
    "    plt.show()"
   ]
  },
  {
   "cell_type": "code",
   "execution_count": 3,
   "id": "e5ff56c4",
   "metadata": {},
   "outputs": [
    {
     "data": {
      "image/png": "[encoded data removed]",
      "text/plain": [
       "<Figure size 432x288 with 1 Axes>"
      ]
     },
     "metadata": {
      "needs_background": "light"
     },
     "output_type": "display_data"
    }
   ],
   "source": [
    "def load__plot_data():\n",
    "    data = loadmat(\"datasets/sampleData.mat\")\n",
    "    X,y = data['X'],data['y']\n",
    "    y = y.astype(float)\n",
    "    y[y==0]=-1\n",
    "    #plot the data\n",
    "    dataset = np.append(X,y,axis=1)\n",
    "    labels = np.unique(dataset[:,-1])\n",
    "    plot_data(dataset,labels)\n",
    "    \n",
    "    return X,y,dataset,labels\n",
    "\n",
    "X,y,dataset,labels = load__plot_data()"
   ]
  },
  {
   "cell_type": "code",
   "execution_count": 4,
   "id": "0fc037f3",
   "metadata": {},
   "outputs": [],
   "source": [
    "def gaussian_kernel(X,sigma):\n",
    "    Xdash = np.sum(X**2,axis=1)\n",
    "    K = Xdash + Xdash[:,None] - 2 * np.dot(X,X.T)\n",
    "    K /= 2*(sigma**2)\n",
    "    \n",
    "    K = np.exp(-K)\n",
    "    \n",
    "    return K"
   ]
  },
  {
   "cell_type": "code",
   "execution_count": 5,
   "id": "7ad4462d",
   "metadata": {},
   "outputs": [],
   "source": [
    "sigma = 0.3\n",
    "K = gaussian_kernel(X,sigma)"
   ]
  },
  {
   "cell_type": "code",
   "execution_count": 6,
   "id": "cd1eb778",
   "metadata": {},
   "outputs": [],
   "source": [
    "def Initialize_params(X,m):\n",
    "    w = np.zeros((X.shape[1],1))\n",
    "    \n",
    "    return w"
   ]
  },
  {
   "cell_type": "code",
   "execution_count": 7,
   "id": "af7e0f70",
   "metadata": {},
   "outputs": [],
   "source": [
    "w = Initialize_params(K,len(K))"
   ]
  },
  {
   "cell_type": "code",
   "execution_count": 8,
   "id": "f69c46c6",
   "metadata": {},
   "outputs": [],
   "source": [
    "def Cost_fn(X,y,w,C):\n",
    "    distance = 1 - y*np.dot(X,w)\n",
    "    distance[distance < 0] = 0\n",
    "    N =len(y)\n",
    "    hinge_loss = (C * np.sum(distance))/N\n",
    "    cost = (1/2) * np.dot(w.T,w) + hinge_loss\n",
    "    return float(cost[0])"
   ]
  },
  {
   "cell_type": "code",
   "execution_count": 9,
   "id": "85f2f510",
   "metadata": {},
   "outputs": [],
   "source": [
    "def gradient(X,y,w,C):\n",
    "    output = 1 - y*np.dot(X,w)\n",
    "    dw = np.zeros((len(w),1))\n",
    "    for i,out in enumerate(output):\n",
    "        if max(0,out) == 0:\n",
    "            di = w\n",
    "        else:\n",
    "            di = w - C*y[i]*X[i].reshape(X.shape[1],1)\n",
    "        dw += di\n",
    "        \n",
    "    return dw/len(y)"
   ]
  },
  {
   "cell_type": "code",
   "execution_count": 10,
   "id": "52595365",
   "metadata": {},
   "outputs": [],
   "source": [
    "def Train_algo(X,y,w,ephocs,C,alpha):\n",
    "    J = []\n",
    "    w = np.zeros((X.shape[1],1))\n",
    "    for i in range(ephocs):\n",
    "        dw = gradient(X,y,w,C)\n",
    "        w = w - alpha*dw\n",
    "        J.append(Cost_fn(X,y,w,C))\n",
    "    \n",
    "    return J,w"
   ]
  },
  {
   "cell_type": "code",
   "execution_count": 11,
   "id": "e97705af",
   "metadata": {},
   "outputs": [],
   "source": [
    "C = 0.64\n",
    "alpha = 0.1\n",
    "iterations = 100\n",
    "J,w = Train_algo(K,y,w,iterations,C,alpha)"
   ]
  },
  {
   "cell_type": "code",
   "execution_count": 12,
   "id": "078187d8",
   "metadata": {},
   "outputs": [
    {
     "data": {
      "image/png": "[encoded data removed]",
      "text/plain": [
       "<Figure size 432x288 with 1 Axes>"
      ]
     },
     "metadata": {
      "needs_background": "light"
     },
     "output_type": "display_data"
    }
   ],
   "source": [
    "ephocs = [i for i in range(iterations)]\n",
    "plt.plot(ephocs,J,color='green')\n",
    "plt.show()"
   ]
  },
  {
   "cell_type": "code",
   "execution_count": 13,
   "id": "f3e87c65",
   "metadata": {},
   "outputs": [
    {
     "name": "stdout",
     "output_type": "stream",
     "text": [
      "The accuracy for the training set: 85.78199052132702\n"
     ]
    }
   ],
   "source": [
    "#Calculate accuracy on the training set\n",
    "y1 = np.sign(np.dot(K,w))\n",
    "\n",
    "print(\"The accuracy for the training set:\",np.mean(y1==y)*100)"
   ]
  },
  {
   "cell_type": "markdown",
   "id": "43a1a04b",
   "metadata": {},
   "source": [
    "## Test the Model"
   ]
  },
  {
   "cell_type": "code",
   "execution_count": 14,
   "id": "99317a01",
   "metadata": {},
   "outputs": [],
   "source": [
    "def Predict(X,w,xtest):\n",
    "    #reshape the test array\n",
    "    xtest = xtest.reshape(1,xtest.shape[0])\n",
    "\n",
    "    #find the Kernel for the test array\n",
    "    xtestKernal = np.sum((X - xtest)**2,axis=1)\n",
    "    xtestKernal = xtestKernal.reshape(1,xtestKernal.shape[0])\n",
    "    xtestKernal /= 2*(sigma**2) \n",
    "    xtestKernal = np.exp(-xtestKernal)\n",
    "    \n",
    "    pred = float(np.sign(np.dot(xtestKernal,w))[0])\n",
    "    \n",
    "    return pred"
   ]
  },
  {
   "cell_type": "code",
   "execution_count": 15,
   "id": "3dd5aa51",
   "metadata": {},
   "outputs": [
    {
     "name": "stdout",
     "output_type": "stream",
     "text": [
      "The predicted class for the Input data [ 0.19 -0.4 ] is: -1.0\n"
     ]
    }
   ],
   "source": [
    "xtest = np.array([0.19,-0.4])\n",
    "\n",
    "#Predict the output for the given test data. \n",
    "#Note: The expected output is -1\n",
    "\n",
    "pred = Predict(X,w,xtest)\n",
    "\n",
    "print(\"The predicted class for the Input data\",xtest,\"is:\",pred)"
   ]
  },
  {
   "cell_type": "markdown",
   "id": "30bbb69a",
   "metadata": {},
   "source": [
    "## Decision Boundary"
   ]
  },
  {
   "cell_type": "code",
   "execution_count": 16,
   "id": "7fef01d3",
   "metadata": {},
   "outputs": [],
   "source": [
    "def Plot_decisionBoundary(X,y,w):\n",
    "    x_min,x_max = np.min(X[:,0]) - 1, np.max(X[:,0]) + 1\n",
    "    y_min,y_max = np.min(X[:,1]) - 1, np.max(X[:,1]) + 1\n",
    "    xplot,yplot = np.meshgrid(np.arange(x_min,x_max,0.5),np.arange(y_min,y_max,0.5))\n",
    "    \n",
    "    samples = np.c_[xplot.ravel(),yplot.ravel()]\n",
    "    pred_val = np.zeros((samples.shape[0],1))\n",
    "    \n",
    "    for i in range(samples.shape[0]):\n",
    "        pred_val[i] = Predict(X,w,samples[i,:])\n",
    "        \n",
    "    cmap_light = ListedColormap(['#FFAAAA', '#AAFFAA', '#AAAAFF'])\n",
    "    cmap_bold = ListedColormap(['#FF0000', '#00FF00', '#0000FF'])\n",
    "\n",
    "    plt.figure()\n",
    "    plt.pcolormesh(xplot, yplot, pred_val.reshape(xplot.shape), cmap=cmap_light)\n",
    "\n",
    "    # Plot also the training points\n",
    "    plt.scatter(X[:, 0], X[:, 1], c=y, cmap=cmap_bold,marker='x')\n",
    "    plt.xlim(np.min(X[:,0])-0.2,np.max(X[:,0])+0.2)\n",
    "    plt.ylim(np.min(X[:,1])-0.2,np.max(X[:,1])+0.2)\n",
    "\n",
    "    plt.show()"
   ]
  },
  {
   "cell_type": "code",
   "execution_count": 17,
   "id": "ed027681",
   "metadata": {},
   "outputs": [
    {
     "name": "stderr",
     "output_type": "stream",
     "text": [
      "<ipython-input-16-0da197ffd1eb>:16: MatplotlibDeprecationWarning: shading='flat' when X and Y have the same dimensions as C is deprecated since 3.3.  Either specify the corners of the quadrilaterals with X and Y, or pass shading='auto', 'nearest' or 'gouraud', or set rcParams['pcolor.shading'].  This will become an error two minor releases later.\n",
      "  plt.pcolormesh(xplot, yplot, pred_val.reshape(xplot.shape), cmap=cmap_light)\n"
     ]
    },
    {
     "data": {
      "image/png": "[encoded data removed]",
      "text/plain": [
       "<Figure size 432x288 with 1 Axes>"
      ]
     },
     "metadata": {
      "needs_background": "light"
     },
     "output_type": "display_data"
    }
   ],
   "source": [
    "Plot_decisionBoundary(X,y,w)"
   ]
  }
 ],
 "metadata": {
  "kernelspec": {
   "display_name": "Python 3",
   "language": "python",
   "name": "python3"
  },
  "language_info": {
   "codemirror_mode": {
    "name": "ipython",
    "version": 3
   },
   "file_extension": ".py",
   "mimetype": "text/x-python",
   "name": "python",
   "nbconvert_exporter": "python",
   "pygments_lexer": "ipython3",
   "version": "3.8.8"
  }
 },
 "nbformat": 4,
 "nbformat_minor": 5
}
