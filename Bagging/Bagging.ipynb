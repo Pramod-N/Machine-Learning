{
 "cells": [
  {
   "cell_type": "code",
   "execution_count": 1,
   "id": "0ac00239",
   "metadata": {},
   "outputs": [],
   "source": [
    "import numpy as np\n",
    "import matplotlib.pyplot as plt\n",
    "import pandas as pd\n",
    "import random\n",
    "from scipy.stats import mode"
   ]
  },
  {
   "cell_type": "markdown",
   "id": "7ac79a49",
   "metadata": {},
   "source": [
    "The dataset can be downloaded from here:\n",
    "\n",
    "https://archive.ics.uci.edu/ml/datasets/Blood+Transfusion+Service+Center"
   ]
  },
  {
   "cell_type": "code",
   "execution_count": 2,
   "id": "1e30fc01",
   "metadata": {},
   "outputs": [
    {
     "data": {
      "text/html": [
       "<div>\n",
       "<style scoped>\n",
       "    .dataframe tbody tr th:only-of-type {\n",
       "        vertical-align: middle;\n",
       "    }\n",
       "\n",
       "    .dataframe tbody tr th {\n",
       "        vertical-align: top;\n",
       "    }\n",
       "\n",
       "    .dataframe thead th {\n",
       "        text-align: right;\n",
       "    }\n",
       "</style>\n",
       "<table border=\"1\" class=\"dataframe\">\n",
       "  <thead>\n",
       "    <tr style=\"text-align: right;\">\n",
       "      <th></th>\n",
       "      <th>Recency (months)</th>\n",
       "      <th>Frequency (times)</th>\n",
       "      <th>Monetary (c.c. blood)</th>\n",
       "      <th>Time (months)</th>\n",
       "      <th>whether he/she donated blood in March 2007</th>\n",
       "    </tr>\n",
       "  </thead>\n",
       "  <tbody>\n",
       "    <tr>\n",
       "      <th>0</th>\n",
       "      <td>2</td>\n",
       "      <td>50</td>\n",
       "      <td>12500</td>\n",
       "      <td>98</td>\n",
       "      <td>1</td>\n",
       "    </tr>\n",
       "    <tr>\n",
       "      <th>1</th>\n",
       "      <td>0</td>\n",
       "      <td>13</td>\n",
       "      <td>3250</td>\n",
       "      <td>28</td>\n",
       "      <td>1</td>\n",
       "    </tr>\n",
       "    <tr>\n",
       "      <th>2</th>\n",
       "      <td>1</td>\n",
       "      <td>16</td>\n",
       "      <td>4000</td>\n",
       "      <td>35</td>\n",
       "      <td>1</td>\n",
       "    </tr>\n",
       "    <tr>\n",
       "      <th>3</th>\n",
       "      <td>2</td>\n",
       "      <td>20</td>\n",
       "      <td>5000</td>\n",
       "      <td>45</td>\n",
       "      <td>1</td>\n",
       "    </tr>\n",
       "    <tr>\n",
       "      <th>4</th>\n",
       "      <td>1</td>\n",
       "      <td>24</td>\n",
       "      <td>6000</td>\n",
       "      <td>77</td>\n",
       "      <td>0</td>\n",
       "    </tr>\n",
       "    <tr>\n",
       "      <th>...</th>\n",
       "      <td>...</td>\n",
       "      <td>...</td>\n",
       "      <td>...</td>\n",
       "      <td>...</td>\n",
       "      <td>...</td>\n",
       "    </tr>\n",
       "    <tr>\n",
       "      <th>743</th>\n",
       "      <td>23</td>\n",
       "      <td>2</td>\n",
       "      <td>500</td>\n",
       "      <td>38</td>\n",
       "      <td>0</td>\n",
       "    </tr>\n",
       "    <tr>\n",
       "      <th>744</th>\n",
       "      <td>21</td>\n",
       "      <td>2</td>\n",
       "      <td>500</td>\n",
       "      <td>52</td>\n",
       "      <td>0</td>\n",
       "    </tr>\n",
       "    <tr>\n",
       "      <th>745</th>\n",
       "      <td>23</td>\n",
       "      <td>3</td>\n",
       "      <td>750</td>\n",
       "      <td>62</td>\n",
       "      <td>0</td>\n",
       "    </tr>\n",
       "    <tr>\n",
       "      <th>746</th>\n",
       "      <td>39</td>\n",
       "      <td>1</td>\n",
       "      <td>250</td>\n",
       "      <td>39</td>\n",
       "      <td>0</td>\n",
       "    </tr>\n",
       "    <tr>\n",
       "      <th>747</th>\n",
       "      <td>72</td>\n",
       "      <td>1</td>\n",
       "      <td>250</td>\n",
       "      <td>72</td>\n",
       "      <td>0</td>\n",
       "    </tr>\n",
       "  </tbody>\n",
       "</table>\n",
       "<p>748 rows × 5 columns</p>\n",
       "</div>"
      ],
      "text/plain": [
       "     Recency (months)  Frequency (times)  Monetary (c.c. blood)  \\\n",
       "0                   2                 50                  12500   \n",
       "1                   0                 13                   3250   \n",
       "2                   1                 16                   4000   \n",
       "3                   2                 20                   5000   \n",
       "4                   1                 24                   6000   \n",
       "..                ...                ...                    ...   \n",
       "743                23                  2                    500   \n",
       "744                21                  2                    500   \n",
       "745                23                  3                    750   \n",
       "746                39                  1                    250   \n",
       "747                72                  1                    250   \n",
       "\n",
       "     Time (months)  whether he/she donated blood in March 2007  \n",
       "0               98                                           1  \n",
       "1               28                                           1  \n",
       "2               35                                           1  \n",
       "3               45                                           1  \n",
       "4               77                                           0  \n",
       "..             ...                                         ...  \n",
       "743             38                                           0  \n",
       "744             52                                           0  \n",
       "745             62                                           0  \n",
       "746             39                                           0  \n",
       "747             72                                           0  \n",
       "\n",
       "[748 rows x 5 columns]"
      ]
     },
     "execution_count": 2,
     "metadata": {},
     "output_type": "execute_result"
    }
   ],
   "source": [
    "df = pd.read_csv(r\".\\dataset\\transfusion.data\",sep=',')\n",
    "\n",
    "df"
   ]
  },
  {
   "cell_type": "code",
   "execution_count": 3,
   "id": "62ae9a3f",
   "metadata": {},
   "outputs": [],
   "source": [
    "#Converting the data to numpy array.\n",
    "\n",
    "data = np.array(df)\n",
    "indices_list = [i for i in range(data.shape[0])]"
   ]
  },
  {
   "cell_type": "markdown",
   "id": "ada14a91",
   "metadata": {},
   "source": [
    "## Create SubSample "
   ]
  },
  {
   "cell_type": "code",
   "execution_count": 4,
   "id": "f99cc25f",
   "metadata": {},
   "outputs": [],
   "source": [
    "def Create_Subsamples(data,indices_list,ratio=1.0):\n",
    "    \n",
    "    #find the number of examples in a sample\n",
    "    n_examples_per_samples = round(len(data)*ratio)\n",
    "    \n",
    "    # Randomly select n_examples_per_samples from the data\n",
    "    sample_indices = random.sample(range(data.shape[0]),n_examples_per_samples)\n",
    "    \n",
    "    sample = data[sample_indices]\n",
    "    \n",
    "    return sample"
   ]
  },
  {
   "cell_type": "code",
   "execution_count": 5,
   "id": "4641efcc",
   "metadata": {},
   "outputs": [
    {
     "name": "stdout",
     "output_type": "stream",
     "text": [
      "sample: [[11]\n",
      " [15]\n",
      " [13]\n",
      " [14]\n",
      " [10]\n",
      " [18]\n",
      " [10]\n",
      " [15]\n",
      " [14]\n",
      " [18]]\n",
      "True Mean: 13.8\n",
      "For Sample Size of 2 the mean of all samples is: 14.0\n",
      "For Sample Size of 6 the mean of all samples is: 14.047619047619047\n",
      "For Sample Size of 4 the mean of all samples is: 13.333333333333332\n",
      "For Sample Size of 7 the mean of all samples is: 13.541666666666668\n",
      "For Sample Size of 1 the mean of all samples is: 14.5\n"
     ]
    }
   ],
   "source": [
    "# test this method for finding the mean of the data. \n",
    "test_data = np.array([[random.randrange(10,19)] for i in range(10)])\n",
    "\n",
    "print(\"sample:\",test_data)\n",
    "\n",
    "True_mean = np.mean(test_data)\n",
    "print(\"True Mean:\",True_mean)\n",
    "\n",
    "sample_sizes = random.sample(range(1,11),5)\n",
    "ratio = 0.30\n",
    "test_indices = [i for i in range(len(test_data))]\n",
    "\n",
    "for i in sample_sizes:\n",
    "    \n",
    "    samples_mean = []\n",
    "    \n",
    "    for i in range(i):\n",
    "        \n",
    "        sample = Create_Subsamples(test_data,test_indices,ratio)\n",
    "        samples_mean.append(np.mean(sample))\n",
    "        \n",
    "    print(\"For Sample Size of\",i,\"the mean of all samples is:\",np.mean(samples_mean))"
   ]
  },
  {
   "cell_type": "markdown",
   "id": "14f5f558",
   "metadata": {},
   "source": [
    "# Build the decision Tree"
   ]
  },
  {
   "cell_type": "code",
   "execution_count": 6,
   "id": "b4dde7b9",
   "metadata": {},
   "outputs": [],
   "source": [
    "def split_data(value,column_index,data):\n",
    "    left = data[data[:,column_index] <= value]\n",
    "    right = data[data[:,column_index] > value]\n",
    "    \n",
    "    return left,right"
   ]
  },
  {
   "cell_type": "code",
   "execution_count": 7,
   "id": "bb393c50",
   "metadata": {},
   "outputs": [],
   "source": [
    "def Gini_Index(groups,classes):\n",
    "    total_samples = sum(len(group) for group in groups)\n",
    "    gini_index = 0\n",
    "    for group in groups:\n",
    "        size = len(group)\n",
    "        score = 0\n",
    "        if size == 0:\n",
    "            continue\n",
    "        for class_label in classes:\n",
    "            p = sum(group[:,-1]==class_label)/size\n",
    "            score += p*p\n",
    "        \n",
    "        gini_index += (1 - score)*(size/total_samples)\n",
    "    \n",
    "    return gini_index"
   ]
  },
  {
   "cell_type": "code",
   "execution_count": 8,
   "id": "0d42caef",
   "metadata": {},
   "outputs": [],
   "source": [
    "def getOptimalSplit_value(data):\n",
    "    classes = np.unique(data[:,-1])\n",
    "    best_index,best_gini,best_splitval,best_group = 9999,9999,9999,None\n",
    "    for index in range(data.shape[1] - 1):\n",
    "        for row in data:\n",
    "            groups = split_data(row[index],index,data)\n",
    "            gini_index = Gini_Index(groups,classes)\n",
    "            if gini_index < best_gini:\n",
    "                best_index,best_gini,best_splitval,best_group = index,gini_index,row[index],groups\n",
    "    \n",
    "    return {\n",
    "        \"index\":best_index,\n",
    "        \"gini\":best_gini,\n",
    "        \"value\":best_splitval,\n",
    "        \"group\":best_group\n",
    "           }"
   ]
  },
  {
   "cell_type": "code",
   "execution_count": 9,
   "id": "1d65b17c",
   "metadata": {},
   "outputs": [],
   "source": [
    "# This can be used to return the most probable value that the node can return based what class type data does it have most\n",
    "def terminal_nodes(groups):\n",
    "    return int(mode(groups[:,-1])[0])"
   ]
  },
  {
   "cell_type": "code",
   "execution_count": 10,
   "id": "bad36bbe",
   "metadata": {},
   "outputs": [],
   "source": [
    "# Build the tree recursively \n",
    "def Recursive_split(node,depth,maxdepth,min_size):\n",
    "    left,right = node['group']\n",
    "    \n",
    "    del(node['group'])\n",
    "    \n",
    "    if (left.size == 0) or (right.size == 0):\n",
    "        array = np.array(list(left)+list(right))\n",
    "        node['left'] = node['right'] = terminal_nodes(array)\n",
    "        return\n",
    "    \n",
    "    if depth>=maxdepth:\n",
    "        node['left'],node['right'] = terminal_nodes(left),terminal_nodes(right)\n",
    "        return\n",
    "    \n",
    "    if len(left)<=min_size:\n",
    "        node['left'] = terminal_nodes(left)\n",
    "        \n",
    "    else:\n",
    "        node['left'] = getOptimalSplit_value(left)\n",
    "        Recursive_split(node['left'],depth+1,maxdepth,min_size)\n",
    "    \n",
    "    if len(right)<=min_size:\n",
    "        node['right'] = terminal_nodes(right)\n",
    "        \n",
    "    else:\n",
    "        node['right'] = getOptimalSplit_value(right)\n",
    "        Recursive_split(node['right'],depth+1,maxdepth,min_size)"
   ]
  },
  {
   "cell_type": "code",
   "execution_count": 11,
   "id": "3d50ef1d",
   "metadata": {},
   "outputs": [],
   "source": [
    "def build_tree(data,max_depth,min_size):\n",
    "    root = getOptimalSplit_value(data)\n",
    "    Recursive_split(root,1,max_depth,min_size)\n",
    "    return root"
   ]
  },
  {
   "cell_type": "markdown",
   "id": "8e205ab1",
   "metadata": {},
   "source": [
    "# Build Bagging Trees"
   ]
  },
  {
   "cell_type": "code",
   "execution_count": 12,
   "id": "d10cda64",
   "metadata": {},
   "outputs": [],
   "source": [
    "def Build_Bagging_trees(data,indices_list,max_depth,min_size,ratio,ntrees):\n",
    "    trees = []\n",
    "    for i in range(ntrees):\n",
    "        sample_data = Create_Subsamples(data,indices_list,ratio)\n",
    "        tree = build_tree(sample_data,max_depth,min_size)\n",
    "        trees.append(tree)\n",
    "    \n",
    "    return trees"
   ]
  },
  {
   "cell_type": "code",
   "execution_count": 13,
   "id": "b0ea1981",
   "metadata": {},
   "outputs": [],
   "source": [
    "max_depth = 5\n",
    "min_size = 7\n",
    "ratio = 0.40\n",
    "n_trees = 5\n",
    "trees = Build_Bagging_trees(data,indices_list,max_depth,min_size,ratio,n_trees)"
   ]
  },
  {
   "cell_type": "markdown",
   "id": "616b7794",
   "metadata": {},
   "source": [
    "## Predictions"
   ]
  },
  {
   "cell_type": "code",
   "execution_count": 14,
   "id": "3bc9b62d",
   "metadata": {},
   "outputs": [],
   "source": [
    "def Predict(node,test_row):\n",
    "    if test_row[node['index']] < node['value']:\n",
    "        if isinstance(node['left'],dict):\n",
    "            return Predict(node['left'],test_row)\n",
    "        else:\n",
    "            return node['left']\n",
    "    else:\n",
    "        if isinstance(node['right'],dict):\n",
    "            return Predict(node['right'],test_row)\n",
    "        else:\n",
    "            return node['right']"
   ]
  },
  {
   "cell_type": "code",
   "execution_count": 15,
   "id": "ab82f68c",
   "metadata": {},
   "outputs": [],
   "source": [
    "def Get_Prediction(tree,data):\n",
    "    Predictions = []\n",
    "    for row in data:\n",
    "        Prediction = Predict(tree,row)\n",
    "        Predictions.append(Prediction)\n",
    "    return np.array(Predictions)"
   ]
  },
  {
   "cell_type": "code",
   "execution_count": 16,
   "id": "7e275c29",
   "metadata": {},
   "outputs": [],
   "source": [
    "def Bagging_predict(trees,test_data):\n",
    "    Predictions_results = np.ones((len(test_data),1))\n",
    "    for tree in trees:\n",
    "        predictions = Get_Prediction(tree,test_data)\n",
    "        Predictions_results = np.append(Predictions_results,predictions.reshape(len(predictions),1),axis=1)\n",
    "    \n",
    "    final_predictions_trimmed = Predictions_results[:,1:]\n",
    "    \n",
    "    prediction = mode(final_predictions_trimmed,axis=1)[0]\n",
    "    \n",
    "    return prediction"
   ]
  },
  {
   "cell_type": "code",
   "execution_count": 17,
   "id": "864fd665",
   "metadata": {},
   "outputs": [
    {
     "name": "stdout",
     "output_type": "stream",
     "text": [
      "The accuracy on the entire dataset is given by: 74.59893048128342\n"
     ]
    }
   ],
   "source": [
    "p = Bagging_predict(trees,data)\n",
    "\n",
    "#Calculate the accuracy on the entire dataset\n",
    "y = data[:,-1].reshape(len(data),1)\n",
    "\n",
    "print(\"The accuracy on the entire dataset is given by:\",np.mean(p == y)*100)"
   ]
  },
  {
   "cell_type": "markdown",
   "id": "47745c3b",
   "metadata": {},
   "source": [
    "## Finding Optimal values "
   ]
  },
  {
   "cell_type": "markdown",
   "id": "89769605",
   "metadata": {},
   "source": [
    "In this part i will be determining the optmial values for the number of trees using a validation dataset."
   ]
  },
  {
   "cell_type": "markdown",
   "id": "80b5051d",
   "metadata": {},
   "source": [
    "In the decision tree module(please refer to the Jupyter Notebook named Decision trees), i found the best accuracy occurs when\n",
    "\n",
    "**max_depth** = 2, \n",
    "**min_size** = 5"
   ]
  },
  {
   "cell_type": "code",
   "execution_count": 18,
   "id": "89a7a9d6",
   "metadata": {},
   "outputs": [],
   "source": [
    "train, validate, test = np.split(df.sample(frac=1, random_state=42), [int(.7*len(df)), int(.85*len(df))])\n",
    "\n",
    "train, validate, test = np.array(train),np.array(validate),np.array(test)"
   ]
  },
  {
   "cell_type": "markdown",
   "id": "9f0dadbb",
   "metadata": {},
   "source": [
    "when n_trees = 1, then its nothing but decision tree.\n"
   ]
  },
  {
   "cell_type": "code",
   "execution_count": 19,
   "id": "486798c7",
   "metadata": {},
   "outputs": [],
   "source": [
    "n_trees_set = [i for i in range(2,6)]"
   ]
  },
  {
   "cell_type": "code",
   "execution_count": 25,
   "id": "7d501dae",
   "metadata": {},
   "outputs": [],
   "source": [
    "def Optimal_tree_number(train,validate,n_tree_set,max_depth,min_size):\n",
    "    \n",
    "    #make a list of indices in the train set\n",
    "    indices_list = [i for i in range(train.shape[0])]\n",
    "    \n",
    "    # separate the labels\n",
    "    y = validate[:,-1].reshape(len(validate),1)\n",
    "    \n",
    "    opt_no_trees = 999\n",
    "    accuracy = -100\n",
    "    \n",
    "    for n_trees in n_tree_set:\n",
    "        \n",
    "        #build the trees\n",
    "        trees = Build_Bagging_trees(train,indices_list,max_depth,min_size,ratio,n_trees)\n",
    "                    \n",
    "        #Predict the values on the validation set            \n",
    "        p = Bagging_predict(trees,validate)\n",
    "        \n",
    "        #Calculate the accuracy model\n",
    "        acc = np.mean(p == y)*100\n",
    "        print(\"The accuracy with\",n_trees,\" trees on the validation dataset is given by:\",acc)\n",
    "        \n",
    "        if acc > accuracy:\n",
    "            opt_no_trees,accuracy = n_trees,acc\n",
    "            \n",
    "    \n",
    "    return opt_no_trees"
   ]
  },
  {
   "cell_type": "code",
   "execution_count": 21,
   "id": "0c4de6b5",
   "metadata": {},
   "outputs": [
    {
     "name": "stdout",
     "output_type": "stream",
     "text": [
      "The accuracy with 2  trees on the validation dataset is given by: 81.25\n",
      "The accuracy with 3  trees on the validation dataset is given by: 81.25\n",
      "The accuracy with 4  trees on the validation dataset is given by: 85.71428571428571\n",
      "The accuracy with 5  trees on the validation dataset is given by: 83.92857142857143\n",
      "The optimal number of trees are: 4\n"
     ]
    }
   ],
   "source": [
    "max_depth = 2\n",
    "min_size = 5\n",
    "n_trees = Optimal_tree_number(train,validate,n_trees_set,max_depth,min_size)\n",
    "\n",
    "print(\"The optimal number of trees are:\",n_trees)"
   ]
  },
  {
   "cell_type": "code",
   "execution_count": 24,
   "id": "c7f3c650",
   "metadata": {},
   "outputs": [
    {
     "name": "stdout",
     "output_type": "stream",
     "text": [
      "The accuracy with 4 trees on the Test dataset is given by: 80.53097345132744\n"
     ]
    }
   ],
   "source": [
    "#test the result on the test set.\n",
    "\n",
    "# Build the model for max_depth = 2, min_size = 5 and n_trees = 4 with 0.40 ratio\n",
    "\n",
    "max_depth = 2\n",
    "min_size = 5\n",
    "n_trees = 4\n",
    "ratio = 0.40\n",
    "indices_list = [i for i in range(train.shape[0])]\n",
    "trees = Build_Bagging_trees(train,indices_list,max_depth,min_size,ratio,n_trees)\n",
    "\n",
    "#Predict the values on the validation set            \n",
    "p = Bagging_predict(trees,test)\n",
    "\n",
    "y = test[:,-1].reshape(len(test),1)\n",
    "\n",
    "#Calculate the accuracy model\n",
    "acc = np.mean(p == y)*100\n",
    "print(\"The accuracy with\",n_trees,\"trees on the Test dataset is given by:\",acc)"
   ]
  }
 ],
 "metadata": {
  "kernelspec": {
   "display_name": "Python 3",
   "language": "python",
   "name": "python3"
  },
  "language_info": {
   "codemirror_mode": {
    "name": "ipython",
    "version": 3
   },
   "file_extension": ".py",
   "mimetype": "text/x-python",
   "name": "python",
   "nbconvert_exporter": "python",
   "pygments_lexer": "ipython3",
   "version": "3.8.8"
  }
 },
 "nbformat": 4,
 "nbformat_minor": 5
}
