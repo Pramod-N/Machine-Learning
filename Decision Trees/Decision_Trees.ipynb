{
 "cells": [
  {
   "cell_type": "code",
   "execution_count": 1,
   "id": "7d93eebd",
   "metadata": {},
   "outputs": [],
   "source": [
    "import numpy as np\n",
    "import pandas as pd\n",
    "import matplotlib.pyplot as plt\n",
    "from sklearn.datasets import load_iris\n",
    "from scipy.stats import mode\n",
    "import json"
   ]
  },
  {
   "cell_type": "markdown",
   "id": "a6f7306c",
   "metadata": {},
   "source": [
    "Blood Transfusion Service Center Data Set is used, which can be downloaded from here - \n",
    "https://archive.ics.uci.edu/ml/datasets/Blood+Transfusion+Service+Center"
   ]
  },
  {
   "cell_type": "markdown",
   "id": "797ca9bf",
   "metadata": {},
   "source": [
    "The Attribute information of the dataset is given below:\n",
    "\n",
    "**Recency**                - Months since previous donation\n",
    "\n",
    "**Frequency**              - Number of donations\n",
    "\n",
    "**Monetary**               - total donations\n",
    "\n",
    "**Time**                   - Months since first donation\n",
    "\n",
    "**Donates Blood in March** - Yes(1)/No(0)"
   ]
  },
  {
   "cell_type": "code",
   "execution_count": 2,
   "id": "2d337eba",
   "metadata": {},
   "outputs": [
    {
     "data": {
      "text/html": [
       "<div>\n",
       "<style scoped>\n",
       "    .dataframe tbody tr th:only-of-type {\n",
       "        vertical-align: middle;\n",
       "    }\n",
       "\n",
       "    .dataframe tbody tr th {\n",
       "        vertical-align: top;\n",
       "    }\n",
       "\n",
       "    .dataframe thead th {\n",
       "        text-align: right;\n",
       "    }\n",
       "</style>\n",
       "<table border=\"1\" class=\"dataframe\">\n",
       "  <thead>\n",
       "    <tr style=\"text-align: right;\">\n",
       "      <th></th>\n",
       "      <th>Recency (months)</th>\n",
       "      <th>Frequency (times)</th>\n",
       "      <th>Monetary (c.c. blood)</th>\n",
       "      <th>Time (months)</th>\n",
       "      <th>whether he/she donated blood in March 2007</th>\n",
       "    </tr>\n",
       "  </thead>\n",
       "  <tbody>\n",
       "    <tr>\n",
       "      <th>0</th>\n",
       "      <td>2</td>\n",
       "      <td>50</td>\n",
       "      <td>12500</td>\n",
       "      <td>98</td>\n",
       "      <td>1</td>\n",
       "    </tr>\n",
       "    <tr>\n",
       "      <th>1</th>\n",
       "      <td>0</td>\n",
       "      <td>13</td>\n",
       "      <td>3250</td>\n",
       "      <td>28</td>\n",
       "      <td>1</td>\n",
       "    </tr>\n",
       "    <tr>\n",
       "      <th>2</th>\n",
       "      <td>1</td>\n",
       "      <td>16</td>\n",
       "      <td>4000</td>\n",
       "      <td>35</td>\n",
       "      <td>1</td>\n",
       "    </tr>\n",
       "    <tr>\n",
       "      <th>3</th>\n",
       "      <td>2</td>\n",
       "      <td>20</td>\n",
       "      <td>5000</td>\n",
       "      <td>45</td>\n",
       "      <td>1</td>\n",
       "    </tr>\n",
       "    <tr>\n",
       "      <th>4</th>\n",
       "      <td>1</td>\n",
       "      <td>24</td>\n",
       "      <td>6000</td>\n",
       "      <td>77</td>\n",
       "      <td>0</td>\n",
       "    </tr>\n",
       "    <tr>\n",
       "      <th>...</th>\n",
       "      <td>...</td>\n",
       "      <td>...</td>\n",
       "      <td>...</td>\n",
       "      <td>...</td>\n",
       "      <td>...</td>\n",
       "    </tr>\n",
       "    <tr>\n",
       "      <th>743</th>\n",
       "      <td>23</td>\n",
       "      <td>2</td>\n",
       "      <td>500</td>\n",
       "      <td>38</td>\n",
       "      <td>0</td>\n",
       "    </tr>\n",
       "    <tr>\n",
       "      <th>744</th>\n",
       "      <td>21</td>\n",
       "      <td>2</td>\n",
       "      <td>500</td>\n",
       "      <td>52</td>\n",
       "      <td>0</td>\n",
       "    </tr>\n",
       "    <tr>\n",
       "      <th>745</th>\n",
       "      <td>23</td>\n",
       "      <td>3</td>\n",
       "      <td>750</td>\n",
       "      <td>62</td>\n",
       "      <td>0</td>\n",
       "    </tr>\n",
       "    <tr>\n",
       "      <th>746</th>\n",
       "      <td>39</td>\n",
       "      <td>1</td>\n",
       "      <td>250</td>\n",
       "      <td>39</td>\n",
       "      <td>0</td>\n",
       "    </tr>\n",
       "    <tr>\n",
       "      <th>747</th>\n",
       "      <td>72</td>\n",
       "      <td>1</td>\n",
       "      <td>250</td>\n",
       "      <td>72</td>\n",
       "      <td>0</td>\n",
       "    </tr>\n",
       "  </tbody>\n",
       "</table>\n",
       "<p>748 rows × 5 columns</p>\n",
       "</div>"
      ],
      "text/plain": [
       "     Recency (months)  Frequency (times)  Monetary (c.c. blood)  \\\n",
       "0                   2                 50                  12500   \n",
       "1                   0                 13                   3250   \n",
       "2                   1                 16                   4000   \n",
       "3                   2                 20                   5000   \n",
       "4                   1                 24                   6000   \n",
       "..                ...                ...                    ...   \n",
       "743                23                  2                    500   \n",
       "744                21                  2                    500   \n",
       "745                23                  3                    750   \n",
       "746                39                  1                    250   \n",
       "747                72                  1                    250   \n",
       "\n",
       "     Time (months)  whether he/she donated blood in March 2007  \n",
       "0               98                                           1  \n",
       "1               28                                           1  \n",
       "2               35                                           1  \n",
       "3               45                                           1  \n",
       "4               77                                           0  \n",
       "..             ...                                         ...  \n",
       "743             38                                           0  \n",
       "744             52                                           0  \n",
       "745             62                                           0  \n",
       "746             39                                           0  \n",
       "747             72                                           0  \n",
       "\n",
       "[748 rows x 5 columns]"
      ]
     },
     "execution_count": 2,
     "metadata": {},
     "output_type": "execute_result"
    }
   ],
   "source": [
    "df = pd.read_csv(r\".\\dataset\\transfusion.data\",sep=',')\n",
    "\n",
    "df"
   ]
  },
  {
   "cell_type": "code",
   "execution_count": 3,
   "id": "b16c7e14",
   "metadata": {},
   "outputs": [],
   "source": [
    "df = df.rename(columns={'Recency (months)':'Recency','Frequency (times)':'Frequency','Monetary (c.c. blood)':'Monetary',\\\n",
    "                   'Time (months)':'Time','whether he/she donated blood in March 2007':'Blood Donated'})\n",
    "\n",
    "data = np.array(df)"
   ]
  },
  {
   "cell_type": "markdown",
   "id": "08dfc2b1",
   "metadata": {},
   "source": [
    "### Split Data"
   ]
  },
  {
   "cell_type": "code",
   "execution_count": 4,
   "id": "0dd2d01c",
   "metadata": {},
   "outputs": [],
   "source": [
    "def split_data(value,column_index,data):\n",
    "    left = data[data[:,column_index] <= value]\n",
    "    right = data[data[:,column_index] > value]\n",
    "    \n",
    "    return left,right"
   ]
  },
  {
   "cell_type": "markdown",
   "id": "4f508e86",
   "metadata": {},
   "source": [
    "Lets test the above method by giving some column index and some random value from that column"
   ]
  },
  {
   "cell_type": "markdown",
   "id": "d459dcbd",
   "metadata": {},
   "source": [
    "The Column Index of the dataset is given below(within paranthesis):\n",
    "\n",
    "**Recency**                - {0}\n",
    "\n",
    "**Frequency**              - {1}\n",
    "\n",
    "**Monetary**               - {2}\n",
    "\n",
    "**Time**                   - {3}\n",
    "\n",
    "**Donates Blood in March** - {4}"
   ]
  },
  {
   "cell_type": "code",
   "execution_count": 5,
   "id": "84cedf9f",
   "metadata": {},
   "outputs": [
    {
     "name": "stdout",
     "output_type": "stream",
     "text": [
      "The column index on which the split occurs: 1\n",
      "The Split Value: 1\n"
     ]
    }
   ],
   "source": [
    "column_index = np.random.choice(data.shape[-1]-1)\n",
    "print(\"The column index on which the split occurs:\",column_index)\n",
    "value = np.random.choice(data[:,column_index])\n",
    "print(\"The Split Value:\",value)\n",
    "nodes = split_data(value,column_index,data)"
   ]
  },
  {
   "cell_type": "markdown",
   "id": "626a1958",
   "metadata": {},
   "source": [
    "### Cost Function(Gini Index Minimization)"
   ]
  },
  {
   "cell_type": "code",
   "execution_count": 6,
   "id": "f99fc229",
   "metadata": {},
   "outputs": [],
   "source": [
    "def Gini_Index(groups,classes):\n",
    "    total_samples = sum(len(group) for group in groups)\n",
    "    gini_index = 0\n",
    "    for group in groups:\n",
    "        size = len(group)\n",
    "        score = 0\n",
    "        if size == 0:\n",
    "            continue\n",
    "        for class_label in classes:\n",
    "            p = sum(group[:,-1]==class_label)/size\n",
    "            score += p*p\n",
    "        \n",
    "        gini_index += (1 - score)*(size/total_samples)\n",
    "    \n",
    "    return gini_index"
   ]
  },
  {
   "cell_type": "code",
   "execution_count": 7,
   "id": "42a6dca3",
   "metadata": {},
   "outputs": [
    {
     "name": "stdout",
     "output_type": "stream",
     "text": [
      "The gini index for the split on Column Index: 1 and split value of: 1 is: 0.356033395785027\n"
     ]
    }
   ],
   "source": [
    "classes = [0,1]\n",
    "gini_index = Gini_Index(nodes,classes)\n",
    "print(\"The gini index for the split on Column Index:\",column_index,\"and split value of:\",value,\"is:\",gini_index)"
   ]
  },
  {
   "cell_type": "markdown",
   "id": "ebb2b5de",
   "metadata": {},
   "source": [
    "### Fetching Optimal split value"
   ]
  },
  {
   "cell_type": "code",
   "execution_count": 8,
   "id": "e7a92c76",
   "metadata": {},
   "outputs": [],
   "source": [
    "def getOptimalSplit_value(data):\n",
    "    classes = np.unique(data[:,-1])\n",
    "    best_index,best_gini,best_splitval,best_group = 9999,9999,9999,None\n",
    "    for index in range(data.shape[1] - 1):\n",
    "        for row in data:\n",
    "            groups = split_data(row[index],index,data)\n",
    "            gini_index = Gini_Index(groups,classes)\n",
    "            if gini_index < best_gini:\n",
    "                best_index,best_gini,best_splitval,best_group = index,gini_index,row[index],groups\n",
    "    \n",
    "    return {\n",
    "        \"index\":best_index,\n",
    "        \"gini\":best_gini,\n",
    "        \"value\":best_splitval,\n",
    "        \"group\":best_group\n",
    "           }"
   ]
  },
  {
   "cell_type": "code",
   "execution_count": 9,
   "id": "6050af57",
   "metadata": {},
   "outputs": [
    {
     "name": "stdout",
     "output_type": "stream",
     "text": [
      "Best Split Occurs for Column: 0 for Value: 6 with gini index: 0.3273963559783137\n"
     ]
    }
   ],
   "source": [
    "split = getOptimalSplit_value(data)\n",
    "\n",
    "print(\"Best Split Occurs for Column:\",split['index'],\"for Value:\",split['value']\n",
    "     ,\"with gini index:\",split['gini'])"
   ]
  },
  {
   "cell_type": "markdown",
   "id": "4ed7962a",
   "metadata": {},
   "source": [
    "**Note:** The above optimal split value computed will act as a root node in constructing the tree further "
   ]
  },
  {
   "cell_type": "markdown",
   "id": "310bba66",
   "metadata": {},
   "source": [
    "## Build the tree"
   ]
  },
  {
   "cell_type": "code",
   "execution_count": 10,
   "id": "447f7a5b",
   "metadata": {},
   "outputs": [],
   "source": [
    "# This can be used to return the most probable value that the node can return based what class type data does it have most\n",
    "def terminal_nodes(groups):\n",
    "    return int(mode(groups[:,-1])[0])"
   ]
  },
  {
   "cell_type": "code",
   "execution_count": 11,
   "id": "3667eeb1",
   "metadata": {},
   "outputs": [],
   "source": [
    "# Build the tree recursively \n",
    "def Recursive_split(node,depth,maxdepth,min_size):\n",
    "    left,right = node['group']\n",
    "    \n",
    "    del(node['group'])\n",
    "    \n",
    "    if (left.size == 0) or (right.size == 0):\n",
    "        array = np.array(list(left)+list(right))\n",
    "        node['left'] = node['right'] = terminal_nodes(array)\n",
    "        return\n",
    "    \n",
    "    if depth>=maxdepth:\n",
    "        node['left'],node['right'] = terminal_nodes(left),terminal_nodes(right)\n",
    "        return\n",
    "    \n",
    "    if len(left)<=min_size:\n",
    "        node['left'] = terminal_nodes(left)\n",
    "        \n",
    "    else:\n",
    "        node['left'] = getOptimalSplit_value(left)\n",
    "        Recursive_split(node['left'],depth+1,maxdepth,min_size)\n",
    "    \n",
    "    if len(right)<=min_size:\n",
    "        node['right'] = terminal_nodes(right)\n",
    "        \n",
    "    else:\n",
    "        node['right'] = getOptimalSplit_value(right)\n",
    "        Recursive_split(node['right'],depth+1,maxdepth,min_size)"
   ]
  },
  {
   "cell_type": "code",
   "execution_count": 12,
   "id": "97715318",
   "metadata": {},
   "outputs": [],
   "source": [
    "def build_tree(data,max_depth,min_size):\n",
    "    root = getOptimalSplit_value(data)\n",
    "    Recursive_split(root,1,max_depth,min_size)\n",
    "    return root"
   ]
  },
  {
   "cell_type": "code",
   "execution_count": 13,
   "id": "c90deb5c",
   "metadata": {},
   "outputs": [
    {
     "name": "stdout",
     "output_type": "stream",
     "text": [
      "{'index': 0, 'gini': 0.3273963559783137, 'value': 6, 'left': 0, 'right': 0}\n"
     ]
    }
   ],
   "source": [
    "tree = build_tree(data,1,1)\n",
    "print(tree)"
   ]
  },
  {
   "cell_type": "code",
   "execution_count": 14,
   "id": "d8e40a3d",
   "metadata": {},
   "outputs": [
    {
     "name": "stdout",
     "output_type": "stream",
     "text": [
      "{'index': 0, 'gini': 0.3273963559783137, 'value': 6, 'left': {'index': 1, 'gini': 0.44148203603730607, 'value': 4, 'left': 0, 'right': 0}, 'right': {'index': 0, 'gini': 0.18962919069309306, 'value': 14, 'left': 0, 'right': 0}}\n",
      "{'index': 0, 'gini': 0.3273963559783137, 'value': 6, 'left': {'index': 1, 'gini': 0.44148203603730607, 'value': 4, 'left': {'index': 3, 'gini': 0.37521543114763445, 'value': 16, 'left': 0, 'right': 0}, 'right': {'index': 3, 'gini': 0.4505597049791006, 'value': 49, 'left': 1, 'right': 0}}, 'right': {'index': 0, 'gini': 0.18962919069309306, 'value': 14, 'left': {'index': 3, 'gini': 0.23717168406760603, 'value': 15, 'left': 0, 'right': 0}, 'right': {'index': 1, 'gini': 0.12702100662625124, 'value': 4, 'left': 0, 'right': 0}}}\n"
     ]
    }
   ],
   "source": [
    "tree =build_tree(data,2,1)\n",
    "print(tree)\n",
    "tree = build_tree(data,3,1)\n",
    "print(tree)"
   ]
  },
  {
   "cell_type": "code",
   "execution_count": 15,
   "id": "2b0df0ca",
   "metadata": {},
   "outputs": [
    {
     "name": "stdout",
     "output_type": "stream",
     "text": [
      "{'index': 0, 'gini': 0.3273963559783137, 'value': 6, 'left': {'index': 1, 'gini': 0.44148203603730607, 'value': 4, 'left': {'index': 3, 'gini': 0.37521543114763445, 'value': 16, 'left': {'index': 3, 'gini': 0.39378156565656564, 'value': 2, 'left': {'index': 1, 'gini': 0.2727272727272726, 'value': 1, 'left': {'index': 0, 'gini': 0.2975206611570247, 'value': 2, 'left': 0, 'right': 0}, 'right': {'index': 0, 'gini': 0.0, 'value': 2, 'left': 0, 'right': 0}}, 'right': {'index': 3, 'gini': 0.4276315789473684, 'value': 3, 'left': 1, 'right': {'index': 1, 'gini': 0.42325814536340856, 'value': 1, 'left': {'index': 0, 'gini': 0.3526530612244898, 'value': 4, 'left': 0, 'right': 0}, 'right': {'index': 3, 'gini': 0.4505287896592245, 'value': 11, 'left': {'index': 0, 'gini': 0.46949806949806955, 'value': 0, 'left': {'index': 0, 'gini': 0.0, 'value': 0, 'left': 0, 'right': 0}, 'right': {'index': 0, 'gini': 0.4789915966386555, 'value': 4, 'left': {'index': 1, 'gini': 0.4842826019296608, 'value': 2, 'left': 0, 'right': 1}, 'right': 1}}, 'right': {'index': 1, 'gini': 0.34782608695652173, 'value': 2, 'left': {'index': 0, 'gini': 0.0, 'value': 2, 'left': {'index': 0, 'gini': 0.0, 'value': 2, 'left': 0, 'right': 0}, 'right': {'index': 0, 'gini': 0.0, 'value': 4, 'left': 0, 'right': 0}}, 'right': {'index': 0, 'gini': 0.43137254901960775, 'value': 4, 'left': {'index': 3, 'gini': 0.4331550802139038, 'value': 14, 'left': 0, 'right': 0}, 'right': 0}}}}}}, 'right': {'index': 3, 'gini': 0.2693602693602694, 'value': 24, 'left': {'index': 0, 'gini': 0.0, 'value': 2, 'left': {'index': 0, 'gini': 0.0, 'value': 2, 'left': 0, 'right': 0}, 'right': {'index': 0, 'gini': 0.0, 'value': 4, 'left': 0, 'right': 0}}, 'right': {'index': 3, 'gini': 0.3314393939393939, 'value': 25, 'left': 1, 'right': {'index': 1, 'gini': 0.3289772727272727, 'value': 2, 'left': {'index': 3, 'gini': 0.13333333333333333, 'value': 46, 'left': {'index': 0, 'gini': 0.0, 'value': 4, 'left': 0, 'right': 0}, 'right': {'index': 3, 'gini': 0.0, 'value': 51, 'left': 1, 'right': {'index': 0, 'gini': 0.0, 'value': 4, 'left': 0, 'right': 0}}}, 'right': {'index': 0, 'gini': 0.3801652892561983, 'value': 2, 'left': {'index': 1, 'gini': 0.21818181818181817, 'value': 3, 'left': {'index': 3, 'gini': 0.4, 'value': 35, 'left': 0, 'right': {'index': 3, 'gini': 0.3333333333333333, 'value': 38, 'left': 1, 'right': 0}}, 'right': {'index': 0, 'gini': 0.0, 'value': 2, 'left': 0, 'right': 0}}, 'right': {'index': 1, 'gini': 0.31168831168831174, 'value': 3, 'left': {'index': 0, 'gini': 0.0, 'value': 4, 'left': {'index': 0, 'gini': 0.0, 'value': 4, 'left': 0, 'right': 0}, 'right': 0}, 'right': {'index': 3, 'gini': 0.38095238095238093, 'value': 43, 'left': {'index': 0, 'gini': 0.4, 'value': 3, 'left': 1, 'right': 1}, 'right': 0}}}}}}}, 'right': {'index': 3, 'gini': 0.4505597049791006, 'value': 49, 'left': {'index': 1, 'gini': 0.4613668476240053, 'value': 14, 'left': {'index': 3, 'gini': 0.46880853045813564, 'value': 16, 'left': {'index': 3, 'gini': 0.3157894736842105, 'value': 12, 'left': {'index': 0, 'gini': 0.0, 'value': 2, 'left': 1, 'right': {'index': 0, 'gini': 0.0, 'value': 4, 'left': 1, 'right': 1}}, 'right': {'index': 3, 'gini': 0.33333333333333326, 'value': 14, 'left': {'index': 0, 'gini': 0.3333333333333333, 'value': 2, 'left': 1, 'right': {'index': 1, 'gini': 0.0, 'value': 5, 'left': 1, 'right': {'index': 0, 'gini': 0.0, 'value': 4, 'left': 0, 'right': 0}}}, 'right': {'index': 1, 'gini': 0.2380952380952381, 'value': 5, 'left': {'index': 0, 'gini': 0.2857142857142857, 'value': 2, 'left': {'index': 0, 'gini': 0.5, 'value': 2, 'left': 0, 'right': 0}, 'right': {'index': 0, 'gini': 0.0, 'value': 4, 'left': 1, 'right': 1}}, 'right': {'index': 0, 'gini': 0.0, 'value': 2, 'left': {'index': 0, 'gini': 0.0, 'value': 2, 'left': 1, 'right': 1}, 'right': 1}}}}, 'right': {'index': 1, 'gini': 0.4710616756910243, 'value': 6, 'left': {'index': 3, 'gini': 0.4550112728018036, 'value': 41, 'left': {'index': 3, 'gini': 0.4632352941176471, 'value': 39, 'left': {'index': 0, 'gini': 0.47983870967741943, 'value': 4, 'left': {'index': 1, 'gini': 0.4806180536730821, 'value': 5, 'left': 0, 'right': 1}, 'right': 0}, 'right': {'index': 0, 'gini': 0.0, 'value': 2, 'left': 1, 'right': 1}}, 'right': {'index': 1, 'gini': 0.14285714285714285, 'value': 5, 'left': {'index': 0, 'gini': 0.0, 'value': 2, 'left': 1, 'right': 0}, 'right': {'index': 0, 'gini': 0.0, 'value': 4, 'left': 0, 'right': 0}}}, 'right': {'index': 1, 'gini': 0.4393530997304582, 'value': 10, 'left': {'index': 3, 'gini': 0.37815126050420156, 'value': 21, 'left': 0, 'right': {'index': 3, 'gini': 0.3565062388591801, 'value': 48, 'left': {'index': 1, 'gini': 0.34118967452300786, 'value': 9, 'left': 1, 'right': 1}, 'right': 0}}, 'right': {'index': 3, 'gini': 0.4307692307692307, 'value': 28, 'left': {'index': 0, 'gini': 0.0, 'value': 0, 'left': 1, 'right': {'index': 0, 'gini': 0.0, 'value': 4, 'left': 0, 'right': 0}}, 'right': {'index': 0, 'gini': 0.3356643356643357, 'value': 1, 'left': {'index': 0, 'gini': 0.0, 'value': 1, 'left': 0, 'right': 0}, 'right': {'index': 1, 'gini': 0.2803030303030303, 'value': 13, 'left': 1, 'right': 0}}}}}}, 'right': {'index': 0, 'gini': 0.0, 'value': 1, 'left': 1, 'right': {'index': 0, 'gini': 0.0, 'value': 2, 'left': {'index': 0, 'gini': 0.0, 'value': 2, 'left': 1, 'right': 1}, 'right': {'index': 0, 'gini': 0.0, 'value': 6, 'left': 1, 'right': 1}}}}, 'right': {'index': 1, 'gini': 0.3120119088514829, 'value': 12, 'left': {'index': 1, 'gini': 0.1596086839989278, 'value': 10, 'left': {'index': 0, 'gini': 0.06593406593406587, 'value': 2, 'left': {'index': 3, 'gini': 0.11538461538461539, 'value': 58, 'left': {'index': 3, 'gini': 0.0, 'value': 57, 'left': {'index': 0, 'gini': 0.0, 'value': 1, 'left': {'index': 0, 'gini': 0.0, 'value': 1, 'left': 0, 'right': 0}, 'right': 0}, 'right': 1}, 'right': {'index': 0, 'gini': 0.0, 'value': 0, 'left': 0, 'right': {'index': 0, 'gini': 0.0, 'value': 2, 'left': 0, 'right': 0}}}, 'right': {'index': 0, 'gini': 0.0, 'value': 4, 'left': 0, 'right': 0}}, 'right': {'index': 3, 'gini': 0.2637362637362638, 'value': 79, 'left': {'index': 3, 'gini': 0.34285714285714286, 'value': 61, 'left': {'index': 0, 'gini': 0.0, 'value': 2, 'left': 0, 'right': 0}, 'right': {'index': 0, 'gini': 0.26666666666666666, 'value': 2, 'left': {'index': 0, 'gini': 0.0, 'value': 2, 'left': 1, 'right': 1}, 'right': {'index': 3, 'gini': 0.0, 'value': 64, 'left': 1, 'right': {'index': 0, 'gini': 0.0, 'value': 4, 'left': 0, 'right': 0}}}}, 'right': {'index': 0, 'gini': 0.0, 'value': 2, 'left': {'index': 0, 'gini': 0.0, 'value': 2, 'left': 0, 'right': 0}, 'right': {'index': 0, 'gini': 0.0, 'value': 4, 'left': 0, 'right': 0}}}}, 'right': {'index': 1, 'gini': 0.41287878787878785, 'value': 24, 'left': {'index': 3, 'gini': 0.37320574162679426, 'value': 57, 'left': {'index': 0, 'gini': 0.0, 'value': 2, 'left': 1, 'right': 1}, 'right': {'index': 0, 'gini': 0.3567251461988304, 'value': 3, 'left': {'index': 1, 'gini': 0.0, 'value': 13, 'left': 1, 'right': {'index': 0, 'gini': 0.0, 'value': 1, 'left': {'index': 0, 'gini': 0.0, 'value': 1, 'left': 0, 'right': 0}, 'right': {'index': 0, 'gini': 0.0, 'value': 2, 'left': 0, 'right': 0}}}, 'right': {'index': 0, 'gini': 0.2857142857142857, 'value': 4, 'left': {'index': 1, 'gini': 0.238095238095238, 'value': 20, 'left': {'index': 1, 'gini': 0.0, 'value': 14, 'left': 0, 'right': 1}, 'right': 0}, 'right': {'index': 0, 'gini': 0.0, 'value': 6, 'left': 0, 'right': 0}}}}, 'right': {'index': 1, 'gini': 0.16666666666666666, 'value': 43, 'left': {'index': 0, 'gini': 0.0, 'value': 2, 'left': {'index': 0, 'gini': 0.0, 'value': 2, 'left': 1, 'right': 1}, 'right': 1}, 'right': {'index': 1, 'gini': 0.0, 'value': 44, 'left': 0, 'right': {'index': 0, 'gini': 0.0, 'value': 2, 'left': 1, 'right': 1}}}}}}}, 'right': {'index': 0, 'gini': 0.18962919069309306, 'value': 14, 'left': {'index': 3, 'gini': 0.23717168406760603, 'value': 15, 'left': {'index': 1, 'gini': 0.13632075471698113, 'value': 2, 'left': {'index': 3, 'gini': 0.11582167832167839, 'value': 11, 'left': {'index': 1, 'gini': 0.16042780748663107, 'value': 1, 'left': {'index': 0, 'gini': 0.2016806722689076, 'value': 9, 'left': {'index': 0, 'gini': 0.0, 'value': 9, 'left': 0, 'right': 0}, 'right': {'index': 0, 'gini': 0.24489795918367352, 'value': 11, 'left': 0, 'right': 0}}, 'right': {'index': 0, 'gini': 0.0, 'value': 9, 'left': 0, 'right': {'index': 0, 'gini': 0.0, 'value': 11, 'left': 0, 'right': 0}}}, 'right': {'index': 1, 'gini': 0.0692307692307692, 'value': 1, 'left': {'index': 0, 'gini': 0.0, 'value': 14, 'left': 0, 'right': 0}, 'right': {'index': 0, 'gini': 0.17777777777777778, 'value': 11, 'left': 0, 'right': {'index': 0, 'gini': 0.19753086419753085, 'value': 14, 'left': 0, 'right': 0}}}}, 'right': {'index': 0, 'gini': 0.2, 'value': 11, 'left': {'index': 0, 'gini': 0.0, 'value': 11, 'left': 0, 'right': 0}, 'right': {'index': 0, 'gini': 0.0, 'value': 13, 'left': 1, 'right': 0}}}, 'right': {'index': 3, 'gini': 0.2643232372978741, 'value': 23, 'left': {'index': 0, 'gini': 0.31944444444444436, 'value': 13, 'left': {'index': 3, 'gini': 0.2222222222222222, 'value': 16, 'left': {'index': 0, 'gini': 0.38095238095238104, 'value': 8, 'left': {'index': 0, 'gini': 0.0, 'value': 7, 'left': 0, 'right': 0}, 'right': {'index': 0, 'gini': 0.42857142857142855, 'value': 11, 'left': {'index': 1, 'gini': 0.4, 'value': 4, 'left': {'index': 0, 'gini': 0.4, 'value': 9, 'left': 1, 'right': 0}, 'right': 0}, 'right': 0}}, 'right': {'index': 0, 'gini': 0.0, 'value': 12, 'left': {'index': 0, 'gini': 0.0, 'value': 12, 'left': 0, 'right': 0}, 'right': 0}}, 'right': {'index': 3, 'gini': 0.26666666666666655, 'value': 16, 'left': 0, 'right': {'index': 1, 'gini': 0.26666666666666666, 'value': 3, 'left': {'index': 1, 'gini': 0.3333333333333333, 'value': 2, 'left': 1, 'right': {'index': 3, 'gini': 0.0, 'value': 19, 'left': 1, 'right': 0}}, 'right': {'index': 0, 'gini': 0.0, 'value': 14, 'left': 1, 'right': 1}}}}, 'right': {'index': 1, 'gini': 0.23069367425384954, 'value': 7, 'left': {'index': 3, 'gini': 0.16806722689075637, 'value': 62, 'left': {'index': 3, 'gini': 0.18437225636523263, 'value': 61, 'left': {'index': 3, 'gini': 0.1813573641227822, 'value': 27, 'left': {'index': 0, 'gini': 0.0, 'value': 11, 'left': {'index': 0, 'gini': 0.0, 'value': 11, 'left': 0, 'right': 0}, 'right': {'index': 0, 'gini': 0.0, 'value': 14, 'left': 0, 'right': 0}}, 'right': {'index': 3, 'gini': 0.22012578616352194, 'value': 51, 'left': {'index': 1, 'gini': 0.2543859649122806, 'value': 2, 'left': 0, 'right': 0}, 'right': {'index': 0, 'gini': 0.0, 'value': 11, 'left': 0, 'right': 0}}}, 'right': 1}, 'right': {'index': 0, 'gini': 0.0, 'value': 11, 'left': {'index': 0, 'gini': 0.0, 'value': 11, 'left': 0, 'right': 0}, 'right': {'index': 0, 'gini': 0.0, 'value': 14, 'left': 0, 'right': 0}}}, 'right': {'index': 1, 'gini': 0.3124097429479157, 'value': 8, 'left': {'index': 0, 'gini': 0.3356643356643357, 'value': 9, 'left': {'index': 0, 'gini': 0.0, 'value': 9, 'left': 1, 'right': 1}, 'right': {'index': 3, 'gini': 0.33766233766233766, 'value': 48, 'left': {'index': 0, 'gini': 0.21428571428571427, 'value': 11, 'left': {'index': 3, 'gini': 0.25, 'value': 41, 'left': 0, 'right': 0}, 'right': {'index': 0, 'gini': 0.0, 'value': 13, 'left': 0, 'right': 0}}, 'right': {'index': 3, 'gini': 0.3333333333333333, 'value': 52, 'left': {'index': 0, 'gini': 0.3333333333333333, 'value': 11, 'left': 1, 'right': 0}, 'right': 0}}}, 'right': {'index': 3, 'gini': 0.20599860497558703, 'value': 71, 'left': {'index': 0, 'gini': 0.07729468599033816, 'value': 9, 'left': {'index': 1, 'gini': 0.1111111111111111, 'value': 10, 'left': {'index': 0, 'gini': 0.0, 'value': 9, 'left': 0, 'right': 0}, 'right': {'index': 0, 'gini': 0.0, 'value': 7, 'left': 0, 'right': 1}}, 'right': {'index': 0, 'gini': 0.0, 'value': 11, 'left': {'index': 0, 'gini': 0.0, 'value': 11, 'left': 0, 'right': 0}, 'right': {'index': 0, 'gini': 0.0, 'value': 12, 'left': 0, 'right': 0}}}, 'right': {'index': 1, 'gini': 0.2828282828282828, 'value': 9, 'left': {'index': 0, 'gini': 0.0, 'value': 11, 'left': 1, 'right': 1}, 'right': {'index': 3, 'gini': 0.19444444444444442, 'value': 73, 'left': 1, 'right': {'index': 1, 'gini': 0.16666666666666666, 'value': 16, 'left': 0, 'right': 0}}}}}}}}, 'right': {'index': 1, 'gini': 0.12702100662625124, 'value': 4, 'left': {'index': 3, 'gini': 0.08943089430894316, 'value': 26, 'left': {'index': 1, 'gini': 0.143956043956044, 'value': 2, 'left': {'index': 0, 'gini': 0.11188811188811197, 'value': 18, 'left': {'index': 0, 'gini': 0.0, 'value': 16, 'left': {'index': 0, 'gini': 0.0, 'value': 16, 'left': 0, 'right': 0}, 'right': 0}, 'right': {'index': 3, 'gini': 0.15846889952153115, 'value': 22, 'left': {'index': 0, 'gini': 0.1871345029239766, 'value': 21, 'left': {'index': 1, 'gini': 0.1597222222222222, 'value': 1, 'left': {'index': 0, 'gini': 0.1171875, 'value': 21, 'left': 0, 'right': 0}, 'right': {'index': 0, 'gini': 0.5, 'value': 21, 'left': 0, 'right': 0}}, 'right': 1}, 'right': {'index': 1, 'gini': 0.075, 'value': 1, 'left': {'index': 0, 'gini': 0.1171875, 'value': 23, 'left': 0, 'right': 0}, 'right': {'index': 0, 'gini': 0.0, 'value': 21, 'left': {'index': 0, 'gini': 0.0, 'value': 21, 'left': 0, 'right': 0}, 'right': {'index': 0, 'gini': 0.0, 'value': 23, 'left': 0, 'right': 0}}}}}, 'right': {'index': 0, 'gini': 0.37142857142857133, 'value': 16, 'left': {'index': 3, 'gini': 0.26666666666666666, 'value': 21, 'left': {'index': 3, 'gini': 0.3333333333333333, 'value': 19, 'left': 0, 'right': {'index': 0, 'gini': 0.5, 'value': 16, 'left': 0, 'right': 0}}, 'right': {'index': 0, 'gini': 0.0, 'value': 16, 'left': 0, 'right': 0}}, 'right': {'index': 0, 'gini': 0.5, 'value': 21, 'left': 0, 'right': 0}}}, 'right': {'index': 0, 'gini': 0.0, 'value': 16, 'left': {'index': 0, 'gini': 0.0, 'value': 16, 'left': 0, 'right': 0}, 'right': {'index': 0, 'gini': 0.0, 'value': 23, 'left': {'index': 0, 'gini': 0.0, 'value': 23, 'left': 0, 'right': 0}, 'right': {'index': 0, 'gini': 0.0, 'value': 35, 'left': 0, 'right': {'index': 0, 'gini': 0.0, 'value': 38, 'left': {'index': 0, 'gini': 0.0, 'value': 38, 'left': 0, 'right': 0}, 'right': {'index': 0, 'gini': 0.0, 'value': 40, 'left': {'index': 0, 'gini': 0.0, 'value': 40, 'left': 0, 'right': 0}, 'right': {'index': 0, 'gini': 0.0, 'value': 74, 'left': 0, 'right': 0}}}}}}}, 'right': {'index': 0, 'gini': 0.17959183673469384, 'value': 25, 'left': {'index': 0, 'gini': 0.1688951442646024, 'value': 20, 'left': {'index': 0, 'gini': 0.229000884173298, 'value': 16, 'left': {'index': 1, 'gini': 0.1875, 'value': 7, 'left': {'index': 3, 'gini': 0.2767857142857143, 'value': 81, 'left': {'index': 3, 'gini': 0.22222222222222224, 'value': 40, 'left': {'index': 1, 'gini': 0.2962962962962963, 'value': 6, 'left': 0, 'right': 0}, 'right': {'index': 0, 'gini': 0.0, 'value': 16, 'left': 0, 'right': 0}}, 'right': {'index': 3, 'gini': 0.0, 'value': 87, 'left': 1, 'right': 0}}, 'right': {'index': 0, 'gini': 0.0, 'value': 16, 'left': 0, 'right': 0}}, 'right': {'index': 3, 'gini': 0.0, 'value': 69, 'left': {'index': 0, 'gini': 0.0, 'value': 20, 'left': 1, 'right': 1}, 'right': 0}}, 'right': {'index': 0, 'gini': 0.0, 'value': 23, 'left': {'index': 0, 'gini': 0.0, 'value': 23, 'left': 0, 'right': 0}, 'right': 0}}, 'right': 1}}}}\n"
     ]
    }
   ],
   "source": [
    "tree = build_tree(data,10,1)\n",
    "print(tree)"
   ]
  },
  {
   "cell_type": "markdown",
   "id": "b0ee6209",
   "metadata": {},
   "source": [
    "The Tree variable contains the structure of the tree on the data. Lets try to predict on test data. "
   ]
  },
  {
   "cell_type": "markdown",
   "id": "ed8dec28",
   "metadata": {},
   "source": [
    "## Prediction"
   ]
  },
  {
   "cell_type": "code",
   "execution_count": 16,
   "id": "0a5be1c9",
   "metadata": {},
   "outputs": [],
   "source": [
    "def Predict(node,test_row):\n",
    "    if test_row[node['index']] < node['value']:\n",
    "        if isinstance(node['left'],dict):\n",
    "            return Predict(node['left'],test_row)\n",
    "        else:\n",
    "            return node['left']\n",
    "    else:\n",
    "        if isinstance(node['right'],dict):\n",
    "            return Predict(node['right'],test_row)\n",
    "        else:\n",
    "            return node['right']"
   ]
  },
  {
   "cell_type": "code",
   "execution_count": 17,
   "id": "cad35d23",
   "metadata": {},
   "outputs": [],
   "source": [
    "def Get_Prediction(tree,data):\n",
    "    Predictions = []\n",
    "    for row in data:\n",
    "        Prediction = Predict(tree,row)\n",
    "        Predictions.append(Prediction)\n",
    "    return np.array(Predictions)"
   ]
  },
  {
   "cell_type": "markdown",
   "id": "9b23d27b",
   "metadata": {},
   "source": [
    "## Main Method"
   ]
  },
  {
   "cell_type": "markdown",
   "id": "23662be3",
   "metadata": {},
   "source": [
    "Lets split the data into 70:30 % between train and test data."
   ]
  },
  {
   "cell_type": "code",
   "execution_count": 18,
   "id": "c41fcc93",
   "metadata": {},
   "outputs": [],
   "source": [
    "from sklearn.model_selection import train_test_split\n",
    "\n",
    "X_train, X_test, y_train, y_test = train_test_split(data[:,0:-1],data[:,-1],test_size=0.3,random_state=30)"
   ]
  },
  {
   "cell_type": "code",
   "execution_count": 19,
   "id": "2a2d2fe6",
   "metadata": {},
   "outputs": [],
   "source": [
    "max_depth = 5\n",
    "min_size = 7\n",
    "train_data = np.append(X_train,y_train.reshape(y_train.shape[0],1),axis=1)\n",
    "test_data = np.append(X_test,y_test.reshape(y_test.shape[0],1),axis=1)"
   ]
  },
  {
   "cell_type": "code",
   "execution_count": 20,
   "id": "5ef927e8",
   "metadata": {},
   "outputs": [],
   "source": [
    "#Build the tree using the train dataset\n",
    "tree = build_tree(train_data,max_depth,min_size)"
   ]
  },
  {
   "cell_type": "code",
   "execution_count": 21,
   "id": "a8d8ab01",
   "metadata": {},
   "outputs": [],
   "source": [
    "# Get Predictions on the train data\n",
    "Predictions_train = Get_Prediction(tree,train_data)"
   ]
  },
  {
   "cell_type": "code",
   "execution_count": 22,
   "id": "b2121767",
   "metadata": {},
   "outputs": [
    {
     "name": "stdout",
     "output_type": "stream",
     "text": [
      "The Accuracy on the training set is: 78.39388145315488\n"
     ]
    }
   ],
   "source": [
    "# Accuracy on the train data:\n",
    "print(\"The Accuracy on the training set is:\",np.mean(Predictions_train == y_train)*100)"
   ]
  },
  {
   "cell_type": "code",
   "execution_count": 23,
   "id": "9c154cce",
   "metadata": {},
   "outputs": [
    {
     "name": "stdout",
     "output_type": "stream",
     "text": [
      "The Accuracy on the testing set is: 76.44444444444444\n"
     ]
    }
   ],
   "source": [
    "# Get Predictions on the test data\n",
    "Predictions_test = Get_Prediction(tree,test_data)\n",
    "\n",
    "# Accuracy on the test data:\n",
    "print(\"The Accuracy on the testing set is:\",np.mean(Predictions_test == y_test)*100)"
   ]
  },
  {
   "cell_type": "markdown",
   "id": "261dc686",
   "metadata": {},
   "source": [
    "## Finding Optimal Dept and Size for the Tree (Hyperparameter Tuning)"
   ]
  },
  {
   "cell_type": "code",
   "execution_count": 24,
   "id": "635f5fa5",
   "metadata": {},
   "outputs": [],
   "source": [
    "train, validate, test = np.split(df.sample(frac=1, random_state=42), [int(.7*len(df)), int(.85*len(df))])"
   ]
  },
  {
   "cell_type": "code",
   "execution_count": 25,
   "id": "c6ea1f79",
   "metadata": {},
   "outputs": [],
   "source": [
    "train, validate, test = np.array(train),np.array(validate),np.array(test)"
   ]
  },
  {
   "cell_type": "markdown",
   "id": "1c48ab44",
   "metadata": {},
   "source": [
    "I am trying with couple of values of max_dept and min_size on the cross validation set to find the optimal values for the same(The one combination which returns best accuracy)\n",
    "\n",
    "**Note:** We can try to find the optimal values for max_depth and min_size separately. But i have opted to find them combined."
   ]
  },
  {
   "cell_type": "code",
   "execution_count": 29,
   "id": "9d356f63",
   "metadata": {},
   "outputs": [],
   "source": [
    "max_depth = [2,3,4,5,6,7,8]\n",
    "min_size = [5,6,7,8,9,10]"
   ]
  },
  {
   "cell_type": "code",
   "execution_count": 30,
   "id": "c67bf999",
   "metadata": {},
   "outputs": [],
   "source": [
    "def find_Optimal_dept_size(max_depth,min_size,train,validate):\n",
    "    \n",
    "    best_depth,best_size,best_accuracy = 999,999,-1\n",
    "    \n",
    "    y_val = validate[:,-1]\n",
    "    \n",
    "    for depth in max_depth:\n",
    "        \n",
    "        for size in min_size:\n",
    "            \n",
    "            # Build the tree\n",
    "            tree = build_tree(train,depth,size)\n",
    "            \n",
    "            #Find Predictions on the validation set\n",
    "            Predictions = Get_Prediction(tree,validate)\n",
    "            \n",
    "            #find the accuracy\n",
    "            accuracy = np.mean(Predictions == y_val)*100\n",
    "            \n",
    "            # Print the accuracy obtained for each combination of depth and size\n",
    "            print(\"For depth =\",depth,\"and size =\",size,\"accuracy is:\",accuracy)\n",
    "            \n",
    "            if accuracy > best_accuracy:\n",
    "                best_depth,best_size,best_accuracy = depth,size,accuracy\n",
    "        \n",
    "    return({\n",
    "        \"Accuracy\":best_accuracy,\n",
    "        \"Depth\":best_depth,\n",
    "        \"Size\":best_size\n",
    "    })\n",
    "        \n",
    "     "
   ]
  },
  {
   "cell_type": "code",
   "execution_count": 31,
   "id": "dcf66949",
   "metadata": {},
   "outputs": [
    {
     "name": "stdout",
     "output_type": "stream",
     "text": [
      "For depth = 2 and size = 5 accuracy is: 80.35714285714286\n",
      "For depth = 2 and size = 6 accuracy is: 80.35714285714286\n",
      "For depth = 2 and size = 7 accuracy is: 80.35714285714286\n",
      "For depth = 2 and size = 8 accuracy is: 80.35714285714286\n",
      "For depth = 2 and size = 9 accuracy is: 80.35714285714286\n",
      "For depth = 2 and size = 10 accuracy is: 80.35714285714286\n",
      "For depth = 3 and size = 5 accuracy is: 75.0\n",
      "For depth = 3 and size = 6 accuracy is: 75.0\n",
      "For depth = 3 and size = 7 accuracy is: 75.0\n",
      "For depth = 3 and size = 8 accuracy is: 75.0\n",
      "For depth = 3 and size = 9 accuracy is: 75.0\n",
      "For depth = 3 and size = 10 accuracy is: 75.0\n",
      "For depth = 4 and size = 5 accuracy is: 75.89285714285714\n",
      "For depth = 4 and size = 6 accuracy is: 75.89285714285714\n",
      "For depth = 4 and size = 7 accuracy is: 75.89285714285714\n",
      "For depth = 4 and size = 8 accuracy is: 75.89285714285714\n",
      "For depth = 4 and size = 9 accuracy is: 75.89285714285714\n",
      "For depth = 4 and size = 10 accuracy is: 75.89285714285714\n",
      "For depth = 5 and size = 5 accuracy is: 74.10714285714286\n",
      "For depth = 5 and size = 6 accuracy is: 74.10714285714286\n",
      "For depth = 5 and size = 7 accuracy is: 74.10714285714286\n",
      "For depth = 5 and size = 8 accuracy is: 74.10714285714286\n",
      "For depth = 5 and size = 9 accuracy is: 74.10714285714286\n",
      "For depth = 5 and size = 10 accuracy is: 74.10714285714286\n",
      "For depth = 6 and size = 5 accuracy is: 70.53571428571429\n",
      "For depth = 6 and size = 6 accuracy is: 70.53571428571429\n",
      "For depth = 6 and size = 7 accuracy is: 70.53571428571429\n",
      "For depth = 6 and size = 8 accuracy is: 70.53571428571429\n",
      "For depth = 6 and size = 9 accuracy is: 70.53571428571429\n",
      "For depth = 6 and size = 10 accuracy is: 70.53571428571429\n",
      "For depth = 7 and size = 5 accuracy is: 72.32142857142857\n",
      "For depth = 7 and size = 6 accuracy is: 72.32142857142857\n",
      "For depth = 7 and size = 7 accuracy is: 72.32142857142857\n",
      "For depth = 7 and size = 8 accuracy is: 72.32142857142857\n",
      "For depth = 7 and size = 9 accuracy is: 72.32142857142857\n",
      "For depth = 7 and size = 10 accuracy is: 72.32142857142857\n",
      "For depth = 8 and size = 5 accuracy is: 70.53571428571429\n",
      "For depth = 8 and size = 6 accuracy is: 70.53571428571429\n",
      "For depth = 8 and size = 7 accuracy is: 70.53571428571429\n",
      "For depth = 8 and size = 8 accuracy is: 70.53571428571429\n",
      "For depth = 8 and size = 9 accuracy is: 70.53571428571429\n",
      "For depth = 8 and size = 10 accuracy is: 70.53571428571429\n"
     ]
    }
   ],
   "source": [
    "best_values = find_Optimal_dept_size(max_depth,min_size,train,validate)"
   ]
  },
  {
   "cell_type": "code",
   "execution_count": 32,
   "id": "6c12273e",
   "metadata": {},
   "outputs": [
    {
     "name": "stdout",
     "output_type": "stream",
     "text": [
      "The best optimal values for depth is: 2 and size is: 5 for accuracy of: 80.35714285714286\n"
     ]
    }
   ],
   "source": [
    "print(\"The best optimal values for depth is:\",best_values['Depth'],\"and size is:\",best_values['Size'],\\\n",
    "      \"for accuracy of:\",best_values['Accuracy'])"
   ]
  },
  {
   "cell_type": "code",
   "execution_count": 33,
   "id": "3736ebf3",
   "metadata": {},
   "outputs": [],
   "source": [
    "#Lets build the tree with above depth and size \n",
    "y_test = test[:,-1]\n",
    "tree = build_tree(train,best_values['Depth'],best_values['Size'])\n",
    "\n",
    "#Find Predictions on the test set\n",
    "Predictions = Get_Prediction(tree,test)\n",
    "\n",
    "#find the accuracy\n",
    "accuracy = np.mean(Predictions == y_test)*100\n"
   ]
  },
  {
   "cell_type": "code",
   "execution_count": 34,
   "id": "ac92687e",
   "metadata": {},
   "outputs": [
    {
     "name": "stdout",
     "output_type": "stream",
     "text": [
      "The accuracy on the test set: 80.53097345132744\n"
     ]
    }
   ],
   "source": [
    "print(\"The accuracy on the test set:\",accuracy)"
   ]
  }
 ],
 "metadata": {
  "kernelspec": {
   "display_name": "Python 3",
   "language": "python",
   "name": "python3"
  },
  "language_info": {
   "codemirror_mode": {
    "name": "ipython",
    "version": 3
   },
   "file_extension": ".py",
   "mimetype": "text/x-python",
   "name": "python",
   "nbconvert_exporter": "python",
   "pygments_lexer": "ipython3",
   "version": "3.8.8"
  }
 },
 "nbformat": 4,
 "nbformat_minor": 5
}
