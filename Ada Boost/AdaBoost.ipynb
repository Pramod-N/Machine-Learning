{
 "cells": [
  {
   "cell_type": "code",
   "execution_count": 1,
   "id": "da3d1a73",
   "metadata": {},
   "outputs": [],
   "source": [
    "import numpy as np\n",
    "import matplotlib.pyplot as plt\n",
    "import pandas as pd\n",
    "from scipy.stats import mode\n",
    "import random"
   ]
  },
  {
   "cell_type": "markdown",
   "id": "9ff4527b",
   "metadata": {},
   "source": [
    "The dataset can be downloaded from here:\n",
    "\n",
    "https://archive.ics.uci.edu/ml/datasets/Blood+Transfusion+Service+Center"
   ]
  },
  {
   "cell_type": "code",
   "execution_count": 2,
   "id": "e707fe62",
   "metadata": {},
   "outputs": [
    {
     "data": {
      "text/html": [
       "<div>\n",
       "<style scoped>\n",
       "    .dataframe tbody tr th:only-of-type {\n",
       "        vertical-align: middle;\n",
       "    }\n",
       "\n",
       "    .dataframe tbody tr th {\n",
       "        vertical-align: top;\n",
       "    }\n",
       "\n",
       "    .dataframe thead th {\n",
       "        text-align: right;\n",
       "    }\n",
       "</style>\n",
       "<table border=\"1\" class=\"dataframe\">\n",
       "  <thead>\n",
       "    <tr style=\"text-align: right;\">\n",
       "      <th></th>\n",
       "      <th>Recency (months)</th>\n",
       "      <th>Frequency (times)</th>\n",
       "      <th>Monetary (c.c. blood)</th>\n",
       "      <th>Time (months)</th>\n",
       "      <th>whether he/she donated blood in March 2007</th>\n",
       "    </tr>\n",
       "  </thead>\n",
       "  <tbody>\n",
       "    <tr>\n",
       "      <th>0</th>\n",
       "      <td>2</td>\n",
       "      <td>50</td>\n",
       "      <td>12500</td>\n",
       "      <td>98</td>\n",
       "      <td>1</td>\n",
       "    </tr>\n",
       "    <tr>\n",
       "      <th>1</th>\n",
       "      <td>0</td>\n",
       "      <td>13</td>\n",
       "      <td>3250</td>\n",
       "      <td>28</td>\n",
       "      <td>1</td>\n",
       "    </tr>\n",
       "    <tr>\n",
       "      <th>2</th>\n",
       "      <td>1</td>\n",
       "      <td>16</td>\n",
       "      <td>4000</td>\n",
       "      <td>35</td>\n",
       "      <td>1</td>\n",
       "    </tr>\n",
       "    <tr>\n",
       "      <th>3</th>\n",
       "      <td>2</td>\n",
       "      <td>20</td>\n",
       "      <td>5000</td>\n",
       "      <td>45</td>\n",
       "      <td>1</td>\n",
       "    </tr>\n",
       "    <tr>\n",
       "      <th>4</th>\n",
       "      <td>1</td>\n",
       "      <td>24</td>\n",
       "      <td>6000</td>\n",
       "      <td>77</td>\n",
       "      <td>0</td>\n",
       "    </tr>\n",
       "    <tr>\n",
       "      <th>...</th>\n",
       "      <td>...</td>\n",
       "      <td>...</td>\n",
       "      <td>...</td>\n",
       "      <td>...</td>\n",
       "      <td>...</td>\n",
       "    </tr>\n",
       "    <tr>\n",
       "      <th>743</th>\n",
       "      <td>23</td>\n",
       "      <td>2</td>\n",
       "      <td>500</td>\n",
       "      <td>38</td>\n",
       "      <td>0</td>\n",
       "    </tr>\n",
       "    <tr>\n",
       "      <th>744</th>\n",
       "      <td>21</td>\n",
       "      <td>2</td>\n",
       "      <td>500</td>\n",
       "      <td>52</td>\n",
       "      <td>0</td>\n",
       "    </tr>\n",
       "    <tr>\n",
       "      <th>745</th>\n",
       "      <td>23</td>\n",
       "      <td>3</td>\n",
       "      <td>750</td>\n",
       "      <td>62</td>\n",
       "      <td>0</td>\n",
       "    </tr>\n",
       "    <tr>\n",
       "      <th>746</th>\n",
       "      <td>39</td>\n",
       "      <td>1</td>\n",
       "      <td>250</td>\n",
       "      <td>39</td>\n",
       "      <td>0</td>\n",
       "    </tr>\n",
       "    <tr>\n",
       "      <th>747</th>\n",
       "      <td>72</td>\n",
       "      <td>1</td>\n",
       "      <td>250</td>\n",
       "      <td>72</td>\n",
       "      <td>0</td>\n",
       "    </tr>\n",
       "  </tbody>\n",
       "</table>\n",
       "<p>748 rows × 5 columns</p>\n",
       "</div>"
      ],
      "text/plain": [
       "     Recency (months)  Frequency (times)  Monetary (c.c. blood)  \\\n",
       "0                   2                 50                  12500   \n",
       "1                   0                 13                   3250   \n",
       "2                   1                 16                   4000   \n",
       "3                   2                 20                   5000   \n",
       "4                   1                 24                   6000   \n",
       "..                ...                ...                    ...   \n",
       "743                23                  2                    500   \n",
       "744                21                  2                    500   \n",
       "745                23                  3                    750   \n",
       "746                39                  1                    250   \n",
       "747                72                  1                    250   \n",
       "\n",
       "     Time (months)  whether he/she donated blood in March 2007  \n",
       "0               98                                           1  \n",
       "1               28                                           1  \n",
       "2               35                                           1  \n",
       "3               45                                           1  \n",
       "4               77                                           0  \n",
       "..             ...                                         ...  \n",
       "743             38                                           0  \n",
       "744             52                                           0  \n",
       "745             62                                           0  \n",
       "746             39                                           0  \n",
       "747             72                                           0  \n",
       "\n",
       "[748 rows x 5 columns]"
      ]
     },
     "execution_count": 2,
     "metadata": {},
     "output_type": "execute_result"
    }
   ],
   "source": [
    "df = pd.read_csv(r\"dataset/transfusion.data\",sep=',')\n",
    "data = np.array(df)\n",
    "\n",
    "df"
   ]
  },
  {
   "cell_type": "code",
   "execution_count": 3,
   "id": "f32bf5c7",
   "metadata": {},
   "outputs": [],
   "source": [
    "def Initialize_weights(length):\n",
    "    w = np.array([(1.0/length) for i in range(length)]).reshape(length,1)\n",
    "    return w"
   ]
  },
  {
   "cell_type": "code",
   "execution_count": 4,
   "id": "8f036f47",
   "metadata": {},
   "outputs": [],
   "source": [
    "def split_data(value,column_index,data):\n",
    "    left = data[data[:,column_index] <= value]\n",
    "    right = data[data[:,column_index] > value]\n",
    "    \n",
    "    return left,right"
   ]
  },
  {
   "cell_type": "code",
   "execution_count": 5,
   "id": "4638ea37",
   "metadata": {},
   "outputs": [],
   "source": [
    "def Gini_Index(groups,classes):\n",
    "    total_samples = sum(len(group) for group in groups)\n",
    "    gini_index = 0\n",
    "    for group in groups:\n",
    "        size = len(group)\n",
    "        score = 0\n",
    "        if size == 0:\n",
    "            continue\n",
    "        for class_label in classes:\n",
    "            p = sum(group[:,-1]==class_label)/size\n",
    "            score += p*p\n",
    "        \n",
    "        gini_index += (1 - score)*(size/total_samples)\n",
    "    \n",
    "    return gini_index"
   ]
  },
  {
   "cell_type": "code",
   "execution_count": 6,
   "id": "efeffab1",
   "metadata": {},
   "outputs": [],
   "source": [
    "def getOptimalSplit_value(data):\n",
    "    classes = np.unique(data[:,-1])\n",
    "    best_index,best_gini,best_splitval,best_group = 9999,9999,9999,None\n",
    "    for index in range(data.shape[1] - 1):\n",
    "        for row in data:\n",
    "            groups = split_data(row[index],index,data)\n",
    "            gini_index = Gini_Index(groups,classes)\n",
    "            if gini_index < best_gini:\n",
    "                best_index,best_gini,best_splitval,best_group = index,gini_index,row[index],groups\n",
    "    \n",
    "    return {\n",
    "        \"index\":best_index,\n",
    "        \"gini\":best_gini,\n",
    "        \"value\":best_splitval,\n",
    "        \"group\":best_group\n",
    "           }"
   ]
  },
  {
   "cell_type": "markdown",
   "id": "9dae7f11",
   "metadata": {},
   "source": [
    "## Build Stump"
   ]
  },
  {
   "cell_type": "code",
   "execution_count": 7,
   "id": "f1e4b2c2",
   "metadata": {},
   "outputs": [],
   "source": [
    "# This can be used to return the most probable value that the node can return based what class type data does it have most\n",
    "def terminal_nodes(groups):\n",
    "    return int(mode(groups[:,-1])[0])"
   ]
  },
  {
   "cell_type": "code",
   "execution_count": 8,
   "id": "eeec6fe9",
   "metadata": {},
   "outputs": [],
   "source": [
    "def Build_Stump(data):\n",
    "    root = getOptimalSplit_value(data)\n",
    "    left,right = root['group']\n",
    "    del(root['group'])\n",
    "    \n",
    "    if (left.size == 0) or (right.size == 0):\n",
    "        array = np.array(list(left)+list(right))\n",
    "        root['left'] = root['right'] = terminal_nodes(array)\n",
    "    \n",
    "    else:\n",
    "        root['left'],root['right'] = terminal_nodes(left),terminal_nodes(right)\n",
    "    \n",
    "    return root"
   ]
  },
  {
   "cell_type": "code",
   "execution_count": 9,
   "id": "9716a9ac",
   "metadata": {},
   "outputs": [],
   "source": [
    "def Predict(node,test_row):\n",
    "    if test_row[node['index']] < node['value']:\n",
    "        if isinstance(node['left'],dict):\n",
    "            return Predict(node['left'],test_row)\n",
    "        else:\n",
    "            return node['left']\n",
    "    else:\n",
    "        if isinstance(node['right'],dict):\n",
    "            return Predict(node['right'],test_row)\n",
    "        else:\n",
    "            return node['right']"
   ]
  },
  {
   "cell_type": "code",
   "execution_count": 10,
   "id": "10789732",
   "metadata": {},
   "outputs": [],
   "source": [
    "def Get_Prediction(tree,data):\n",
    "    Predictions = []\n",
    "    for row in data:\n",
    "        Prediction = Predict(tree,row)\n",
    "        Predictions.append(Prediction)\n",
    "    return np.array(Predictions)"
   ]
  },
  {
   "cell_type": "code",
   "execution_count": 11,
   "id": "cbd6b3d9",
   "metadata": {},
   "outputs": [],
   "source": [
    "def errors(data,p,w):\n",
    "    perror = np.zeros((len(data),1))\n",
    "    perror[p!=data[:,-1]] = 1\n",
    "    error = np.sum(perror * w)/(np.sum(w))\n",
    "    stage = np.log((1-error)/error)\n",
    "    perror[perror == 0] = -1\n",
    "    \n",
    "    return perror,stage"
   ]
  },
  {
   "cell_type": "code",
   "execution_count": 12,
   "id": "fe361db5",
   "metadata": {},
   "outputs": [],
   "source": [
    "def update_weights(w,perror,stage):\n",
    "    wdash = w*np.exp(perror*stage)\n",
    "    wdash = wdash/np.sum(wdash)\n",
    "    return wdash"
   ]
  },
  {
   "cell_type": "code",
   "execution_count": 13,
   "id": "c0e443cd",
   "metadata": {},
   "outputs": [],
   "source": [
    "def get_cumulative_freq(w):\n",
    "    cumulative_freq = np.zeros((len(w),1))\n",
    "    for i in range(len(w)):\n",
    "        if i == 0:\n",
    "            cumulative_freq[i] = 0\n",
    "        else:\n",
    "            cumulative_freq[i] = np.sum(w[:(i+1),])\n",
    "    \n",
    "    return cumulative_freq"
   ]
  },
  {
   "cell_type": "code",
   "execution_count": 14,
   "id": "a9513de9",
   "metadata": {},
   "outputs": [],
   "source": [
    "def get_index_ofdata(number,cumulative_freq):\n",
    "    for i in range(len(cumulative_freq)-1):\n",
    "        if (cumulative_freq[i][0] <= number < cumulative_freq[i+1][0]):\n",
    "            return i"
   ]
  },
  {
   "cell_type": "code",
   "execution_count": 15,
   "id": "8e96b752",
   "metadata": {},
   "outputs": [],
   "source": [
    "def Create_dataset(length,dataset,cumulative_freq):\n",
    "    newdataset = []\n",
    "    data_list = np.ndarray.tolist(dataset)\n",
    "    for i in range(length):\n",
    "        number = np.random.random(1)[0]\n",
    "        index = get_index_ofdata(number,cumulative_freq)\n",
    "        newdataset.append(data_list[index])\n",
    "    \n",
    "    return np.array(newdataset)"
   ]
  },
  {
   "cell_type": "code",
   "execution_count": 17,
   "id": "da830a4a",
   "metadata": {},
   "outputs": [],
   "source": [
    "def AdaBoost_Training(data,no_stumps):\n",
    "    w = Initialize_weights(len(data))\n",
    "    trees = []\n",
    "    stages = []\n",
    "    dataset = data\n",
    "    for each in range(no_stumps):\n",
    "        tree = Build_Stump(dataset)\n",
    "        trees.append(tree)\n",
    "        pred = Get_Prediction(tree,dataset)\n",
    "        perror,stage = errors(data,pred,w)\n",
    "        stages.append(stage)\n",
    "        w = update_weights(w,perror,stage)\n",
    "        cumulative_freq = get_cumulative_freq(w)\n",
    "        dataset = Create_dataset(len(dataset),dataset,cumulative_freq)\n",
    "    return trees,stages"
   ]
  },
  {
   "cell_type": "code",
   "execution_count": 18,
   "id": "f1e421ba",
   "metadata": {},
   "outputs": [],
   "source": [
    "no_stumps = 100\n",
    "trees,stages = AdaBoost(data,no_stumps)"
   ]
  },
  {
   "cell_type": "code",
   "execution_count": 19,
   "id": "987059c9",
   "metadata": {},
   "outputs": [],
   "source": [
    "def AdaBoost_Predict(trees,data,stages,length):\n",
    "    model_predictions = np.ones((length,1))\n",
    "    for i in range(len(trees)):\n",
    "        pred = Get_Prediction(trees[i],data)\n",
    "        pred[pred==0] = -1\n",
    "        model_pred = stages[i] * pred\n",
    "        model_predictions = np.append(model_predictions,model_pred.reshape(length,1),axis=1)\n",
    "    \n",
    "    model_predictions = model_predictions[:,1:]\n",
    "    final_pred = np.sign(np.sum(model_predictions,axis=1))\n",
    "    \n",
    "    final_pred[final_pred == -1] = 0\n",
    "    \n",
    "    return final_pred"
   ]
  },
  {
   "cell_type": "code",
   "execution_count": 20,
   "id": "986a3eb5",
   "metadata": {},
   "outputs": [],
   "source": [
    "pred = AdaBoost_Predict(trees,data,stages,len(data))"
   ]
  },
  {
   "cell_type": "code",
   "execution_count": 21,
   "id": "a282249f",
   "metadata": {},
   "outputs": [
    {
     "name": "stdout",
     "output_type": "stream",
     "text": [
      "The accuracy on the Training data is given by: 66.97860962566845\n"
     ]
    }
   ],
   "source": [
    "print(\"The accuracy on the Training data is given by:\",np.mean(pred == data[:,-1])*100)"
   ]
  }
 ],
 "metadata": {
  "kernelspec": {
   "display_name": "Python 3",
   "language": "python",
   "name": "python3"
  },
  "language_info": {
   "codemirror_mode": {
    "name": "ipython",
    "version": 3
   },
   "file_extension": ".py",
   "mimetype": "text/x-python",
   "name": "python",
   "nbconvert_exporter": "python",
   "pygments_lexer": "ipython3",
   "version": "3.8.8"
  }
 },
 "nbformat": 4,
 "nbformat_minor": 5
}
