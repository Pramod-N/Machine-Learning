{
 "cells": [
  {
   "cell_type": "markdown",
   "id": "ddbbedc2",
   "metadata": {},
   "source": [
    "# Implementing Linear Regression on One variable from Scratch"
   ]
  },
  {
   "cell_type": "code",
   "execution_count": 1,
   "id": "1c86cf9e",
   "metadata": {},
   "outputs": [],
   "source": [
    "import pandas as pd\n",
    "import numpy as np\n",
    "import matplotlib.pyplot as plt"
   ]
  },
  {
   "cell_type": "markdown",
   "id": "47519b23",
   "metadata": {},
   "source": [
    "Read the dataset from local repository"
   ]
  },
  {
   "cell_type": "code",
   "execution_count": 2,
   "id": "fab5d472",
   "metadata": {},
   "outputs": [],
   "source": [
    "Dataset = pd.read_csv(r\"./LinearRegression-OneVariable.txt\")"
   ]
  },
  {
   "cell_type": "markdown",
   "id": "e6419149",
   "metadata": {},
   "source": [
    "*The dataset contains two columns - Population of City(in 10,000s) and Profit(in $ 10000s)*"
   ]
  },
  {
   "cell_type": "markdown",
   "id": "f5749671",
   "metadata": {},
   "source": [
    " Describe the dataset to get an overview"
   ]
  },
  {
   "cell_type": "code",
   "execution_count": 3,
   "id": "9ac47c9a",
   "metadata": {},
   "outputs": [
    {
     "data": {
      "text/html": [
       "<div>\n",
       "<style scoped>\n",
       "    .dataframe tbody tr th:only-of-type {\n",
       "        vertical-align: middle;\n",
       "    }\n",
       "\n",
       "    .dataframe tbody tr th {\n",
       "        vertical-align: top;\n",
       "    }\n",
       "\n",
       "    .dataframe thead th {\n",
       "        text-align: right;\n",
       "    }\n",
       "</style>\n",
       "<table border=\"1\" class=\"dataframe\">\n",
       "  <thead>\n",
       "    <tr style=\"text-align: right;\">\n",
       "      <th></th>\n",
       "      <th>Population of City(in 10000s)</th>\n",
       "      <th>Profit(in $10000)</th>\n",
       "    </tr>\n",
       "  </thead>\n",
       "  <tbody>\n",
       "    <tr>\n",
       "      <th>count</th>\n",
       "      <td>97.000000</td>\n",
       "      <td>97.000000</td>\n",
       "    </tr>\n",
       "    <tr>\n",
       "      <th>mean</th>\n",
       "      <td>8.159800</td>\n",
       "      <td>5.839135</td>\n",
       "    </tr>\n",
       "    <tr>\n",
       "      <th>std</th>\n",
       "      <td>3.869884</td>\n",
       "      <td>5.510262</td>\n",
       "    </tr>\n",
       "    <tr>\n",
       "      <th>min</th>\n",
       "      <td>5.026900</td>\n",
       "      <td>-2.680700</td>\n",
       "    </tr>\n",
       "    <tr>\n",
       "      <th>25%</th>\n",
       "      <td>5.707700</td>\n",
       "      <td>1.986900</td>\n",
       "    </tr>\n",
       "    <tr>\n",
       "      <th>50%</th>\n",
       "      <td>6.589400</td>\n",
       "      <td>4.562300</td>\n",
       "    </tr>\n",
       "    <tr>\n",
       "      <th>75%</th>\n",
       "      <td>8.578100</td>\n",
       "      <td>7.046700</td>\n",
       "    </tr>\n",
       "    <tr>\n",
       "      <th>max</th>\n",
       "      <td>22.203000</td>\n",
       "      <td>24.147000</td>\n",
       "    </tr>\n",
       "  </tbody>\n",
       "</table>\n",
       "</div>"
      ],
      "text/plain": [
       "       Population of City(in 10000s)  Profit(in $10000)\n",
       "count                      97.000000          97.000000\n",
       "mean                        8.159800           5.839135\n",
       "std                         3.869884           5.510262\n",
       "min                         5.026900          -2.680700\n",
       "25%                         5.707700           1.986900\n",
       "50%                         6.589400           4.562300\n",
       "75%                         8.578100           7.046700\n",
       "max                        22.203000          24.147000"
      ]
     },
     "execution_count": 3,
     "metadata": {},
     "output_type": "execute_result"
    }
   ],
   "source": [
    "Dataset.describe()"
   ]
  },
  {
   "cell_type": "markdown",
   "id": "396da246",
   "metadata": {},
   "source": [
    "Convert the dataframe to numpy array and then split the data into input and output sets"
   ]
  },
  {
   "cell_type": "code",
   "execution_count": 4,
   "id": "7b7b4bc0",
   "metadata": {},
   "outputs": [],
   "source": [
    "dataset = Dataset.values\n",
    "input_x, output_y = dataset[:,0],dataset[:,-1]"
   ]
  },
  {
   "cell_type": "markdown",
   "id": "629f0be1",
   "metadata": {},
   "source": [
    "## Visualizing the data"
   ]
  },
  {
   "cell_type": "code",
   "execution_count": 5,
   "id": "49224f17",
   "metadata": {},
   "outputs": [
    {
     "data": {
      "image/png": "[encoded data removed]",
      "text/plain": [
       "<Figure size 432x288 with 1 Axes>"
      ]
     },
     "metadata": {
      "needs_background": "light"
     },
     "output_type": "display_data"
    }
   ],
   "source": [
    "plt.scatter(input_x,output_y,c=\"red\",marker=\"x\")\n",
    "plt.xticks(np.arange(5,30,5))\n",
    "plt.yticks(np.arange(-5,30,5))\n",
    "plt.title(\"Population of City(in 10000s) v/s Profit(in $10000)\")\n",
    "plt.xlabel(\"Population of City(in 10000s)\")\n",
    "plt.ylabel(\"Profit(in $10000)\")\n",
    "\n",
    "plt.show()"
   ]
  },
  {
   "cell_type": "markdown",
   "id": "d4a697ad",
   "metadata": {},
   "source": [
    "## Initialize the paramaters "
   ]
  },
  {
   "cell_type": "code",
   "execution_count": 6,
   "id": "ed06f099",
   "metadata": {},
   "outputs": [],
   "source": [
    "def Initialize_parameters(output_y,input_x):\n",
    "    no_of_samples = len(output_y)\n",
    "    weights = np.zeros((input_x.reshape(no_of_samples,1).shape[1]+1,1))\n",
    "    input_x = input_x.reshape(no_of_samples,1)\n",
    "    output_y = output_y.reshape(no_of_samples,1)\n",
    "    input_x = np.append(np.ones((no_of_samples,1)),input_x,axis=1)\n",
    "    return weights,no_of_samples,input_x,output_y"
   ]
  },
  {
   "cell_type": "code",
   "execution_count": 7,
   "id": "3abe7496",
   "metadata": {},
   "outputs": [
    {
     "name": "stdout",
     "output_type": "stream",
     "text": [
      "Initial weights: \n",
      " [[0.]\n",
      " [0.]]\n",
      "Number of Samples in the dataset: 97\n",
      "Input Matrix: [[ 1.      6.1101]\n",
      " [ 1.      5.5277]\n",
      " [ 1.      8.5186]\n",
      " [ 1.      7.0032]\n",
      " [ 1.      5.8598]\n",
      " [ 1.      8.3829]\n",
      " [ 1.      7.4764]\n",
      " [ 1.      8.5781]\n",
      " [ 1.      6.4862]\n",
      " [ 1.      5.0546]\n",
      " [ 1.      5.7107]\n",
      " [ 1.     14.164 ]\n",
      " [ 1.      5.734 ]\n",
      " [ 1.      8.4084]\n",
      " [ 1.      5.6407]\n",
      " [ 1.      5.3794]\n",
      " [ 1.      6.3654]\n",
      " [ 1.      5.1301]\n",
      " [ 1.      6.4296]\n",
      " [ 1.      7.0708]\n",
      " [ 1.      6.1891]\n",
      " [ 1.     20.27  ]\n",
      " [ 1.      5.4901]\n",
      " [ 1.      6.3261]\n",
      " [ 1.      5.5649]\n",
      " [ 1.     18.945 ]\n",
      " [ 1.     12.828 ]\n",
      " [ 1.     10.957 ]\n",
      " [ 1.     13.176 ]\n",
      " [ 1.     22.203 ]\n",
      " [ 1.      5.2524]\n",
      " [ 1.      6.5894]\n",
      " [ 1.      9.2482]\n",
      " [ 1.      5.8918]\n",
      " [ 1.      8.2111]\n",
      " [ 1.      7.9334]\n",
      " [ 1.      8.0959]\n",
      " [ 1.      5.6063]\n",
      " [ 1.     12.836 ]\n",
      " [ 1.      6.3534]\n",
      " [ 1.      5.4069]\n",
      " [ 1.      6.8825]\n",
      " [ 1.     11.708 ]\n",
      " [ 1.      5.7737]\n",
      " [ 1.      7.8247]\n",
      " [ 1.      7.0931]\n",
      " [ 1.      5.0702]\n",
      " [ 1.      5.8014]\n",
      " [ 1.     11.7   ]\n",
      " [ 1.      5.5416]\n",
      " [ 1.      7.5402]\n",
      " [ 1.      5.3077]\n",
      " [ 1.      7.4239]\n",
      " [ 1.      7.6031]\n",
      " [ 1.      6.3328]\n",
      " [ 1.      6.3589]\n",
      " [ 1.      6.2742]\n",
      " [ 1.      5.6397]\n",
      " [ 1.      9.3102]\n",
      " [ 1.      9.4536]\n",
      " [ 1.      8.8254]\n",
      " [ 1.      5.1793]\n",
      " [ 1.     21.279 ]\n",
      " [ 1.     14.908 ]\n",
      " [ 1.     18.959 ]\n",
      " [ 1.      7.2182]\n",
      " [ 1.      8.2951]\n",
      " [ 1.     10.236 ]\n",
      " [ 1.      5.4994]\n",
      " [ 1.     20.341 ]\n",
      " [ 1.     10.136 ]\n",
      " [ 1.      7.3345]\n",
      " [ 1.      6.0062]\n",
      " [ 1.      7.2259]\n",
      " [ 1.      5.0269]\n",
      " [ 1.      6.5479]\n",
      " [ 1.      7.5386]\n",
      " [ 1.      5.0365]\n",
      " [ 1.     10.274 ]\n",
      " [ 1.      5.1077]\n",
      " [ 1.      5.7292]\n",
      " [ 1.      5.1884]\n",
      " [ 1.      6.3557]\n",
      " [ 1.      9.7687]\n",
      " [ 1.      6.5159]\n",
      " [ 1.      8.5172]\n",
      " [ 1.      9.1802]\n",
      " [ 1.      6.002 ]\n",
      " [ 1.      5.5204]\n",
      " [ 1.      5.0594]\n",
      " [ 1.      5.7077]\n",
      " [ 1.      7.6366]\n",
      " [ 1.      5.8707]\n",
      " [ 1.      5.3054]\n",
      " [ 1.      8.2934]\n",
      " [ 1.     13.394 ]\n",
      " [ 1.      5.4369]]\n",
      "Output Matrix: [[17.592  ]\n",
      " [ 9.1302 ]\n",
      " [13.662  ]\n",
      " [11.854  ]\n",
      " [ 6.8233 ]\n",
      " [11.886  ]\n",
      " [ 4.3483 ]\n",
      " [12.     ]\n",
      " [ 6.5987 ]\n",
      " [ 3.8166 ]\n",
      " [ 3.2522 ]\n",
      " [15.505  ]\n",
      " [ 3.1551 ]\n",
      " [ 7.2258 ]\n",
      " [ 0.71618]\n",
      " [ 3.5129 ]\n",
      " [ 5.3048 ]\n",
      " [ 0.56077]\n",
      " [ 3.6518 ]\n",
      " [ 5.3893 ]\n",
      " [ 3.1386 ]\n",
      " [21.767  ]\n",
      " [ 4.263  ]\n",
      " [ 5.1875 ]\n",
      " [ 3.0825 ]\n",
      " [22.638  ]\n",
      " [13.501  ]\n",
      " [ 7.0467 ]\n",
      " [14.692  ]\n",
      " [24.147  ]\n",
      " [-1.22   ]\n",
      " [ 5.9966 ]\n",
      " [12.134  ]\n",
      " [ 1.8495 ]\n",
      " [ 6.5426 ]\n",
      " [ 4.5623 ]\n",
      " [ 4.1164 ]\n",
      " [ 3.3928 ]\n",
      " [10.117  ]\n",
      " [ 5.4974 ]\n",
      " [ 0.55657]\n",
      " [ 3.9115 ]\n",
      " [ 5.3854 ]\n",
      " [ 2.4406 ]\n",
      " [ 6.7318 ]\n",
      " [ 1.0463 ]\n",
      " [ 5.1337 ]\n",
      " [ 1.844  ]\n",
      " [ 8.0043 ]\n",
      " [ 1.0179 ]\n",
      " [ 6.7504 ]\n",
      " [ 1.8396 ]\n",
      " [ 4.2885 ]\n",
      " [ 4.9981 ]\n",
      " [ 1.4233 ]\n",
      " [-1.4211 ]\n",
      " [ 2.4756 ]\n",
      " [ 4.6042 ]\n",
      " [ 3.9624 ]\n",
      " [ 5.4141 ]\n",
      " [ 5.1694 ]\n",
      " [-0.74279]\n",
      " [17.929  ]\n",
      " [12.054  ]\n",
      " [17.054  ]\n",
      " [ 4.8852 ]\n",
      " [ 5.7442 ]\n",
      " [ 7.7754 ]\n",
      " [ 1.0173 ]\n",
      " [20.992  ]\n",
      " [ 6.6799 ]\n",
      " [ 4.0259 ]\n",
      " [ 1.2784 ]\n",
      " [ 3.3411 ]\n",
      " [-2.6807 ]\n",
      " [ 0.29678]\n",
      " [ 3.8845 ]\n",
      " [ 5.7014 ]\n",
      " [ 6.7526 ]\n",
      " [ 2.0576 ]\n",
      " [ 0.47953]\n",
      " [ 0.20421]\n",
      " [ 0.67861]\n",
      " [ 7.5435 ]\n",
      " [ 5.3436 ]\n",
      " [ 4.2415 ]\n",
      " [ 6.7981 ]\n",
      " [ 0.92695]\n",
      " [ 0.152  ]\n",
      " [ 2.8214 ]\n",
      " [ 1.8451 ]\n",
      " [ 4.2959 ]\n",
      " [ 7.2029 ]\n",
      " [ 1.9869 ]\n",
      " [ 0.14454]\n",
      " [ 9.0551 ]\n",
      " [ 0.61705]]\n"
     ]
    }
   ],
   "source": [
    "weights, no_of_samples,input_x,output_y = Initialize_parameters(output_y,input_x)\n",
    "\n",
    "print(\"Initial weights:\",\"\\n\",weights)\n",
    "print(\"Number of Samples in the dataset:\",no_of_samples)\n",
    "print(\"Input Matrix:\",input_x)\n",
    "print(\"Output Matrix:\",output_y)"
   ]
  },
  {
   "cell_type": "markdown",
   "id": "206a1238",
   "metadata": {},
   "source": [
    "## Construct/Develop the Hypothesis"
   ]
  },
  {
   "cell_type": "code",
   "execution_count": 8,
   "id": "1f09590f",
   "metadata": {},
   "outputs": [],
   "source": [
    "def Compute_hypothesis(weights,input_x):\n",
    "    y_hat = np.dot(input_x,weights)\n",
    "    return y_hat"
   ]
  },
  {
   "cell_type": "markdown",
   "id": "c041f707",
   "metadata": {},
   "source": [
    "## Determine the Cost of Prediction "
   ]
  },
  {
   "cell_type": "code",
   "execution_count": 9,
   "id": "1262e354",
   "metadata": {},
   "outputs": [],
   "source": [
    "def Compute_Cost(weights,input_x,output_y,length):\n",
    "    y_hat = Compute_hypothesis(weights,input_x)\n",
    "    mse = (1/(2*length))*np.sum((y_hat - output_y)**2)\n",
    "    return mse"
   ]
  },
  {
   "cell_type": "markdown",
   "id": "e51429ba",
   "metadata": {},
   "source": [
    "## Run Gradient Descent "
   ]
  },
  {
   "cell_type": "code",
   "execution_count": 10,
   "id": "3e9d9412",
   "metadata": {},
   "outputs": [],
   "source": [
    "def Gradient_Descent(num_iterations,J,weights,input_x,alpha,length,output_y):\n",
    "    for i in range(1,num_iterations+1):\n",
    "        y_hat = Compute_hypothesis(weights,input_x)\n",
    "        descent_direction = np.dot(input_x.transpose(),(y_hat - output_y))\n",
    "        step_length = (alpha/length)*descent_direction\n",
    "        weights -= step_length\n",
    "        J.append(Compute_Cost(weights,input_x,output_y,length))\n",
    "    return weights,J"
   ]
  },
  {
   "cell_type": "markdown",
   "id": "7f2be8c4",
   "metadata": {},
   "source": [
    "## Main Function"
   ]
  },
  {
   "cell_type": "code",
   "execution_count": 11,
   "id": "d3fc9834",
   "metadata": {},
   "outputs": [],
   "source": [
    "def LinearRegressionWithOneVariable(num_iterations,J):\n",
    "    alpha = 0.01\n",
    "    length = no_of_samples\n",
    "    theta, J = Gradient_Descent(num_iterations,J,weights,input_x,alpha,length,output_y)\n",
    "    return theta,J"
   ]
  },
  {
   "cell_type": "code",
   "execution_count": 12,
   "id": "50b533ba",
   "metadata": {},
   "outputs": [],
   "source": [
    "num_iterations = 1000\n",
    "J = []\n",
    "final_weights,cost_array = LinearRegressionWithOneVariable(num_iterations,J)"
   ]
  },
  {
   "cell_type": "markdown",
   "id": "91f4e7f2",
   "metadata": {},
   "source": [
    "## Plot the final weights along with data"
   ]
  },
  {
   "cell_type": "code",
   "execution_count": 14,
   "id": "caaff4b1",
   "metadata": {},
   "outputs": [
    {
     "data": {
      "image/png": "[encoded data removed]",
      "text/plain": [
       "<Figure size 432x288 with 1 Axes>"
      ]
     },
     "metadata": {
      "needs_background": "light"
     },
     "output_type": "display_data"
    }
   ],
   "source": [
    "plt_x = dataset[:,0]\n",
    "plt_y = dataset[:,-1]\n",
    "plt.scatter(plt_x,plt_y,c=\"red\",marker=\"x\")\n",
    "plt.xticks(np.arange(5,30,5))\n",
    "plt.yticks(np.arange(-5,30,5))\n",
    "x_values = [i for i in range(30)]\n",
    "y_values = [x*final_weights[1] + final_weights[0] for x in x_values]\n",
    "plt.plot(x_values,y_values,c=\"g\")\n",
    "plt.title(\"Population of City(in 10000s) v/s Profit(in $10000)\")\n",
    "plt.xlabel(\"Population of City(in 10000s)\")\n",
    "plt.ylabel(\"Profit(in $10000)\")\n",
    "\n",
    "plt.show()"
   ]
  },
  {
   "cell_type": "markdown",
   "id": "dd0d0585",
   "metadata": {},
   "source": [
    "## Plot the cost Function"
   ]
  },
  {
   "cell_type": "code",
   "execution_count": 15,
   "id": "1d6b20bc",
   "metadata": {},
   "outputs": [
    {
     "data": {
      "image/png": "[encoded data removed]",
      "text/plain": [
       "<Figure size 432x288 with 1 Axes>"
      ]
     },
     "metadata": {
      "needs_background": "light"
     },
     "output_type": "display_data"
    }
   ],
   "source": [
    "iterations = [i for i in range(1,1001)]\n",
    "plt.plot(iterations,cost_array,c=\"blue\")\n",
    "plt.title(\"Iterations v/s cost\")\n",
    "plt.xlabel(\"Iterations\")\n",
    "plt.ylabel(\"Cost\")\n",
    "plt.show()"
   ]
  },
  {
   "cell_type": "markdown",
   "id": "7ecf0b32",
   "metadata": {},
   "source": [
    "## Use Normal Equation in place of Gradient Descent"
   ]
  },
  {
   "cell_type": "code",
   "execution_count": 16,
   "id": "1d75553e",
   "metadata": {},
   "outputs": [],
   "source": [
    "input_xnrml,output_ynrml = dataset[:,0],dataset[:,-1]\n",
    "input_xnrml = input_xnrml.reshape(len(output_ynrml),1)\n",
    "output_ynrml = output_ynrml.reshape(len(output_ynrml),1)\n",
    "input_xnrml = np.append(np.ones((len(output_ynrml),1)),input_xnrml, axis=1)\n",
    "weight_nrml = np.dot(np.dot(np.linalg.inv(np.dot(input_xnrml.T,input_xnrml)),input_xnrml.T),output_ynrml)"
   ]
  },
  {
   "cell_type": "code",
   "execution_count": 17,
   "id": "c988370e",
   "metadata": {},
   "outputs": [
    {
     "name": "stdout",
     "output_type": "stream",
     "text": [
      "Weights from Normal Equation: \n",
      " [[-3.89578088]\n",
      " [ 1.19303364]]\n",
      "Weights from Gradient Descent: \n",
      " [[-3.24140214]\n",
      " [ 1.1272942 ]]\n"
     ]
    }
   ],
   "source": [
    "print(\"Weights from Normal Equation:\",\"\\n\",weight_nrml)\n",
    "print(\"Weights from Gradient Descent:\",\"\\n\",final_weights)"
   ]
  },
  {
   "cell_type": "markdown",
   "id": "b1900906",
   "metadata": {},
   "source": [
    "**Final Note:** The Cost function varies on varying the number of iterations, learning rate(alpha).\n",
    "* The smaller the alpha, the slower the steps towards minimum and if alpha is big, it might overshoot and never converge or diverge"
   ]
  },
  {
   "cell_type": "markdown",
   "id": "b527a95b",
   "metadata": {},
   "source": [
    "# Using sklearn Library for Linear regression"
   ]
  },
  {
   "cell_type": "code",
   "execution_count": 29,
   "id": "260238d9",
   "metadata": {},
   "outputs": [],
   "source": [
    "from sklearn import preprocessing\n",
    "from sklearn.linear_model import LinearRegression\n",
    "from sklearn.model_selection import train_test_split\n",
    "\n",
    "#read the data into independent and dependent variables\n",
    "no_of_samples = len(dataset[:,-1])\n",
    "X, y = dataset[:,0].reshape(no_of_samples,1),dataset[:,-1].reshape(no_of_samples,1)"
   ]
  },
  {
   "cell_type": "code",
   "execution_count": 30,
   "id": "0076d282",
   "metadata": {},
   "outputs": [],
   "source": [
    "#Split the data into train and test set \n",
    "\n",
    "X_train, X_test,y_train, y_test = train_test_split(X,y,test_size=0.20)"
   ]
  },
  {
   "cell_type": "code",
   "execution_count": 31,
   "id": "81db2ce9",
   "metadata": {},
   "outputs": [],
   "source": [
    "#train the model on the train set\n",
    "linearRegression = LinearRegression().fit(X_train,y_train)"
   ]
  },
  {
   "cell_type": "markdown",
   "id": "d6122d54",
   "metadata": {},
   "source": [
    "**The coefficient of determination(R-squared) is used to calculate accuracy**\n",
    "\n",
    "**formula** =  *(1 - (Sum_of_residual_squares/total_sum_of_errors))*\n",
    "\n",
    "**Sum_of_residual_squares:** *((y_pred - y) ** 2).sum()*\n",
    "\n",
    "**total_sum_of_errors:** *((y - y_mean()) ** 2).sum()*"
   ]
  },
  {
   "cell_type": "code",
   "execution_count": 32,
   "id": "8463efb7",
   "metadata": {},
   "outputs": [
    {
     "name": "stdout",
     "output_type": "stream",
     "text": [
      "0.7909321960298445\n"
     ]
    }
   ],
   "source": [
    "print(linearRegression.score(X_test,y_test))"
   ]
  },
  {
   "cell_type": "code",
   "execution_count": 33,
   "id": "477facab",
   "metadata": {},
   "outputs": [],
   "source": [
    "y_pred = linearRegression.predict(X_test)"
   ]
  },
  {
   "cell_type": "code",
   "execution_count": 34,
   "id": "76db2c63",
   "metadata": {},
   "outputs": [
    {
     "data": {
      "image/png": "[encoded data removed]",
      "text/plain": [
       "<Figure size 432x288 with 1 Axes>"
      ]
     },
     "metadata": {
      "needs_background": "light"
     },
     "output_type": "display_data"
    }
   ],
   "source": [
    "plt.scatter(X,y,c=\"red\",marker=\"x\")\n",
    "plt.xticks(np.arange(5,30,5))\n",
    "plt.yticks(np.arange(-5,30,5))\n",
    "plt.plot(X_test,y_pred,c=\"g\")\n",
    "plt.title(\"Population of City(in 10000s) v/s Profit(in $10000)\")\n",
    "plt.xlabel(\"Population of City(in 10000s)\")\n",
    "plt.ylabel(\"Profit(in $10000)\")\n",
    "\n",
    "plt.show()"
   ]
  },
  {
   "cell_type": "code",
   "execution_count": 35,
   "id": "c6ef87f0",
   "metadata": {},
   "outputs": [
    {
     "data": {
      "text/plain": [
       "1.1681319236596563"
      ]
     },
     "execution_count": 35,
     "metadata": {},
     "output_type": "execute_result"
    }
   ],
   "source": [
    "float(linearRegression.coef_)"
   ]
  },
  {
   "cell_type": "code",
   "execution_count": 36,
   "id": "1c2352ac",
   "metadata": {},
   "outputs": [
    {
     "data": {
      "text/plain": [
       "-3.623261184834405"
      ]
     },
     "execution_count": 36,
     "metadata": {},
     "output_type": "execute_result"
    }
   ],
   "source": [
    "float(linearRegression.intercept_)"
   ]
  },
  {
   "cell_type": "code",
   "execution_count": 37,
   "id": "0e4f7f93",
   "metadata": {},
   "outputs": [
    {
     "name": "stdout",
     "output_type": "stream",
     "text": [
      "The weights from using inbuilt Linear Regression Model: \n",
      " [[-3.62326118]\n",
      " [ 1.16813192]]\n"
     ]
    }
   ],
   "source": [
    "weights_linearRegression = np.zeros((X.shape[1]+1,1))\n",
    "\n",
    "weights_linearRegression[0] = float(linearRegression.intercept_)\n",
    "weights_linearRegression[1] = float(linearRegression.coef_)\n",
    "\n",
    "print(\"The weights from using inbuilt Linear Regression Model:\",\"\\n\",weights_linearRegression)"
   ]
  },
  {
   "cell_type": "code",
   "execution_count": 38,
   "id": "74074ad7",
   "metadata": {},
   "outputs": [
    {
     "name": "stdout",
     "output_type": "stream",
     "text": [
      "The weights from using inbuilt Linear Regression Model: \n",
      " [[-3.62326118]\n",
      " [ 1.16813192]]\n",
      "Weights from Normal Equation: \n",
      " [[-3.89578088]\n",
      " [ 1.19303364]]\n",
      "Weights from Gradient Descent: \n",
      " [[-3.24140214]\n",
      " [ 1.1272942 ]]\n"
     ]
    }
   ],
   "source": [
    "print(\"The weights from using inbuilt Linear Regression Model:\",\"\\n\",weights_linearRegression)\n",
    "print(\"Weights from Normal Equation:\",\"\\n\",weight_nrml)\n",
    "print(\"Weights from Gradient Descent:\",\"\\n\",final_weights)"
   ]
  },
  {
   "cell_type": "markdown",
   "id": "610afb49",
   "metadata": {},
   "source": [
    "## Comparing above models "
   ]
  },
  {
   "cell_type": "code",
   "execution_count": 39,
   "id": "c53ab24c",
   "metadata": {},
   "outputs": [
    {
     "data": {
      "image/png": "[encoded data removed]",
      "text/plain": [
       "<Figure size 432x288 with 1 Axes>"
      ]
     },
     "metadata": {
      "needs_background": "light"
     },
     "output_type": "display_data"
    }
   ],
   "source": [
    "#comparing the weights by plotting them along with data w.r.t Normal equation, sklearn Linear regression, \n",
    "#built from scratch Model\n",
    "\n",
    "#Visualize the dataset w.r.t independent(input) variables and output variables(dependent variables)\n",
    "plt.scatter(X,y,c=\"red\",marker=\"x\")\n",
    "plt.xticks(np.arange(5,30,5))\n",
    "plt.yticks(np.arange(-5,30,5))\n",
    "\n",
    "#plot weights from Model built from Scratch\n",
    "x_values = [i for i in range(30)]\n",
    "y_values = [x*final_weights[1] + final_weights[0] for x in x_values]\n",
    "plt.plot(x_values,y_values,c=\"green\")\n",
    "\n",
    "#Plot weights from Normal Equation\n",
    "y_values_nrml = [x*weight_nrml[1] + weight_nrml[0] for x in x_values]\n",
    "plt.plot(x_values,y_values_nrml,c=\"orange\")\n",
    "\n",
    "#Plot weights from In-built model\n",
    "y_values_sklearn = [x*weights_linearRegression[1] + weights_linearRegression[0] for x in x_values]\n",
    "plt.plot(x_values,y_values_sklearn,c=\"brown\")\n",
    "\n",
    "plt.title(\"Population of City(in 10000s) v/s Profit(in $10000)\")\n",
    "plt.xlabel(\"Population of City(in 10000s)\")\n",
    "plt.ylabel(\"Profit(in $10000)\")\n",
    "plt.legend([\"Scratch Model\", \"Normal Eqn Model\",\"Sklearn Lib Model\"], loc =\"lower right\")\n",
    "\n",
    "plt.show()\n",
    "\n",
    "\n"
   ]
  }
 ],
 "metadata": {
  "kernelspec": {
   "display_name": "Python 3",
   "language": "python",
   "name": "python3"
  },
  "language_info": {
   "codemirror_mode": {
    "name": "ipython",
    "version": 3
   },
   "file_extension": ".py",
   "mimetype": "text/x-python",
   "name": "python",
   "nbconvert_exporter": "python",
   "pygments_lexer": "ipython3",
   "version": "3.8.8"
  }
 },
 "nbformat": 4,
 "nbformat_minor": 5
}
